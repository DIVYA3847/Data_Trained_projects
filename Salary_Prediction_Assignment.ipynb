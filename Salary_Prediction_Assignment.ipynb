{
 "cells": [
  {
   "cell_type": "code",
   "execution_count": 1,
   "id": "1fe7a89f",
   "metadata": {},
   "outputs": [],
   "source": [
    "import pandas as pd\n",
    "import numpy as np\n",
    "import matplotlib.pyplot as plt\n",
    "import seaborn as sns\n",
    "import warnings\n",
    "warnings.filterwarnings('ignore')\n",
    "%matplotlib inline"
   ]
  },
  {
   "cell_type": "code",
   "execution_count": 3,
   "id": "3d88bd48",
   "metadata": {},
   "outputs": [],
   "source": [
    "url = \"https://raw.githubusercontent.com/dsrscientist/dataset3/main/Salaries.csv\""
   ]
  },
  {
   "cell_type": "code",
   "execution_count": 6,
   "id": "193e5662",
   "metadata": {},
   "outputs": [
    {
     "data": {
      "text/html": [
       "<div>\n",
       "<style scoped>\n",
       "    .dataframe tbody tr th:only-of-type {\n",
       "        vertical-align: middle;\n",
       "    }\n",
       "\n",
       "    .dataframe tbody tr th {\n",
       "        vertical-align: top;\n",
       "    }\n",
       "\n",
       "    .dataframe thead th {\n",
       "        text-align: right;\n",
       "    }\n",
       "</style>\n",
       "<table border=\"1\" class=\"dataframe\">\n",
       "  <thead>\n",
       "    <tr style=\"text-align: right;\">\n",
       "      <th></th>\n",
       "      <th>rank</th>\n",
       "      <th>discipline</th>\n",
       "      <th>yrs.since.phd</th>\n",
       "      <th>yrs.service</th>\n",
       "      <th>sex</th>\n",
       "      <th>salary</th>\n",
       "    </tr>\n",
       "  </thead>\n",
       "  <tbody>\n",
       "    <tr>\n",
       "      <th>0</th>\n",
       "      <td>Prof</td>\n",
       "      <td>B</td>\n",
       "      <td>19</td>\n",
       "      <td>18</td>\n",
       "      <td>Male</td>\n",
       "      <td>139750</td>\n",
       "    </tr>\n",
       "    <tr>\n",
       "      <th>1</th>\n",
       "      <td>Prof</td>\n",
       "      <td>B</td>\n",
       "      <td>20</td>\n",
       "      <td>16</td>\n",
       "      <td>Male</td>\n",
       "      <td>173200</td>\n",
       "    </tr>\n",
       "    <tr>\n",
       "      <th>2</th>\n",
       "      <td>AsstProf</td>\n",
       "      <td>B</td>\n",
       "      <td>4</td>\n",
       "      <td>3</td>\n",
       "      <td>Male</td>\n",
       "      <td>79750</td>\n",
       "    </tr>\n",
       "    <tr>\n",
       "      <th>3</th>\n",
       "      <td>Prof</td>\n",
       "      <td>B</td>\n",
       "      <td>45</td>\n",
       "      <td>39</td>\n",
       "      <td>Male</td>\n",
       "      <td>115000</td>\n",
       "    </tr>\n",
       "    <tr>\n",
       "      <th>4</th>\n",
       "      <td>Prof</td>\n",
       "      <td>B</td>\n",
       "      <td>40</td>\n",
       "      <td>41</td>\n",
       "      <td>Male</td>\n",
       "      <td>141500</td>\n",
       "    </tr>\n",
       "  </tbody>\n",
       "</table>\n",
       "</div>"
      ],
      "text/plain": [
       "       rank discipline  yrs.since.phd  yrs.service   sex  salary\n",
       "0      Prof          B             19           18  Male  139750\n",
       "1      Prof          B             20           16  Male  173200\n",
       "2  AsstProf          B              4            3  Male   79750\n",
       "3      Prof          B             45           39  Male  115000\n",
       "4      Prof          B             40           41  Male  141500"
      ]
     },
     "execution_count": 6,
     "metadata": {},
     "output_type": "execute_result"
    }
   ],
   "source": [
    "df0 = pd.read_csv(url)\n",
    "df0.head()"
   ]
  },
  {
   "cell_type": "code",
   "execution_count": 7,
   "id": "bc708b2a",
   "metadata": {},
   "outputs": [
    {
     "data": {
      "text/html": [
       "<div>\n",
       "<style scoped>\n",
       "    .dataframe tbody tr th:only-of-type {\n",
       "        vertical-align: middle;\n",
       "    }\n",
       "\n",
       "    .dataframe tbody tr th {\n",
       "        vertical-align: top;\n",
       "    }\n",
       "\n",
       "    .dataframe thead th {\n",
       "        text-align: right;\n",
       "    }\n",
       "</style>\n",
       "<table border=\"1\" class=\"dataframe\">\n",
       "  <thead>\n",
       "    <tr style=\"text-align: right;\">\n",
       "      <th></th>\n",
       "      <th>yrs.since.phd</th>\n",
       "      <th>yrs.service</th>\n",
       "      <th>salary</th>\n",
       "    </tr>\n",
       "  </thead>\n",
       "  <tbody>\n",
       "    <tr>\n",
       "      <th>count</th>\n",
       "      <td>397.000000</td>\n",
       "      <td>397.000000</td>\n",
       "      <td>397.000000</td>\n",
       "    </tr>\n",
       "    <tr>\n",
       "      <th>mean</th>\n",
       "      <td>22.314861</td>\n",
       "      <td>17.614610</td>\n",
       "      <td>113706.458438</td>\n",
       "    </tr>\n",
       "    <tr>\n",
       "      <th>std</th>\n",
       "      <td>12.887003</td>\n",
       "      <td>13.006024</td>\n",
       "      <td>30289.038695</td>\n",
       "    </tr>\n",
       "    <tr>\n",
       "      <th>min</th>\n",
       "      <td>1.000000</td>\n",
       "      <td>0.000000</td>\n",
       "      <td>57800.000000</td>\n",
       "    </tr>\n",
       "    <tr>\n",
       "      <th>25%</th>\n",
       "      <td>12.000000</td>\n",
       "      <td>7.000000</td>\n",
       "      <td>91000.000000</td>\n",
       "    </tr>\n",
       "    <tr>\n",
       "      <th>50%</th>\n",
       "      <td>21.000000</td>\n",
       "      <td>16.000000</td>\n",
       "      <td>107300.000000</td>\n",
       "    </tr>\n",
       "    <tr>\n",
       "      <th>75%</th>\n",
       "      <td>32.000000</td>\n",
       "      <td>27.000000</td>\n",
       "      <td>134185.000000</td>\n",
       "    </tr>\n",
       "    <tr>\n",
       "      <th>max</th>\n",
       "      <td>56.000000</td>\n",
       "      <td>60.000000</td>\n",
       "      <td>231545.000000</td>\n",
       "    </tr>\n",
       "  </tbody>\n",
       "</table>\n",
       "</div>"
      ],
      "text/plain": [
       "       yrs.since.phd  yrs.service         salary\n",
       "count     397.000000   397.000000     397.000000\n",
       "mean       22.314861    17.614610  113706.458438\n",
       "std        12.887003    13.006024   30289.038695\n",
       "min         1.000000     0.000000   57800.000000\n",
       "25%        12.000000     7.000000   91000.000000\n",
       "50%        21.000000    16.000000  107300.000000\n",
       "75%        32.000000    27.000000  134185.000000\n",
       "max        56.000000    60.000000  231545.000000"
      ]
     },
     "execution_count": 7,
     "metadata": {},
     "output_type": "execute_result"
    }
   ],
   "source": [
    "df0.describe()"
   ]
  },
  {
   "cell_type": "code",
   "execution_count": 8,
   "id": "827d71e9",
   "metadata": {},
   "outputs": [
    {
     "name": "stdout",
     "output_type": "stream",
     "text": [
      "<class 'pandas.core.frame.DataFrame'>\n",
      "RangeIndex: 397 entries, 0 to 396\n",
      "Data columns (total 6 columns):\n",
      " #   Column         Non-Null Count  Dtype \n",
      "---  ------         --------------  ----- \n",
      " 0   rank           397 non-null    object\n",
      " 1   discipline     397 non-null    object\n",
      " 2   yrs.since.phd  397 non-null    int64 \n",
      " 3   yrs.service    397 non-null    int64 \n",
      " 4   sex            397 non-null    object\n",
      " 5   salary         397 non-null    int64 \n",
      "dtypes: int64(3), object(3)\n",
      "memory usage: 18.7+ KB\n"
     ]
    }
   ],
   "source": [
    "df0.info()"
   ]
  },
  {
   "cell_type": "markdown",
   "id": "1f6b0dab",
   "metadata": {},
   "source": [
    "# Data Cleaning, filling null values if any"
   ]
  },
  {
   "cell_type": "code",
   "execution_count": 9,
   "id": "a8d4e589",
   "metadata": {},
   "outputs": [],
   "source": [
    "df0.rename(columns={'yrs.since.phd': 'yrs_since_phd', 'yrs.service': 'yrs_service'}, inplace=True)"
   ]
  },
  {
   "cell_type": "code",
   "execution_count": 10,
   "id": "eb11b962",
   "metadata": {},
   "outputs": [
    {
     "data": {
      "text/plain": [
       "0"
      ]
     },
     "execution_count": 10,
     "metadata": {},
     "output_type": "execute_result"
    }
   ],
   "source": [
    "df0.isna().sum().sum()"
   ]
  },
  {
   "cell_type": "raw",
   "id": "299b3e64",
   "metadata": {},
   "source": [
    "## No missing Values"
   ]
  },
  {
   "cell_type": "code",
   "execution_count": 11,
   "id": "7efcc8da",
   "metadata": {},
   "outputs": [
    {
     "data": {
      "text/plain": [
       "Prof         266\n",
       "AsstProf      67\n",
       "AssocProf     64\n",
       "Name: rank, dtype: int64"
      ]
     },
     "execution_count": 11,
     "metadata": {},
     "output_type": "execute_result"
    }
   ],
   "source": [
    "df0['rank'].value_counts()"
   ]
  },
  {
   "cell_type": "code",
   "execution_count": 12,
   "id": "911df4c5",
   "metadata": {},
   "outputs": [
    {
     "data": {
      "text/plain": [
       "B    216\n",
       "A    181\n",
       "Name: discipline, dtype: int64"
      ]
     },
     "execution_count": 12,
     "metadata": {},
     "output_type": "execute_result"
    }
   ],
   "source": [
    "df0['discipline'].value_counts()"
   ]
  },
  {
   "cell_type": "code",
   "execution_count": 13,
   "id": "3a3b25cd",
   "metadata": {},
   "outputs": [
    {
     "data": {
      "text/plain": [
       "Male      358\n",
       "Female     39\n",
       "Name: sex, dtype: int64"
      ]
     },
     "execution_count": 13,
     "metadata": {},
     "output_type": "execute_result"
    }
   ],
   "source": [
    "df0['sex'].value_counts()"
   ]
  },
  {
   "cell_type": "code",
   "execution_count": 14,
   "id": "6616e89b",
   "metadata": {},
   "outputs": [],
   "source": [
    "df1 = df0.copy()"
   ]
  },
  {
   "cell_type": "markdown",
   "id": "e4aa44fe",
   "metadata": {},
   "source": [
    "# Encoding"
   ]
  },
  {
   "cell_type": "code",
   "execution_count": 15,
   "id": "a21d260d",
   "metadata": {},
   "outputs": [],
   "source": [
    "rank_dict = {'AsstProf': 1, 'AssocProf': 2, 'Prof': 3}\n",
    "\n",
    "df1['rank'] = df1['rank'].map(rank_dict)"
   ]
  },
  {
   "cell_type": "code",
   "execution_count": 16,
   "id": "ddb03f35",
   "metadata": {},
   "outputs": [],
   "source": [
    "df1 = pd.get_dummies(df1, drop_first=True)"
   ]
  },
  {
   "cell_type": "code",
   "execution_count": 17,
   "id": "5ea0e83f",
   "metadata": {},
   "outputs": [],
   "source": [
    "df2 = df1.copy()"
   ]
  },
  {
   "cell_type": "code",
   "execution_count": 18,
   "id": "cff9d530",
   "metadata": {},
   "outputs": [],
   "source": [
    "df2 = df1.copy()"
   ]
  },
  {
   "cell_type": "code",
   "execution_count": 19,
   "id": "3aebf36a",
   "metadata": {},
   "outputs": [
    {
     "data": {
      "text/html": [
       "<div>\n",
       "<style scoped>\n",
       "    .dataframe tbody tr th:only-of-type {\n",
       "        vertical-align: middle;\n",
       "    }\n",
       "\n",
       "    .dataframe tbody tr th {\n",
       "        vertical-align: top;\n",
       "    }\n",
       "\n",
       "    .dataframe thead th {\n",
       "        text-align: right;\n",
       "    }\n",
       "</style>\n",
       "<table border=\"1\" class=\"dataframe\">\n",
       "  <thead>\n",
       "    <tr style=\"text-align: right;\">\n",
       "      <th></th>\n",
       "      <th>rank</th>\n",
       "      <th>yrs_since_phd</th>\n",
       "      <th>yrs_service</th>\n",
       "      <th>salary</th>\n",
       "      <th>discipline_B</th>\n",
       "      <th>sex_Male</th>\n",
       "    </tr>\n",
       "  </thead>\n",
       "  <tbody>\n",
       "    <tr>\n",
       "      <th>0</th>\n",
       "      <td>3</td>\n",
       "      <td>19</td>\n",
       "      <td>18</td>\n",
       "      <td>139750</td>\n",
       "      <td>1</td>\n",
       "      <td>1</td>\n",
       "    </tr>\n",
       "    <tr>\n",
       "      <th>1</th>\n",
       "      <td>3</td>\n",
       "      <td>20</td>\n",
       "      <td>16</td>\n",
       "      <td>173200</td>\n",
       "      <td>1</td>\n",
       "      <td>1</td>\n",
       "    </tr>\n",
       "    <tr>\n",
       "      <th>2</th>\n",
       "      <td>1</td>\n",
       "      <td>4</td>\n",
       "      <td>3</td>\n",
       "      <td>79750</td>\n",
       "      <td>1</td>\n",
       "      <td>1</td>\n",
       "    </tr>\n",
       "    <tr>\n",
       "      <th>3</th>\n",
       "      <td>3</td>\n",
       "      <td>45</td>\n",
       "      <td>39</td>\n",
       "      <td>115000</td>\n",
       "      <td>1</td>\n",
       "      <td>1</td>\n",
       "    </tr>\n",
       "    <tr>\n",
       "      <th>4</th>\n",
       "      <td>3</td>\n",
       "      <td>40</td>\n",
       "      <td>41</td>\n",
       "      <td>141500</td>\n",
       "      <td>1</td>\n",
       "      <td>1</td>\n",
       "    </tr>\n",
       "  </tbody>\n",
       "</table>\n",
       "</div>"
      ],
      "text/plain": [
       "   rank  yrs_since_phd  yrs_service  salary  discipline_B  sex_Male\n",
       "0     3             19           18  139750             1         1\n",
       "1     3             20           16  173200             1         1\n",
       "2     1              4            3   79750             1         1\n",
       "3     3             45           39  115000             1         1\n",
       "4     3             40           41  141500             1         1"
      ]
     },
     "execution_count": 19,
     "metadata": {},
     "output_type": "execute_result"
    }
   ],
   "source": [
    "df2.head()"
   ]
  },
  {
   "cell_type": "code",
   "execution_count": 20,
   "id": "64995ba1",
   "metadata": {},
   "outputs": [
    {
     "data": {
      "text/plain": [
       "(397, 6)"
      ]
     },
     "execution_count": 20,
     "metadata": {},
     "output_type": "execute_result"
    }
   ],
   "source": [
    "df2.shape"
   ]
  },
  {
   "cell_type": "code",
   "execution_count": 21,
   "id": "c60f9dc1",
   "metadata": {},
   "outputs": [
    {
     "data": {
      "text/html": [
       "<div>\n",
       "<style scoped>\n",
       "    .dataframe tbody tr th:only-of-type {\n",
       "        vertical-align: middle;\n",
       "    }\n",
       "\n",
       "    .dataframe tbody tr th {\n",
       "        vertical-align: top;\n",
       "    }\n",
       "\n",
       "    .dataframe thead th {\n",
       "        text-align: right;\n",
       "    }\n",
       "</style>\n",
       "<table border=\"1\" class=\"dataframe\">\n",
       "  <thead>\n",
       "    <tr style=\"text-align: right;\">\n",
       "      <th></th>\n",
       "      <th>rank</th>\n",
       "      <th>yrs_since_phd</th>\n",
       "      <th>yrs_service</th>\n",
       "      <th>salary</th>\n",
       "      <th>discipline_B</th>\n",
       "      <th>sex_Male</th>\n",
       "    </tr>\n",
       "  </thead>\n",
       "  <tbody>\n",
       "    <tr>\n",
       "      <th>count</th>\n",
       "      <td>397.000000</td>\n",
       "      <td>397.000000</td>\n",
       "      <td>397.000000</td>\n",
       "      <td>397.000000</td>\n",
       "      <td>397.000000</td>\n",
       "      <td>397.000000</td>\n",
       "    </tr>\n",
       "    <tr>\n",
       "      <th>mean</th>\n",
       "      <td>2.501259</td>\n",
       "      <td>22.314861</td>\n",
       "      <td>17.614610</td>\n",
       "      <td>113706.458438</td>\n",
       "      <td>0.544081</td>\n",
       "      <td>0.901763</td>\n",
       "    </tr>\n",
       "    <tr>\n",
       "      <th>std</th>\n",
       "      <td>0.767472</td>\n",
       "      <td>12.887003</td>\n",
       "      <td>13.006024</td>\n",
       "      <td>30289.038695</td>\n",
       "      <td>0.498682</td>\n",
       "      <td>0.298010</td>\n",
       "    </tr>\n",
       "    <tr>\n",
       "      <th>min</th>\n",
       "      <td>1.000000</td>\n",
       "      <td>1.000000</td>\n",
       "      <td>0.000000</td>\n",
       "      <td>57800.000000</td>\n",
       "      <td>0.000000</td>\n",
       "      <td>0.000000</td>\n",
       "    </tr>\n",
       "    <tr>\n",
       "      <th>25%</th>\n",
       "      <td>2.000000</td>\n",
       "      <td>12.000000</td>\n",
       "      <td>7.000000</td>\n",
       "      <td>91000.000000</td>\n",
       "      <td>0.000000</td>\n",
       "      <td>1.000000</td>\n",
       "    </tr>\n",
       "    <tr>\n",
       "      <th>50%</th>\n",
       "      <td>3.000000</td>\n",
       "      <td>21.000000</td>\n",
       "      <td>16.000000</td>\n",
       "      <td>107300.000000</td>\n",
       "      <td>1.000000</td>\n",
       "      <td>1.000000</td>\n",
       "    </tr>\n",
       "    <tr>\n",
       "      <th>75%</th>\n",
       "      <td>3.000000</td>\n",
       "      <td>32.000000</td>\n",
       "      <td>27.000000</td>\n",
       "      <td>134185.000000</td>\n",
       "      <td>1.000000</td>\n",
       "      <td>1.000000</td>\n",
       "    </tr>\n",
       "    <tr>\n",
       "      <th>max</th>\n",
       "      <td>3.000000</td>\n",
       "      <td>56.000000</td>\n",
       "      <td>60.000000</td>\n",
       "      <td>231545.000000</td>\n",
       "      <td>1.000000</td>\n",
       "      <td>1.000000</td>\n",
       "    </tr>\n",
       "  </tbody>\n",
       "</table>\n",
       "</div>"
      ],
      "text/plain": [
       "             rank  yrs_since_phd  yrs_service         salary  discipline_B  \\\n",
       "count  397.000000     397.000000   397.000000     397.000000    397.000000   \n",
       "mean     2.501259      22.314861    17.614610  113706.458438      0.544081   \n",
       "std      0.767472      12.887003    13.006024   30289.038695      0.498682   \n",
       "min      1.000000       1.000000     0.000000   57800.000000      0.000000   \n",
       "25%      2.000000      12.000000     7.000000   91000.000000      0.000000   \n",
       "50%      3.000000      21.000000    16.000000  107300.000000      1.000000   \n",
       "75%      3.000000      32.000000    27.000000  134185.000000      1.000000   \n",
       "max      3.000000      56.000000    60.000000  231545.000000      1.000000   \n",
       "\n",
       "         sex_Male  \n",
       "count  397.000000  \n",
       "mean     0.901763  \n",
       "std      0.298010  \n",
       "min      0.000000  \n",
       "25%      1.000000  \n",
       "50%      1.000000  \n",
       "75%      1.000000  \n",
       "max      1.000000  "
      ]
     },
     "execution_count": 21,
     "metadata": {},
     "output_type": "execute_result"
    }
   ],
   "source": [
    "df2.describe()"
   ]
  },
  {
   "cell_type": "markdown",
   "id": "3c149148",
   "metadata": {},
   "source": [
    "# Initial predictions using linear models"
   ]
  },
  {
   "cell_type": "markdown",
   "id": "f7f04fe2",
   "metadata": {},
   "source": [
    "# Using LinearRegression() & NO Standardisation"
   ]
  },
  {
   "cell_type": "code",
   "execution_count": 22,
   "id": "6d7b217e",
   "metadata": {},
   "outputs": [
    {
     "name": "stdout",
     "output_type": "stream",
     "text": [
      "r2 score :  0.6213076853231545\n",
      "MAE :  12978.266449141543\n",
      "MSE :  261241497.95150915\n",
      "SMSE :  16162.966867240344\n",
      "-----------\n",
      "-----------\n",
      "training score :  0.40840562786984536\n",
      "testing score :  0.6213076853231545\n"
     ]
    }
   ],
   "source": [
    "y = df2['salary']\n",
    "x = df2.drop(['salary'], axis=1)\n",
    "\n",
    "x_train, x_test, y_train, y_test = train_test_split(x, y, test_size=0.2, random_state=400)\n",
    "lin_reg = LinearRegression()\n",
    "\n",
    "\n",
    "lin_reg.fit(x_train, y_train)\n",
    "\n",
    "y_pred = lin_reg.predict(x_test)\n",
    "\n",
    "\n",
    "print('r2 score : ', r2_score(y_test, y_pred))\n",
    "print('MAE : ', mean_absolute_error(y_test, y_pred))\n",
    "print('MSE : ', mean_squared_error(y_test, y_pred))\n",
    "print('SMSE : ', np.sqrt(mean_squared_error(y_test, y_pred)))\n",
    "\n",
    "print(\"-----------\")\n",
    "print(\"-----------\")\n",
    "\n",
    "print('training score : ', lin_reg.score(x_train, y_train))\n",
    "print('testing score : ', lin_reg.score(x_test, y_test))"
   ]
  },
  {
   "cell_type": "markdown",
   "id": "6d257f19",
   "metadata": {},
   "source": [
    "# Using Ridge() & NO Standardisation"
   ]
  },
  {
   "cell_type": "code",
   "execution_count": 23,
   "id": "ad86bd13",
   "metadata": {},
   "outputs": [
    {
     "name": "stdout",
     "output_type": "stream",
     "text": [
      "r2 score :  0.620696406875483\n",
      "MAE :  12992.958012425177\n",
      "MSE :  261663189.3646857\n",
      "SMSE :  16176.006595098981\n",
      "-----------\n",
      "-----------\n",
      "training score :  0.4083772218315569\n",
      "testing score :  0.620696406875483\n"
     ]
    }
   ],
   "source": [
    "y = df2['salary']\n",
    "x = df2.drop(['salary'], axis=1)\n",
    "\n",
    "x_train, x_test, y_train, y_test = train_test_split(x, y, test_size=0.2, random_state=400)\n",
    "lin_reg = Ridge()\n",
    "\n",
    "\n",
    "lin_reg.fit(x_train, y_train)\n",
    "\n",
    "y_pred = lin_reg.predict(x_test)\n",
    "\n",
    "\n",
    "print('r2 score : ', r2_score(y_test, y_pred))\n",
    "print('MAE : ', mean_absolute_error(y_test, y_pred))\n",
    "print('MSE : ', mean_squared_error(y_test, y_pred))\n",
    "print('SMSE : ', np.sqrt(mean_squared_error(y_test, y_pred)))\n",
    "\n",
    "\n",
    "print(\"-----------\")\n",
    "print(\"-----------\")\n",
    "\n",
    "print('training score : ', lin_reg.score(x_train, y_train))\n",
    "print('testing score : ', lin_reg.score(x_test, y_test))"
   ]
  },
  {
   "cell_type": "markdown",
   "id": "0d06af61",
   "metadata": {},
   "source": [
    "# Using BayesianRidge() & NO Standardisation"
   ]
  },
  {
   "cell_type": "code",
   "execution_count": 24,
   "id": "a2d93940",
   "metadata": {},
   "outputs": [
    {
     "name": "stdout",
     "output_type": "stream",
     "text": [
      "r2 score :  0.6184709618467633\n",
      "MAE :  13035.379077093017\n",
      "MSE :  263198416.17119637\n",
      "SMSE :  16223.391019487768\n",
      "-----------\n",
      "-----------\n",
      "training score :  0.40799514366765954\n",
      "testing score :  0.6184709618467633\n"
     ]
    }
   ],
   "source": [
    "y = df2['salary']\n",
    "x = df2.drop(['salary'], axis=1)\n",
    "\n",
    "x_train, x_test, y_train, y_test = train_test_split(x, y, test_size=0.2, random_state=400)\n",
    "lin_reg = BayesianRidge()\n",
    "\n",
    "\n",
    "lin_reg.fit(x_train, y_train)\n",
    "\n",
    "y_pred = lin_reg.predict(x_test)\n",
    "\n",
    "\n",
    "print('r2 score : ', r2_score(y_test, y_pred))\n",
    "print('MAE : ', mean_absolute_error(y_test, y_pred))\n",
    "print('MSE : ', mean_squared_error(y_test, y_pred))\n",
    "print('SMSE : ', np.sqrt(mean_squared_error(y_test, y_pred)))\n",
    "\n",
    "\n",
    "print(\"-----------\")\n",
    "print(\"-----------\")\n",
    "\n",
    "print('training score : ', lin_reg.score(x_train, y_train))\n",
    "print('testing score : ', lin_reg.score(x_test, y_test))"
   ]
  },
  {
   "cell_type": "markdown",
   "id": "93bb604f",
   "metadata": {},
   "source": [
    "# checking tha data distribution.."
   ]
  },
  {
   "cell_type": "code",
   "execution_count": 25,
   "id": "965a2cca",
   "metadata": {},
   "outputs": [
    {
     "name": "stdout",
     "output_type": "stream",
     "text": [
      "0.29974153157458827\n"
     ]
    },
    {
     "data": {
      "text/plain": [
       "<AxesSubplot:ylabel='Frequency'>"
      ]
     },
     "execution_count": 25,
     "metadata": {},
     "output_type": "execute_result"
    },
    {
     "data": {
      "image/png": "[encoded data removed]",
      "text/plain": [
       "<Figure size 432x288 with 1 Axes>"
      ]
     },
     "metadata": {
      "needs_background": "light"
     },
     "output_type": "display_data"
    }
   ],
   "source": [
    "print(stat.skew(df2['yrs_since_phd']))\n",
    "df2['yrs_since_phd'].plot(kind=\"hist\")"
   ]
  },
  {
   "cell_type": "code",
   "execution_count": 26,
   "id": "227ac021",
   "metadata": {},
   "outputs": [
    {
     "name": "stdout",
     "output_type": "stream",
     "text": [
      "0.6481088240680349\n"
     ]
    },
    {
     "data": {
      "text/plain": [
       "<AxesSubplot:ylabel='Frequency'>"
      ]
     },
     "execution_count": 26,
     "metadata": {},
     "output_type": "execute_result"
    },
    {
     "data": {
      "image/png": "[encoded data removed]",
      "text/plain": [
       "<Figure size 432x288 with 1 Axes>"
      ]
     },
     "metadata": {
      "needs_background": "light"
     },
     "output_type": "display_data"
    }
   ],
   "source": [
    "print(stat.skew(df2['yrs_service']))\n",
    "df2['yrs_service'].plot(kind=\"hist\")"
   ]
  },
  {
   "cell_type": "code",
   "execution_count": 27,
   "id": "1cb1a1df",
   "metadata": {},
   "outputs": [
    {
     "name": "stdout",
     "output_type": "stream",
     "text": [
      "0.7118657337591157\n"
     ]
    },
    {
     "data": {
      "text/plain": [
       "<AxesSubplot:ylabel='Frequency'>"
      ]
     },
     "execution_count": 27,
     "metadata": {},
     "output_type": "execute_result"
    },
    {
     "data": {
      "image/png": "[encoded data removed]",
      "text/plain": [
       "<Figure size 432x288 with 1 Axes>"
      ]
     },
     "metadata": {
      "needs_background": "light"
     },
     "output_type": "display_data"
    }
   ],
   "source": [
    "print(stat.skew(df2['salary']))\n",
    "df2['salary'].plot(kind=\"hist\")"
   ]
  },
  {
   "cell_type": "code",
   "execution_count": 28,
   "id": "79fc36e4",
   "metadata": {},
   "outputs": [
    {
     "name": "stdout",
     "output_type": "stream",
     "text": [
      "0.7118657337591157\n"
     ]
    },
    {
     "data": {
      "text/plain": [
       "<AxesSubplot:ylabel='Frequency'>"
      ]
     },
     "execution_count": 28,
     "metadata": {},
     "output_type": "execute_result"
    },
    {
     "data": {
      "image/png": "[encoded data removed]",
      "text/plain": [
       "<Figure size 432x288 with 1 Axes>"
      ]
     },
     "metadata": {
      "needs_background": "light"
     },
     "output_type": "display_data"
    }
   ],
   "source": [
    "print(stat.skew(df2['salary']))\n",
    "df2['salary'].plot(kind=\"hist\")"
   ]
  },
  {
   "cell_type": "code",
   "execution_count": 29,
   "id": "95da56dd",
   "metadata": {},
   "outputs": [
    {
     "data": {
      "text/plain": [
       "<AxesSubplot:xlabel='yrs_since_phd', ylabel='salary'>"
      ]
     },
     "execution_count": 29,
     "metadata": {},
     "output_type": "execute_result"
    },
    {
     "data": {
      "image/png": "[encoded data removed]",
      "text/plain": [
       "<Figure size 432x288 with 1 Axes>"
      ]
     },
     "metadata": {
      "needs_background": "light"
     },
     "output_type": "display_data"
    }
   ],
   "source": [
    "sns.scatterplot(data = df2, x='yrs_since_phd', y='salary')"
   ]
  },
  {
   "cell_type": "code",
   "execution_count": 30,
   "id": "89b8c5dd",
   "metadata": {},
   "outputs": [
    {
     "data": {
      "text/plain": [
       "<AxesSubplot:xlabel='yrs_service', ylabel='salary'>"
      ]
     },
     "execution_count": 30,
     "metadata": {},
     "output_type": "execute_result"
    },
    {
     "data": {
      "image/png": "[encoded data removed]",
      "text/plain": [
       "<Figure size 432x288 with 1 Axes>"
      ]
     },
     "metadata": {
      "needs_background": "light"
     },
     "output_type": "display_data"
    }
   ],
   "source": [
    "sns.scatterplot(data = df2, x='yrs_service', y='salary')"
   ]
  },
  {
   "cell_type": "code",
   "execution_count": 31,
   "id": "74613478",
   "metadata": {},
   "outputs": [
    {
     "data": {
      "text/plain": [
       "<AxesSubplot:>"
      ]
     },
     "execution_count": 31,
     "metadata": {},
     "output_type": "execute_result"
    },
    {
     "data": {
      "image/png": "[encoded data removed]",
      "text/plain": [
       "<Figure size 432x288 with 2 Axes>"
      ]
     },
     "metadata": {
      "needs_background": "light"
     },
     "output_type": "display_data"
    }
   ],
   "source": [
    "# checking correlation with salary\n",
    "sns.heatmap(df2.corr(), annot=True)"
   ]
  },
  {
   "cell_type": "code",
   "execution_count": 32,
   "id": "e229415a",
   "metadata": {},
   "outputs": [
    {
     "name": "stdout",
     "output_type": "stream",
     "text": [
      "r2 score :  0.5275527310985958\n",
      "MAE :  14964.54399636577\n",
      "MSE :  325918502.8252404\n",
      "SMSE :  18053.213088678713\n",
      "-----------\n",
      "-----------\n",
      "training score :  0.3626201113364623\n",
      "testing score :  0.5275527310985958\n"
     ]
    }
   ],
   "source": [
    "## removing 'discipline column'\n",
    "y = df2['salary']\n",
    "x = df2.drop(['salary', 'discipline_B'], axis=1)\n",
    "\n",
    "x_train, x_test, y_train, y_test = train_test_split(x, y, test_size=0.2, random_state=400)\n",
    "lin_reg = Ridge()\n",
    "\n",
    "\n",
    "lin_reg.fit(x_train, y_train)\n",
    "\n",
    "y_pred = lin_reg.predict(x_test)\n",
    "\n",
    "\n",
    "print('r2 score : ', r2_score(y_test, y_pred))\n",
    "print('MAE : ', mean_absolute_error(y_test, y_pred))\n",
    "print('MSE : ', mean_squared_error(y_test, y_pred))\n",
    "print('SMSE : ', np.sqrt(mean_squared_error(y_test, y_pred)))\n",
    "\n",
    "\n",
    "print(\"-----------\")\n",
    "print(\"-----------\")\n",
    "\n",
    "print('training score : ', lin_reg.score(x_train, y_train))\n",
    "print('testing score : ', lin_reg.score(x_test, y_test))"
   ]
  },
  {
   "cell_type": "markdown",
   "id": "5207a3cc",
   "metadata": {},
   "source": [
    "from above it is observed that even if the 'discipline column' has very low corelation with salary - label, it has some affect on predictions, hence we cannot discard the discipline column.\n",
    "to improve predictions, lets use standardscaler/powertransformation\n",
    "Using BayesianRidge(), applying StandardScaler() on features & log transformation on target"
   ]
  },
  {
   "cell_type": "code",
   "execution_count": 33,
   "id": "a82a7f64",
   "metadata": {},
   "outputs": [
    {
     "name": "stdout",
     "output_type": "stream",
     "text": [
      "r2 score :  0.6378994930583136\n",
      "MAE :  12608.44406430713\n",
      "MSE :  249795612.89267135\n",
      "SMSE :  15804.923691453601\n",
      "-----------\n",
      "-----------\n",
      "training score :  0.4767213183648853\n",
      "testing score :  0.6921097126028206\n"
     ]
    }
   ],
   "source": [
    "y = df2['salary']\n",
    "x = df2.drop(['salary'], axis=1)\n",
    "\n",
    "scaler = StandardScaler()\n",
    "x1 = scaler.fit_transform(x)\n",
    "X = pd.DataFrame(x1, index = x.index, columns = x.columns)\n",
    "Y = np.log(y)\n",
    "\n",
    "\n",
    "\n",
    "x_train, x_test, y_train, y_test = train_test_split(X, Y, test_size=0.2, random_state=400)\n",
    "lin_reg = BayesianRidge()\n",
    "\n",
    "\n",
    "lin_reg.fit(x_train, y_train)\n",
    "\n",
    "y_pred = np.exp(lin_reg.predict(x_test))\n",
    "\n",
    "\n",
    "print('r2 score : ', r2_score(np.exp(y_test), y_pred))\n",
    "print('MAE : ', mean_absolute_error(np.exp(y_test), y_pred))\n",
    "print('MSE : ', mean_squared_error(np.exp(y_test), y_pred))\n",
    "print('SMSE : ', np.sqrt(mean_squared_error(np.exp(y_test), y_pred)))\n",
    "\n",
    "\n",
    "print(\"-----------\")\n",
    "print(\"-----------\")\n",
    "\n",
    "print('training score : ', lin_reg.score(x_train, y_train))\n",
    "print('testing score : ', lin_reg.score(x_test, y_test))"
   ]
  },
  {
   "cell_type": "markdown",
   "id": "fb0b05a2",
   "metadata": {},
   "source": [
    "# Using LinearRegression(), applying StandardScaler() on features & log transformation on target"
   ]
  },
  {
   "cell_type": "code",
   "execution_count": 34,
   "id": "b3d028ce",
   "metadata": {},
   "outputs": [
    {
     "name": "stdout",
     "output_type": "stream",
     "text": [
      "r2 score :  0.6410659115256694\n",
      "MAE :  12509.595242026075\n",
      "MSE :  247611254.0570313\n",
      "SMSE :  15735.66821132904\n",
      "-----------\n",
      "-----------\n",
      "training score :  0.4769731361936822\n",
      "testing score :  0.6950243683056851\n"
     ]
    }
   ],
   "source": [
    "y = df2['salary']\n",
    "x = df2.drop(['salary'], axis=1)\n",
    "\n",
    "scaler = StandardScaler()\n",
    "x1 = scaler.fit_transform(x)\n",
    "X = pd.DataFrame(x1, index = x.index, columns = x.columns)\n",
    "Y = np.log(y)\n",
    "\n",
    "\n",
    "\n",
    "x_train, x_test, y_train, y_test = train_test_split(X, Y, test_size=0.2, random_state=400)\n",
    "lin_reg = LinearRegression()\n",
    "\n",
    "\n",
    "lin_reg.fit(x_train, y_train)\n",
    "\n",
    "y_pred = np.exp(lin_reg.predict(x_test))\n",
    "\n",
    "\n",
    "print('r2 score : ', r2_score(np.exp(y_test), y_pred))\n",
    "print('MAE : ', mean_absolute_error(np.exp(y_test), y_pred))\n",
    "print('MSE : ', mean_squared_error(np.exp(y_test), y_pred))\n",
    "print('SMSE : ', np.sqrt(mean_squared_error(np.exp(y_test), y_pred)))\n",
    "\n",
    "\n",
    "\n",
    "print(\"-----------\")\n",
    "print(\"-----------\")\n",
    "\n",
    "print('training score : ', lin_reg.score(x_train, y_train))\n",
    "print('testing score : ', lin_reg.score(x_test, y_test))"
   ]
  },
  {
   "cell_type": "markdown",
   "id": "e8cf7db3",
   "metadata": {},
   "source": [
    "# Using LinearRegression(), applying PowerTransformer() on features & log transformation on target"
   ]
  },
  {
   "cell_type": "code",
   "execution_count": 36,
   "id": "c3761311",
   "metadata": {},
   "outputs": [
    {
     "name": "stdout",
     "output_type": "stream",
     "text": [
      "r2 score :  0.633975043517752\n",
      "MAE :  12677.113025791035\n",
      "MSE :  252502900.67453796\n",
      "SMSE :  15890.33985396593\n",
      "-----------\n",
      "-----------\n",
      "training score :  0.4811740510675492\n",
      "testing score :  0.6893069542962844\n"
     ]
    }
   ],
   "source": [
    "y = df2['salary']\n",
    "x = df2.drop(['salary'], axis=1)\n",
    "\n",
    "scaler = PowerTransformer()\n",
    "x1 = scaler.fit_transform(x)\n",
    "X = pd.DataFrame(x1, index = x.index, columns = x.columns)\n",
    "Y = np.log(y)\n",
    "\n",
    "\n",
    "\n",
    "x_train, x_test, y_train, y_test = train_test_split(X, Y, test_size=0.2, random_state=400)\n",
    "lin_reg = LinearRegression()\n",
    "\n",
    "\n",
    "lin_reg.fit(x_train, y_train)\n",
    "\n",
    "y_pred = np.exp(lin_reg.predict(x_test))\n",
    "\n",
    "\n",
    "print('r2 score : ', r2_score(np.exp(y_test), y_pred))\n",
    "print('MAE : ', mean_absolute_error(np.exp(y_test), y_pred))\n",
    "print('MSE : ', mean_squared_error(np.exp(y_test), y_pred))\n",
    "print('SMSE : ', np.sqrt(mean_squared_error(np.exp(y_test), y_pred)))\n",
    "\n",
    "\n",
    "print(\"-----------\")\n",
    "print(\"-----------\")\n",
    "\n",
    "print('training score : ', lin_reg.score(x_train, y_train))\n",
    "print('testing score : ', lin_reg.score(x_test, y_test))"
   ]
  },
  {
   "cell_type": "raw",
   "id": "89902a5a",
   "metadata": {},
   "source": [
    "Based on above iterations we found that, Using LinearRegression() model & applying PowerTransformer() on the feature & log transformation on target, yeild a r2_score of 63.4% which is highest in all the iterarations done."
   ]
  },
  {
   "cell_type": "code",
   "execution_count": 37,
   "id": "c6d818aa",
   "metadata": {},
   "outputs": [
    {
     "data": {
      "text/plain": [
       "<AxesSubplot:>"
      ]
     },
     "execution_count": 37,
     "metadata": {},
     "output_type": "execute_result"
    },
    {
     "data": {
      "image/png": "[encoded data removed]",
      "text/plain": [
       "<Figure size 432x288 with 2 Axes>"
      ]
     },
     "metadata": {
      "needs_background": "light"
     },
     "output_type": "display_data"
    }
   ],
   "source": [
    "for_corr = pd.concat([X, Y], axis = 1)\n",
    "sns.heatmap(for_corr.corr(), annot=True)"
   ]
  },
  {
   "cell_type": "markdown",
   "id": "58ec815c",
   "metadata": {},
   "source": [
    "# removing sex column.. & studying impact on the predictions."
   ]
  },
  {
   "cell_type": "code",
   "execution_count": 38,
   "id": "d071985c",
   "metadata": {},
   "outputs": [
    {
     "name": "stdout",
     "output_type": "stream",
     "text": [
      "r2 score :  0.6315704849856726\n",
      "MAE :  12874.521081868148\n",
      "MSE :  254161689.21733838\n",
      "SMSE :  15942.449285393333\n",
      "-----------\n",
      "-----------\n",
      "training score :  0.4786741972398182\n",
      "testing score :  0.6877452610728796\n"
     ]
    }
   ],
   "source": [
    "y = df2['salary']\n",
    "x = df2.drop(['salary', 'sex_Male'], axis=1)\n",
    "\n",
    "scaler = PowerTransformer()\n",
    "x1 = scaler.fit_transform(x)\n",
    "X = pd.DataFrame(x1, index = x.index, columns = x.columns)\n",
    "Y = np.log(y)\n",
    "\n",
    "\n",
    "\n",
    "x_train, x_test, y_train, y_test = train_test_split(X, Y, test_size=0.2, random_state=400)\n",
    "lin_reg = LinearRegression()\n",
    "\n",
    "\n",
    "lin_reg.fit(x_train, y_train)\n",
    "\n",
    "y_pred = np.exp(lin_reg.predict(x_test))\n",
    "\n",
    "\n",
    "print('r2 score : ', r2_score(np.exp(y_test), y_pred))\n",
    "print('MAE : ', mean_absolute_error(np.exp(y_test), y_pred))\n",
    "print('MSE : ', mean_squared_error(np.exp(y_test), y_pred))\n",
    "print('SMSE : ', np.sqrt(mean_squared_error(np.exp(y_test), y_pred)))\n",
    "\n",
    "\n",
    "print(\"-----------\")\n",
    "print(\"-----------\")\n",
    "\n",
    "print('training score : ', lin_reg.score(x_train, y_train))\n",
    "print('testing score : ', lin_reg.score(x_test, y_test))"
   ]
  },
  {
   "cell_type": "markdown",
   "id": "f83b27ac",
   "metadata": {},
   "source": [
    "# Checking distribution after transformation.."
   ]
  },
  {
   "cell_type": "code",
   "execution_count": 39,
   "id": "4246fe4d",
   "metadata": {},
   "outputs": [
    {
     "name": "stdout",
     "output_type": "stream",
     "text": [
      "-0.1322553119071545\n"
     ]
    },
    {
     "data": {
      "text/plain": [
       "<AxesSubplot:ylabel='Frequency'>"
      ]
     },
     "execution_count": 39,
     "metadata": {},
     "output_type": "execute_result"
    },
    {
     "data": {
      "image/png": "[encoded data removed]",
      "text/plain": [
       "<Figure size 432x288 with 1 Axes>"
      ]
     },
     "metadata": {
      "needs_background": "light"
     },
     "output_type": "display_data"
    }
   ],
   "source": [
    "print(stat.skew(X['yrs_since_phd']))\n",
    "X['yrs_since_phd'].plot(kind=\"hist\")"
   ]
  },
  {
   "cell_type": "code",
   "execution_count": 40,
   "id": "da5c6000",
   "metadata": {},
   "outputs": [
    {
     "name": "stdout",
     "output_type": "stream",
     "text": [
      "-0.1216894934107749\n"
     ]
    },
    {
     "data": {
      "text/plain": [
       "<AxesSubplot:ylabel='Frequency'>"
      ]
     },
     "execution_count": 40,
     "metadata": {},
     "output_type": "execute_result"
    },
    {
     "data": {
      "image/png": "[encoded data removed]",
      "text/plain": [
       "<Figure size 432x288 with 1 Axes>"
      ]
     },
     "metadata": {
      "needs_background": "light"
     },
     "output_type": "display_data"
    }
   ],
   "source": [
    "print(stat.skew(X['yrs_service']))\n",
    "X['yrs_service'].plot(kind=\"hist\")"
   ]
  },
  {
   "cell_type": "code",
   "execution_count": 41,
   "id": "c8431116",
   "metadata": {},
   "outputs": [
    {
     "name": "stdout",
     "output_type": "stream",
     "text": [
      "0.14153547418619686\n"
     ]
    },
    {
     "data": {
      "text/plain": [
       "<AxesSubplot:ylabel='Frequency'>"
      ]
     },
     "execution_count": 41,
     "metadata": {},
     "output_type": "execute_result"
    },
    {
     "data": {
      "image/png": "[encoded data removed]",
      "text/plain": [
       "<Figure size 432x288 with 1 Axes>"
      ]
     },
     "metadata": {
      "needs_background": "light"
     },
     "output_type": "display_data"
    }
   ],
   "source": [
    "print(stat.skew(Y))\n",
    "Y.plot(kind=\"hist\")"
   ]
  },
  {
   "cell_type": "code",
   "execution_count": 42,
   "id": "8eddf4b1",
   "metadata": {},
   "outputs": [
    {
     "data": {
      "text/html": [
       "<table class=\"simpletable\">\n",
       "<caption>OLS Regression Results</caption>\n",
       "<tr>\n",
       "  <th>Dep. Variable:</th>         <td>salary</td>      <th>  R-squared:         </th> <td>   0.518</td>\n",
       "</tr>\n",
       "<tr>\n",
       "  <th>Model:</th>                   <td>OLS</td>       <th>  Adj. R-squared:    </th> <td>   0.512</td>\n",
       "</tr>\n",
       "<tr>\n",
       "  <th>Method:</th>             <td>Least Squares</td>  <th>  F-statistic:       </th> <td>   84.12</td>\n",
       "</tr>\n",
       "<tr>\n",
       "  <th>Date:</th>             <td>Fri, 09 Sep 2022</td> <th>  Prob (F-statistic):</th> <td>7.69e-60</td>\n",
       "</tr>\n",
       "<tr>\n",
       "  <th>Time:</th>                 <td>00:16:09</td>     <th>  Log-Likelihood:    </th> <td>  116.66</td>\n",
       "</tr>\n",
       "<tr>\n",
       "  <th>No. Observations:</th>      <td>   397</td>      <th>  AIC:               </th> <td>  -221.3</td>\n",
       "</tr>\n",
       "<tr>\n",
       "  <th>Df Residuals:</th>          <td>   391</td>      <th>  BIC:               </th> <td>  -197.4</td>\n",
       "</tr>\n",
       "<tr>\n",
       "  <th>Df Model:</th>              <td>     5</td>      <th>                     </th>     <td> </td>   \n",
       "</tr>\n",
       "<tr>\n",
       "  <th>Covariance Type:</th>      <td>nonrobust</td>    <th>                     </th>     <td> </td>   \n",
       "</tr>\n",
       "</table>\n",
       "<table class=\"simpletable\">\n",
       "<tr>\n",
       "        <td></td>           <th>coef</th>     <th>std err</th>      <th>t</th>      <th>P>|t|</th>  <th>[0.025</th>    <th>0.975]</th>  \n",
       "</tr>\n",
       "<tr>\n",
       "  <th>Intercept</th>     <td>   11.6073</td> <td>    0.009</td> <td> 1272.565</td> <td> 0.000</td> <td>   11.589</td> <td>   11.625</td>\n",
       "</tr>\n",
       "<tr>\n",
       "  <th>rank</th>          <td>    0.1783</td> <td>    0.014</td> <td>   12.915</td> <td> 0.000</td> <td>    0.151</td> <td>    0.205</td>\n",
       "</tr>\n",
       "<tr>\n",
       "  <th>yrs_since_phd</th> <td>    0.0352</td> <td>    0.024</td> <td>    1.441</td> <td> 0.150</td> <td>   -0.013</td> <td>    0.083</td>\n",
       "</tr>\n",
       "<tr>\n",
       "  <th>yrs_service</th>   <td>   -0.0360</td> <td>    0.022</td> <td>   -1.633</td> <td> 0.103</td> <td>   -0.079</td> <td>    0.007</td>\n",
       "</tr>\n",
       "<tr>\n",
       "  <th>sex_Male</th>      <td>    0.0125</td> <td>    0.009</td> <td>    1.349</td> <td> 0.178</td> <td>   -0.006</td> <td>    0.031</td>\n",
       "</tr>\n",
       "<tr>\n",
       "  <th>discipline_B</th>  <td>    0.0664</td> <td>    0.009</td> <td>    7.053</td> <td> 0.000</td> <td>    0.048</td> <td>    0.085</td>\n",
       "</tr>\n",
       "</table>\n",
       "<table class=\"simpletable\">\n",
       "<tr>\n",
       "  <th>Omnibus:</th>       <td> 8.439</td> <th>  Durbin-Watson:     </th> <td>   1.854</td>\n",
       "</tr>\n",
       "<tr>\n",
       "  <th>Prob(Omnibus):</th> <td> 0.015</td> <th>  Jarque-Bera (JB):  </th> <td>  14.144</td>\n",
       "</tr>\n",
       "<tr>\n",
       "  <th>Skew:</th>          <td> 0.003</td> <th>  Prob(JB):          </th> <td>0.000849</td>\n",
       "</tr>\n",
       "<tr>\n",
       "  <th>Kurtosis:</th>      <td> 3.925</td> <th>  Cond. No.          </th> <td>    5.65</td>\n",
       "</tr>\n",
       "</table><br/><br/>Notes:<br/>[1] Standard Errors assume that the covariance matrix of the errors is correctly specified."
      ],
      "text/plain": [
       "<class 'statsmodels.iolib.summary.Summary'>\n",
       "\"\"\"\n",
       "                            OLS Regression Results                            \n",
       "==============================================================================\n",
       "Dep. Variable:                 salary   R-squared:                       0.518\n",
       "Model:                            OLS   Adj. R-squared:                  0.512\n",
       "Method:                 Least Squares   F-statistic:                     84.12\n",
       "Date:                Fri, 09 Sep 2022   Prob (F-statistic):           7.69e-60\n",
       "Time:                        00:16:09   Log-Likelihood:                 116.66\n",
       "No. Observations:                 397   AIC:                            -221.3\n",
       "Df Residuals:                     391   BIC:                            -197.4\n",
       "Df Model:                           5                                         \n",
       "Covariance Type:            nonrobust                                         \n",
       "=================================================================================\n",
       "                    coef    std err          t      P>|t|      [0.025      0.975]\n",
       "---------------------------------------------------------------------------------\n",
       "Intercept        11.6073      0.009   1272.565      0.000      11.589      11.625\n",
       "rank              0.1783      0.014     12.915      0.000       0.151       0.205\n",
       "yrs_since_phd     0.0352      0.024      1.441      0.150      -0.013       0.083\n",
       "yrs_service      -0.0360      0.022     -1.633      0.103      -0.079       0.007\n",
       "sex_Male          0.0125      0.009      1.349      0.178      -0.006       0.031\n",
       "discipline_B      0.0664      0.009      7.053      0.000       0.048       0.085\n",
       "==============================================================================\n",
       "Omnibus:                        8.439   Durbin-Watson:                   1.854\n",
       "Prob(Omnibus):                  0.015   Jarque-Bera (JB):               14.144\n",
       "Skew:                           0.003   Prob(JB):                     0.000849\n",
       "Kurtosis:                       3.925   Cond. No.                         5.65\n",
       "==============================================================================\n",
       "\n",
       "Notes:\n",
       "[1] Standard Errors assume that the covariance matrix of the errors is correctly specified.\n",
       "\"\"\""
      ]
     },
     "execution_count": 42,
     "metadata": {},
     "output_type": "execute_result"
    }
   ],
   "source": [
    "y = df2['salary']\n",
    "x = df2.drop(['salary'], axis=1)\n",
    "\n",
    "scaler = PowerTransformer()\n",
    "x1 = scaler.fit_transform(x)\n",
    "X = pd.DataFrame(x1, index = x.index, columns = x.columns)\n",
    "Y = np.log(y)\n",
    "\n",
    "\n",
    "lm_multi_1 = smf.ols(formula = 'salary ~ rank + yrs_since_phd + yrs_service + sex_Male + discipline_B', data = pd.concat([X , Y], axis=1)).fit()\n",
    "\n",
    "lm_multi_1.summary()"
   ]
  },
  {
   "cell_type": "markdown",
   "id": "56ecf964",
   "metadata": {},
   "source": [
    "# Baseline model"
   ]
  },
  {
   "cell_type": "code",
   "execution_count": 43,
   "id": "2d6b9b08",
   "metadata": {},
   "outputs": [],
   "source": [
    "# baseline_model = AdaBoostRegressor(base_estimator=None, learning_rate=1.0, loss='linear',\n",
    "#                   n_estimators=50, random_state=2)\n",
    "\n",
    "# baseline_model = OrthogonalMatchingPursuit(fit_intercept=True, n_nonzero_coefs=None,\n",
    "#                           normalize=True, precompute='auto', tol=None)\n",
    "\n",
    "\n",
    "baseline_model = BayesianRidge(alpha_1=1e-06, alpha_2=1e-06, alpha_init=None,\n",
    "              compute_score=False, copy_X=True, fit_intercept=True,\n",
    "              lambda_1=1e-06, lambda_2=1e-06, lambda_init=None, n_iter=300,\n",
    "              normalize=False, tol=0.001, verbose=False)\n",
    "\n",
    "\n",
    "# baseline_model = Ridge(alpha=1.0, copy_X=True, fit_intercept=True, max_iter=None,\n",
    "#       normalize=False, random_state=2, solver='auto', tol=0.001)\n",
    "\n",
    "# baseline_model = lgb.LGBMRegressor(boosting_type='gbdt', class_weight=None, colsample_bytree=1.0,\n",
    "#               importance_type='split', learning_rate=0.1, max_depth=-1,\n",
    "#               min_child_samples=20, min_child_weight=0.001, min_split_gain=0.0,\n",
    "#               n_estimators=100, n_jobs=-1, num_leaves=31, objective=None,\n",
    "#               random_state=2, reg_alpha=0.0, reg_lambda=0.0, silent='warn',\n",
    "#               subsample=1.0, subsample_for_bin=200000, subsample_freq=0)"
   ]
  },
  {
   "cell_type": "code",
   "execution_count": 44,
   "id": "88738916",
   "metadata": {},
   "outputs": [
    {
     "data": {
      "text/plain": [
       "BayesianRidge()"
      ]
     },
     "execution_count": 44,
     "metadata": {},
     "output_type": "execute_result"
    }
   ],
   "source": [
    "baseline_model.fit(x_train, y_train)"
   ]
  },
  {
   "cell_type": "code",
   "execution_count": 45,
   "id": "9ae68f14",
   "metadata": {},
   "outputs": [],
   "source": [
    "kf = KFold(n_splits = 5)\n",
    "results = cross_val_score(baseline_model, x_train, y_train, scoring='neg_mean_squared_error', cv=kf)"
   ]
  },
  {
   "cell_type": "code",
   "execution_count": 46,
   "id": "78781734",
   "metadata": {},
   "outputs": [
    {
     "data": {
      "text/plain": [
       "array([0.0470879 , 0.04111212, 0.04059527, 0.03411   , 0.02575523])"
      ]
     },
     "execution_count": 46,
     "metadata": {},
     "output_type": "execute_result"
    }
   ],
   "source": [
    "-results"
   ]
  },
  {
   "cell_type": "code",
   "execution_count": 47,
   "id": "d823d9d1",
   "metadata": {},
   "outputs": [
    {
     "data": {
      "text/plain": [
       "1.2143968511891903"
      ]
     },
     "execution_count": 47,
     "metadata": {},
     "output_type": "execute_result"
    }
   ],
   "source": [
    "np.exp(np.sqrt(np.mean(-results)))"
   ]
  },
  {
   "cell_type": "code",
   "execution_count": 48,
   "id": "8fcce90e",
   "metadata": {},
   "outputs": [
    {
     "data": {
      "text/plain": [
       "171    151575.0\n",
       "164     88795.0\n",
       "82     144640.0\n",
       "275     93000.0\n",
       "181    141136.0\n",
       "76     150480.0\n",
       "303    105260.0\n",
       "331    116518.0\n",
       "119     73500.0\n",
       "41      93418.0\n",
       "222    107150.0\n",
       "68     111512.0\n",
       "231     73300.0\n",
       "279    100600.0\n",
       "173    134185.0\n",
       "89     107008.0\n",
       "299     70700.0\n",
       "67      99418.0\n",
       "242    102600.0\n",
       "110    112429.0\n",
       "315     84716.0\n",
       "121    124309.0\n",
       "147    156938.0\n",
       "84     122960.0\n",
       "338    128464.0\n",
       "354     83600.0\n",
       "193     86250.0\n",
       "232    148750.0\n",
       "14     104800.0\n",
       "329    134778.0\n",
       "237     63100.0\n",
       "349    144309.0\n",
       "276    107200.0\n",
       "61      75243.0\n",
       "13      78000.0\n",
       "186    103750.0\n",
       "66     101000.0\n",
       "74     113398.0\n",
       "155    118971.0\n",
       "254    116450.0\n",
       "86     152708.0\n",
       "183    150000.0\n",
       "18     124750.0\n",
       "341    124312.0\n",
       "226     63900.0\n",
       "124     96614.0\n",
       "40     146500.0\n",
       "394    101738.0\n",
       "190    180000.0\n",
       "380     75996.0\n",
       "56     117704.0\n",
       "139    152664.0\n",
       "143     89942.0\n",
       "7      147765.0\n",
       "70     126320.0\n",
       "319    135027.0\n",
       "214    118700.0\n",
       "96      95611.0\n",
       "229    133900.0\n",
       "69      91412.0\n",
       "153    103994.0\n",
       "108     81500.0\n",
       "258     73800.0\n",
       "333    145098.0\n",
       "294    107300.0\n",
       "265    134800.0\n",
       "252    132000.0\n",
       "129     73000.0\n",
       "383    105000.0\n",
       "160     89516.0\n",
       "342    114596.0\n",
       "313    100351.0\n",
       "233    117555.0\n",
       "259     92550.0\n",
       "141     81500.0\n",
       "95      84000.0\n",
       "189    153750.0\n",
       "19     137000.0\n",
       "114    105000.0\n",
       "157     88000.0\n",
       "Name: salary, dtype: float64"
      ]
     },
     "execution_count": 48,
     "metadata": {},
     "output_type": "execute_result"
    }
   ],
   "source": [
    "np.exp(y_test)"
   ]
  },
  {
   "cell_type": "code",
   "execution_count": 49,
   "id": "f36a22aa",
   "metadata": {},
   "outputs": [
    {
     "data": {
      "text/html": [
       "<div>\n",
       "<style scoped>\n",
       "    .dataframe tbody tr th:only-of-type {\n",
       "        vertical-align: middle;\n",
       "    }\n",
       "\n",
       "    .dataframe tbody tr th {\n",
       "        vertical-align: top;\n",
       "    }\n",
       "\n",
       "    .dataframe thead th {\n",
       "        text-align: right;\n",
       "    }\n",
       "</style>\n",
       "<table border=\"1\" class=\"dataframe\">\n",
       "  <thead>\n",
       "    <tr style=\"text-align: right;\">\n",
       "      <th></th>\n",
       "      <th>id</th>\n",
       "      <th>salary</th>\n",
       "    </tr>\n",
       "  </thead>\n",
       "  <tbody>\n",
       "    <tr>\n",
       "      <th>0</th>\n",
       "      <td>171</td>\n",
       "      <td>130373.837769</td>\n",
       "    </tr>\n",
       "    <tr>\n",
       "      <th>1</th>\n",
       "      <td>164</td>\n",
       "      <td>86267.800967</td>\n",
       "    </tr>\n",
       "    <tr>\n",
       "      <th>2</th>\n",
       "      <td>82</td>\n",
       "      <td>130934.020512</td>\n",
       "    </tr>\n",
       "    <tr>\n",
       "      <th>3</th>\n",
       "      <td>275</td>\n",
       "      <td>116476.463215</td>\n",
       "    </tr>\n",
       "    <tr>\n",
       "      <th>4</th>\n",
       "      <td>181</td>\n",
       "      <td>133819.284453</td>\n",
       "    </tr>\n",
       "    <tr>\n",
       "      <th>5</th>\n",
       "      <td>76</td>\n",
       "      <td>134447.860176</td>\n",
       "    </tr>\n",
       "    <tr>\n",
       "      <th>6</th>\n",
       "      <td>303</td>\n",
       "      <td>117718.905200</td>\n",
       "    </tr>\n",
       "    <tr>\n",
       "      <th>7</th>\n",
       "      <td>331</td>\n",
       "      <td>132979.731361</td>\n",
       "    </tr>\n",
       "    <tr>\n",
       "      <th>8</th>\n",
       "      <td>119</td>\n",
       "      <td>76274.337247</td>\n",
       "    </tr>\n",
       "    <tr>\n",
       "      <th>9</th>\n",
       "      <td>41</td>\n",
       "      <td>95196.940381</td>\n",
       "    </tr>\n",
       "    <tr>\n",
       "      <th>10</th>\n",
       "      <td>222</td>\n",
       "      <td>96203.396291</td>\n",
       "    </tr>\n",
       "    <tr>\n",
       "      <th>11</th>\n",
       "      <td>68</td>\n",
       "      <td>130245.912750</td>\n",
       "    </tr>\n",
       "    <tr>\n",
       "      <th>12</th>\n",
       "      <td>231</td>\n",
       "      <td>84528.429541</td>\n",
       "    </tr>\n",
       "    <tr>\n",
       "      <th>13</th>\n",
       "      <td>279</td>\n",
       "      <td>116851.189908</td>\n",
       "    </tr>\n",
       "    <tr>\n",
       "      <th>14</th>\n",
       "      <td>173</td>\n",
       "      <td>130438.343720</td>\n",
       "    </tr>\n",
       "    <tr>\n",
       "      <th>15</th>\n",
       "      <td>89</td>\n",
       "      <td>95015.293568</td>\n",
       "    </tr>\n",
       "    <tr>\n",
       "      <th>16</th>\n",
       "      <td>299</td>\n",
       "      <td>85595.533303</td>\n",
       "    </tr>\n",
       "    <tr>\n",
       "      <th>17</th>\n",
       "      <td>67</td>\n",
       "      <td>131989.689855</td>\n",
       "    </tr>\n",
       "    <tr>\n",
       "      <th>18</th>\n",
       "      <td>242</td>\n",
       "      <td>116510.985985</td>\n",
       "    </tr>\n",
       "    <tr>\n",
       "      <th>19</th>\n",
       "      <td>110</td>\n",
       "      <td>116060.616871</td>\n",
       "    </tr>\n",
       "    <tr>\n",
       "      <th>20</th>\n",
       "      <td>315</td>\n",
       "      <td>86521.074570</td>\n",
       "    </tr>\n",
       "    <tr>\n",
       "      <th>21</th>\n",
       "      <td>121</td>\n",
       "      <td>116047.376451</td>\n",
       "    </tr>\n",
       "    <tr>\n",
       "      <th>22</th>\n",
       "      <td>147</td>\n",
       "      <td>130895.003424</td>\n",
       "    </tr>\n",
       "    <tr>\n",
       "      <th>23</th>\n",
       "      <td>84</td>\n",
       "      <td>130044.332676</td>\n",
       "    </tr>\n",
       "    <tr>\n",
       "      <th>24</th>\n",
       "      <td>338</td>\n",
       "      <td>132310.939467</td>\n",
       "    </tr>\n",
       "    <tr>\n",
       "      <th>25</th>\n",
       "      <td>354</td>\n",
       "      <td>87826.672731</td>\n",
       "    </tr>\n",
       "    <tr>\n",
       "      <th>26</th>\n",
       "      <td>193</td>\n",
       "      <td>95007.867689</td>\n",
       "    </tr>\n",
       "    <tr>\n",
       "      <th>27</th>\n",
       "      <td>232</td>\n",
       "      <td>119071.763895</td>\n",
       "    </tr>\n",
       "    <tr>\n",
       "      <th>28</th>\n",
       "      <td>14</td>\n",
       "      <td>130824.995661</td>\n",
       "    </tr>\n",
       "    <tr>\n",
       "      <th>29</th>\n",
       "      <td>329</td>\n",
       "      <td>130633.291362</td>\n",
       "    </tr>\n",
       "    <tr>\n",
       "      <th>30</th>\n",
       "      <td>237</td>\n",
       "      <td>76010.487173</td>\n",
       "    </tr>\n",
       "    <tr>\n",
       "      <th>31</th>\n",
       "      <td>349</td>\n",
       "      <td>130737.835458</td>\n",
       "    </tr>\n",
       "    <tr>\n",
       "      <th>32</th>\n",
       "      <td>276</td>\n",
       "      <td>117591.125259</td>\n",
       "    </tr>\n",
       "    <tr>\n",
       "      <th>33</th>\n",
       "      <td>61</td>\n",
       "      <td>85996.349468</td>\n",
       "    </tr>\n",
       "    <tr>\n",
       "      <th>34</th>\n",
       "      <td>13</td>\n",
       "      <td>86675.474120</td>\n",
       "    </tr>\n",
       "    <tr>\n",
       "      <th>35</th>\n",
       "      <td>186</td>\n",
       "      <td>95290.438291</td>\n",
       "    </tr>\n",
       "    <tr>\n",
       "      <th>36</th>\n",
       "      <td>66</td>\n",
       "      <td>132665.314512</td>\n",
       "    </tr>\n",
       "    <tr>\n",
       "      <th>37</th>\n",
       "      <td>74</td>\n",
       "      <td>131785.314596</td>\n",
       "    </tr>\n",
       "    <tr>\n",
       "      <th>38</th>\n",
       "      <td>155</td>\n",
       "      <td>130503.122602</td>\n",
       "    </tr>\n",
       "    <tr>\n",
       "      <th>39</th>\n",
       "      <td>254</td>\n",
       "      <td>119875.874324</td>\n",
       "    </tr>\n",
       "    <tr>\n",
       "      <th>40</th>\n",
       "      <td>86</td>\n",
       "      <td>131549.240889</td>\n",
       "    </tr>\n",
       "    <tr>\n",
       "      <th>41</th>\n",
       "      <td>183</td>\n",
       "      <td>131510.953824</td>\n",
       "    </tr>\n",
       "    <tr>\n",
       "      <th>42</th>\n",
       "      <td>18</td>\n",
       "      <td>118228.902990</td>\n",
       "    </tr>\n",
       "    <tr>\n",
       "      <th>43</th>\n",
       "      <td>341</td>\n",
       "      <td>130245.912750</td>\n",
       "    </tr>\n",
       "    <tr>\n",
       "      <th>44</th>\n",
       "      <td>226</td>\n",
       "      <td>76436.516731</td>\n",
       "    </tr>\n",
       "    <tr>\n",
       "      <th>45</th>\n",
       "      <td>124</td>\n",
       "      <td>115891.635589</td>\n",
       "    </tr>\n",
       "    <tr>\n",
       "      <th>46</th>\n",
       "      <td>40</td>\n",
       "      <td>136583.004833</td>\n",
       "    </tr>\n",
       "    <tr>\n",
       "      <th>47</th>\n",
       "      <td>394</td>\n",
       "      <td>118792.690037</td>\n",
       "    </tr>\n",
       "    <tr>\n",
       "      <th>48</th>\n",
       "      <td>190</td>\n",
       "      <td>133485.065642</td>\n",
       "    </tr>\n",
       "    <tr>\n",
       "      <th>49</th>\n",
       "      <td>380</td>\n",
       "      <td>76959.702247</td>\n",
       "    </tr>\n",
       "    <tr>\n",
       "      <th>50</th>\n",
       "      <td>56</td>\n",
       "      <td>130989.912134</td>\n",
       "    </tr>\n",
       "    <tr>\n",
       "      <th>51</th>\n",
       "      <td>139</td>\n",
       "      <td>115917.394766</td>\n",
       "    </tr>\n",
       "    <tr>\n",
       "      <th>52</th>\n",
       "      <td>143</td>\n",
       "      <td>85641.628368</td>\n",
       "    </tr>\n",
       "    <tr>\n",
       "      <th>53</th>\n",
       "      <td>7</td>\n",
       "      <td>132067.299289</td>\n",
       "    </tr>\n",
       "    <tr>\n",
       "      <th>54</th>\n",
       "      <td>70</td>\n",
       "      <td>135004.732970</td>\n",
       "    </tr>\n",
       "    <tr>\n",
       "      <th>55</th>\n",
       "      <td>319</td>\n",
       "      <td>130398.507997</td>\n",
       "    </tr>\n",
       "    <tr>\n",
       "      <th>56</th>\n",
       "      <td>214</td>\n",
       "      <td>97564.776986</td>\n",
       "    </tr>\n",
       "    <tr>\n",
       "      <th>57</th>\n",
       "      <td>96</td>\n",
       "      <td>95737.037714</td>\n",
       "    </tr>\n",
       "    <tr>\n",
       "      <th>58</th>\n",
       "      <td>229</td>\n",
       "      <td>116566.773214</td>\n",
       "    </tr>\n",
       "    <tr>\n",
       "      <th>59</th>\n",
       "      <td>69</td>\n",
       "      <td>129808.226886</td>\n",
       "    </tr>\n",
       "    <tr>\n",
       "      <th>60</th>\n",
       "      <td>153</td>\n",
       "      <td>95069.181798</td>\n",
       "    </tr>\n",
       "    <tr>\n",
       "      <th>61</th>\n",
       "      <td>108</td>\n",
       "      <td>85024.244159</td>\n",
       "    </tr>\n",
       "    <tr>\n",
       "      <th>62</th>\n",
       "      <td>258</td>\n",
       "      <td>77167.144965</td>\n",
       "    </tr>\n",
       "    <tr>\n",
       "      <th>63</th>\n",
       "      <td>333</td>\n",
       "      <td>133612.516264</td>\n",
       "    </tr>\n",
       "    <tr>\n",
       "      <th>64</th>\n",
       "      <td>294</td>\n",
       "      <td>117929.420338</td>\n",
       "    </tr>\n",
       "    <tr>\n",
       "      <th>65</th>\n",
       "      <td>265</td>\n",
       "      <td>117037.538538</td>\n",
       "    </tr>\n",
       "    <tr>\n",
       "      <th>66</th>\n",
       "      <td>252</td>\n",
       "      <td>119166.553982</td>\n",
       "    </tr>\n",
       "    <tr>\n",
       "      <th>67</th>\n",
       "      <td>129</td>\n",
       "      <td>76331.613911</td>\n",
       "    </tr>\n",
       "    <tr>\n",
       "      <th>68</th>\n",
       "      <td>383</td>\n",
       "      <td>116737.373398</td>\n",
       "    </tr>\n",
       "    <tr>\n",
       "      <th>69</th>\n",
       "      <td>160</td>\n",
       "      <td>85645.404577</td>\n",
       "    </tr>\n",
       "    <tr>\n",
       "      <th>70</th>\n",
       "      <td>342</td>\n",
       "      <td>131614.330614</td>\n",
       "    </tr>\n",
       "    <tr>\n",
       "      <th>71</th>\n",
       "      <td>313</td>\n",
       "      <td>116220.841631</td>\n",
       "    </tr>\n",
       "    <tr>\n",
       "      <th>72</th>\n",
       "      <td>233</td>\n",
       "      <td>118712.772754</td>\n",
       "    </tr>\n",
       "    <tr>\n",
       "      <th>73</th>\n",
       "      <td>259</td>\n",
       "      <td>116308.194257</td>\n",
       "    </tr>\n",
       "    <tr>\n",
       "      <th>74</th>\n",
       "      <td>141</td>\n",
       "      <td>84646.443542</td>\n",
       "    </tr>\n",
       "    <tr>\n",
       "      <th>75</th>\n",
       "      <td>95</td>\n",
       "      <td>87351.455443</td>\n",
       "    </tr>\n",
       "    <tr>\n",
       "      <th>76</th>\n",
       "      <td>189</td>\n",
       "      <td>131840.418359</td>\n",
       "    </tr>\n",
       "    <tr>\n",
       "      <th>77</th>\n",
       "      <td>19</td>\n",
       "      <td>116803.556406</td>\n",
       "    </tr>\n",
       "    <tr>\n",
       "      <th>78</th>\n",
       "      <td>114</td>\n",
       "      <td>119506.261694</td>\n",
       "    </tr>\n",
       "    <tr>\n",
       "      <th>79</th>\n",
       "      <td>157</td>\n",
       "      <td>86267.800967</td>\n",
       "    </tr>\n",
       "  </tbody>\n",
       "</table>\n",
       "</div>"
      ],
      "text/plain": [
       "     id         salary\n",
       "0   171  130373.837769\n",
       "1   164   86267.800967\n",
       "2    82  130934.020512\n",
       "3   275  116476.463215\n",
       "4   181  133819.284453\n",
       "5    76  134447.860176\n",
       "6   303  117718.905200\n",
       "7   331  132979.731361\n",
       "8   119   76274.337247\n",
       "9    41   95196.940381\n",
       "10  222   96203.396291\n",
       "11   68  130245.912750\n",
       "12  231   84528.429541\n",
       "13  279  116851.189908\n",
       "14  173  130438.343720\n",
       "15   89   95015.293568\n",
       "16  299   85595.533303\n",
       "17   67  131989.689855\n",
       "18  242  116510.985985\n",
       "19  110  116060.616871\n",
       "20  315   86521.074570\n",
       "21  121  116047.376451\n",
       "22  147  130895.003424\n",
       "23   84  130044.332676\n",
       "24  338  132310.939467\n",
       "25  354   87826.672731\n",
       "26  193   95007.867689\n",
       "27  232  119071.763895\n",
       "28   14  130824.995661\n",
       "29  329  130633.291362\n",
       "30  237   76010.487173\n",
       "31  349  130737.835458\n",
       "32  276  117591.125259\n",
       "33   61   85996.349468\n",
       "34   13   86675.474120\n",
       "35  186   95290.438291\n",
       "36   66  132665.314512\n",
       "37   74  131785.314596\n",
       "38  155  130503.122602\n",
       "39  254  119875.874324\n",
       "40   86  131549.240889\n",
       "41  183  131510.953824\n",
       "42   18  118228.902990\n",
       "43  341  130245.912750\n",
       "44  226   76436.516731\n",
       "45  124  115891.635589\n",
       "46   40  136583.004833\n",
       "47  394  118792.690037\n",
       "48  190  133485.065642\n",
       "49  380   76959.702247\n",
       "50   56  130989.912134\n",
       "51  139  115917.394766\n",
       "52  143   85641.628368\n",
       "53    7  132067.299289\n",
       "54   70  135004.732970\n",
       "55  319  130398.507997\n",
       "56  214   97564.776986\n",
       "57   96   95737.037714\n",
       "58  229  116566.773214\n",
       "59   69  129808.226886\n",
       "60  153   95069.181798\n",
       "61  108   85024.244159\n",
       "62  258   77167.144965\n",
       "63  333  133612.516264\n",
       "64  294  117929.420338\n",
       "65  265  117037.538538\n",
       "66  252  119166.553982\n",
       "67  129   76331.613911\n",
       "68  383  116737.373398\n",
       "69  160   85645.404577\n",
       "70  342  131614.330614\n",
       "71  313  116220.841631\n",
       "72  233  118712.772754\n",
       "73  259  116308.194257\n",
       "74  141   84646.443542\n",
       "75   95   87351.455443\n",
       "76  189  131840.418359\n",
       "77   19  116803.556406\n",
       "78  114  119506.261694\n",
       "79  157   86267.800967"
      ]
     },
     "execution_count": 49,
     "metadata": {},
     "output_type": "execute_result"
    }
   ],
   "source": [
    "test_ids = pd.Series(y_test.index, name='id')\n",
    "y_pred = np.exp(baseline_model.predict(x_test))\n",
    "sub = pd.concat([test_ids, pd.Series(y_pred, name='salary')], axis=1)\n",
    "sub"
   ]
  },
  {
   "cell_type": "code",
   "execution_count": 50,
   "id": "360dd330",
   "metadata": {},
   "outputs": [
    {
     "data": {
      "text/plain": [
       "array([130373.83776939,  86267.80096668, 130934.02051184, 116476.46321533,\n",
       "       133819.28445336, 134447.86017606, 117718.90520015, 132979.73136065,\n",
       "        76274.3372472 ,  95196.94038113,  96203.39629076, 130245.91274975,\n",
       "        84528.42954141, 116851.18990812, 130438.34371962,  95015.29356762,\n",
       "        85595.53330261, 131989.68985495, 116510.98598457, 116060.61687075,\n",
       "        86521.07457026, 116047.37645133, 130895.00342374, 130044.33267639,\n",
       "       132310.93946731,  87826.67273068,  95007.86768852, 119071.76389455,\n",
       "       130824.99566064, 130633.29136151,  76010.48717252, 130737.835458  ,\n",
       "       117591.12525919,  85996.34946835,  86675.47411957,  95290.43829091,\n",
       "       132665.31451173, 131785.31459635, 130503.12260212, 119875.87432355,\n",
       "       131549.24088948, 131510.95382383, 118228.90299004, 130245.91274975,\n",
       "        76436.51673053, 115891.6355886 , 136583.00483298, 118792.69003659,\n",
       "       133485.0656419 ,  76959.70224692, 130989.91213433, 115917.39476594,\n",
       "        85641.6283682 , 132067.29928863, 135004.73297009, 130398.50799741,\n",
       "        97564.7769856 ,  95737.03771368, 116566.77321434, 129808.22688577,\n",
       "        95069.18179818,  85024.24415937,  77167.14496473, 133612.51626382,\n",
       "       117929.4203376 , 117037.53853815, 119166.5539825 ,  76331.61391107,\n",
       "       116737.37339817,  85645.40457652, 131614.33061351, 116220.8416308 ,\n",
       "       118712.77275364, 116308.19425661,  84646.44354208,  87351.45544259,\n",
       "       131840.41835886, 116803.55640636, 119506.26169369,  86267.80096668])"
      ]
     },
     "execution_count": 50,
     "metadata": {},
     "output_type": "execute_result"
    }
   ],
   "source": [
    "y_pred"
   ]
  },
  {
   "cell_type": "code",
   "execution_count": 51,
   "id": "4492a5b4",
   "metadata": {},
   "outputs": [
    {
     "name": "stdout",
     "output_type": "stream",
     "text": [
      "r2 score :  0.6299168437191005\n",
      "MAE :  12926.288477489465\n",
      "MSE :  255302456.28551188\n",
      "SMSE :  15978.186889804234\n",
      "-----------\n",
      "-----------\n",
      "training score :  0.47849769776185913\n",
      "testing score :  0.6856508941117951\n"
     ]
    }
   ],
   "source": [
    "print('r2 score : ', r2_score(np.exp(y_test), y_pred))\n",
    "print('MAE : ', mean_absolute_error(np.exp(y_test), y_pred))\n",
    "print('MSE : ', mean_squared_error(np.exp(y_test), y_pred))\n",
    "print('SMSE : ', np.sqrt(mean_squared_error(np.exp(y_test), y_pred)))\n",
    "\n",
    "\n",
    "print(\"-----------\")\n",
    "print(\"-----------\")\n",
    "\n",
    "print('training score : ', baseline_model.score(x_train, y_train))\n",
    "print('testing score : ', baseline_model.score(x_test, y_test))"
   ]
  },
  {
   "cell_type": "markdown",
   "id": "ac05e0c8",
   "metadata": {},
   "source": [
    "# Bagging models"
   ]
  },
  {
   "cell_type": "code",
   "execution_count": 52,
   "id": "ddaf4da1",
   "metadata": {},
   "outputs": [],
   "source": [
    "models = {\n",
    "    'ridge' : Ridge(),\n",
    "    'br' : BayesianRidge(),\n",
    "    'lr' : LinearRegression(),\n",
    "    'lar': Lars(),\n",
    "    'huber' : HuberRegressor() \n",
    "}"
   ]
  },
  {
   "cell_type": "code",
   "execution_count": 53,
   "id": "e473e51d",
   "metadata": {},
   "outputs": [
    {
     "name": "stdout",
     "output_type": "stream",
     "text": [
      "ridge trained.\n",
      "br trained.\n",
      "lr trained.\n",
      "lar trained.\n",
      "huber trained.\n"
     ]
    }
   ],
   "source": [
    "for name, model in models.items():\n",
    "    model.fit(x_train, y_train)\n",
    "    print(name + ' trained.')"
   ]
  },
  {
   "cell_type": "code",
   "execution_count": 54,
   "id": "ed5233a4",
   "metadata": {},
   "outputs": [],
   "source": [
    "results = {}\n",
    "\n",
    "kf = KFold(n_splits = 5)\n",
    "\n",
    "for name, model in models.items():\n",
    "    result = np.exp(np.sqrt(-cross_val_score(model, x_train, y_train, scoring='neg_mean_squared_error', cv=kf)))\n",
    "    results[name] = result"
   ]
  },
  {
   "cell_type": "code",
   "execution_count": 55,
   "id": "20068e86",
   "metadata": {},
   "outputs": [
    {
     "data": {
      "text/plain": [
       "{'ridge': array([1.24176903, 1.22486021, 1.22255895, 1.20362499, 1.17468005]),\n",
       " 'br': array([1.24234094, 1.22478   , 1.22321506, 1.20284421, 1.17407943]),\n",
       " 'lr': array([1.2415873 , 1.22489896, 1.22236318, 1.20396161, 1.17491833]),\n",
       " 'lar': array([1.2415873 , 1.22489896, 1.22236318, 1.20396161, 1.17491833]),\n",
       " 'huber': array([1.24820933, 1.22539859, 1.22722812, 1.19851009, 1.1757929 ])}"
      ]
     },
     "execution_count": 55,
     "metadata": {},
     "output_type": "execute_result"
    }
   ],
   "source": [
    "results"
   ]
  },
  {
   "cell_type": "code",
   "execution_count": 56,
   "id": "7fcfb698",
   "metadata": {},
   "outputs": [
    {
     "name": "stdout",
     "output_type": "stream",
     "text": [
      "------\n",
      "ridge\n",
      "------\n",
      "1.2134986470852087\n",
      "0.022868148949648146\n",
      "------\n",
      "br\n",
      "------\n",
      "1.213451928591254\n",
      "0.023327823348904868\n",
      "------\n",
      "lr\n",
      "------\n",
      "1.213545876480509\n",
      "0.022702004342233927\n",
      "------\n",
      "lar\n",
      "------\n",
      "1.2135458764805092\n",
      "0.022702004342233833\n",
      "------\n",
      "huber\n",
      "------\n",
      "1.2150278066878084\n",
      "0.025177877330038057\n"
     ]
    }
   ],
   "source": [
    "for name, result in results.items():\n",
    "    print(\"------\\n\" + name + '\\n------')\n",
    "    print(np.mean(result))\n",
    "    print(np.std(result))"
   ]
  },
  {
   "cell_type": "markdown",
   "id": "4d987cde",
   "metadata": {},
   "source": [
    "# Combine predictions"
   ]
  },
  {
   "cell_type": "code",
   "execution_count": 57,
   "id": "4355d99d",
   "metadata": {},
   "outputs": [],
   "source": [
    "def predict_salary(x_test):\n",
    "    final_pred = (\n",
    "        0.2*np.exp(models['ridge'].predict(x_test)) +\n",
    "        0.2*np.exp(models['br'].predict(x_test)) +\n",
    "        0.2*np.exp(models['lr'].predict(x_test)) +\n",
    "        0.2*np.exp(models['lar'].predict(x_test)) +\n",
    "        0.2*np.exp(models['huber'].predict(x_test)))\n",
    "    return final_pred\n",
    "\n",
    "final_pred = predict_salary(x_test)"
   ]
  },
  {
   "cell_type": "code",
   "execution_count": 58,
   "id": "ebadd7a6",
   "metadata": {},
   "outputs": [
    {
     "data": {
      "text/plain": [
       "array([131011.12477345,  86111.14093943, 131455.64456411, 115947.48078526,\n",
       "       133350.52677116, 133766.92511506, 116850.05412392, 132811.51562043,\n",
       "        75862.57107447,  95513.65110008,  96021.6939873 , 130878.76600402,\n",
       "        84305.9608413 , 116762.51447427, 131076.99352494,  95137.44684268,\n",
       "        85238.49247252, 132419.93611251, 116418.10254051, 115818.55527098,\n",
       "        86420.90621643, 116012.51814418, 131531.22947812, 130742.33677432,\n",
       "       132583.90629992,  87351.42992475,  95321.95842422, 118168.97450368,\n",
       "       131338.87919327, 131273.18721716,  75722.69167358, 131425.26055757,\n",
       "       117343.39927381,  85990.74718372,  86422.65619945,  95403.98265464,\n",
       "       132636.01510017, 132152.97990906, 131142.63378015, 118587.34292834,\n",
       "       132158.27879655, 131928.13583521, 117574.81596615, 130878.76600402,\n",
       "        75929.27227886, 115774.52306992, 135376.20273964, 118030.7188235 ,\n",
       "       133199.86638172,  76384.93275231, 131514.41785326, 115738.9169006 ,\n",
       "        85751.29703766, 132642.56209647, 134155.82043984, 130958.70135675,\n",
       "        96917.09148547,  95776.96082541, 116470.58706728, 130821.22938381,\n",
       "        95235.67734059,  84490.37638298,  76543.15094663, 133488.92558244,\n",
       "       117088.34386557, 116745.94033225, 118136.55783694,  75880.42990532,\n",
       "       116657.7256396 ,  85723.43159779, 132219.61883054, 116176.5967626 ,\n",
       "       117893.65430309, 116189.34215327,  84233.4869586 ,  86939.59015371,\n",
       "       132132.21625886, 116630.98124264, 118065.24636573,  86111.14093943])"
      ]
     },
     "execution_count": 58,
     "metadata": {},
     "output_type": "execute_result"
    }
   ],
   "source": [
    "final_pred"
   ]
  },
  {
   "cell_type": "code",
   "execution_count": 59,
   "id": "cfae5d4e",
   "metadata": {},
   "outputs": [
    {
     "name": "stdout",
     "output_type": "stream",
     "text": [
      "r2 score :  0.6288093657293361\n",
      "MAE :  12841.408889151138\n",
      "MSE :  256066451.74510083\n",
      "SMSE :  16002.076482291317\n"
     ]
    }
   ],
   "source": [
    "print('r2 score : ', r2_score(np.exp(y_test), final_pred))\n",
    "print('MAE : ', mean_absolute_error(np.exp(y_test), final_pred))\n",
    "print('MSE : ', mean_squared_error(np.exp(y_test), final_pred))\n",
    "print('SMSE : ', np.sqrt(mean_squared_error(np.exp(y_test), final_pred)))"
   ]
  },
  {
   "cell_type": "code",
   "execution_count": 62,
   "id": "8faceb53",
   "metadata": {},
   "outputs": [
    {
     "data": {
      "text/plain": [
       "['Salary_Final.pkl']"
      ]
     },
     "execution_count": 62,
     "metadata": {},
     "output_type": "execute_result"
    }
   ],
   "source": [
    "import joblib\n",
    "joblib.dump(final_pred,'Salary_Final.pkl')"
   ]
  },
  {
   "cell_type": "markdown",
   "id": "710a72a0",
   "metadata": {},
   "source": [
    "# Conclusion : Using Bagging model for given dataset is the best approach"
   ]
  },
  {
   "cell_type": "code",
   "execution_count": null,
   "id": "4f1c5ef7",
   "metadata": {},
   "outputs": [],
   "source": []
  }
 ],
 "metadata": {
  "kernelspec": {
   "display_name": "Python 3 (ipykernel)",
   "language": "python",
   "name": "python3"
  },
  "language_info": {
   "codemirror_mode": {
    "name": "ipython",
    "version": 3
   },
   "file_extension": ".py",
   "mimetype": "text/x-python",
   "name": "python",
   "nbconvert_exporter": "python",
   "pygments_lexer": "ipython3",
   "version": "3.9.7"
  }
 },
 "nbformat": 4,
 "nbformat_minor": 5
}
