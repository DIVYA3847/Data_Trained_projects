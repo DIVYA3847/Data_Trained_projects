{
 "cells": [
  {
   "cell_type": "code",
   "execution_count": 4,
   "id": "3b2608e9",
   "metadata": {},
   "outputs": [],
   "source": [
    "import pandas as pd\n",
    "import numpy as np\n",
    "import seaborn as sns\n",
    "import matplotlib.pyplot as plt\n",
    "%matplotlib inline\n",
    "import warnings\n",
    "warnings.filterwarnings('ignore')"
   ]
  },
  {
   "cell_type": "code",
   "execution_count": 5,
   "id": "49dfedba",
   "metadata": {},
   "outputs": [
    {
     "name": "stdout",
     "output_type": "stream",
     "text": [
      "<class 'pandas.core.frame.DataFrame'>\n",
      "RangeIndex: 8523 entries, 0 to 8522\n",
      "Data columns (total 12 columns):\n",
      " #   Column                     Non-Null Count  Dtype  \n",
      "---  ------                     --------------  -----  \n",
      " 0   Item_Identifier            8523 non-null   object \n",
      " 1   Item_Weight                7060 non-null   float64\n",
      " 2   Item_Fat_Content           8523 non-null   object \n",
      " 3   Item_Visibility            8523 non-null   float64\n",
      " 4   Item_Type                  8523 non-null   object \n",
      " 5   Item_MRP                   8523 non-null   float64\n",
      " 6   Outlet_Identifier          8523 non-null   object \n",
      " 7   Outlet_Establishment_Year  8523 non-null   int64  \n",
      " 8   Outlet_Size                6113 non-null   object \n",
      " 9   Outlet_Location_Type       8523 non-null   object \n",
      " 10  Outlet_Type                8523 non-null   object \n",
      " 11  Item_Outlet_Sales          8523 non-null   float64\n",
      "dtypes: float64(4), int64(1), object(7)\n",
      "memory usage: 799.2+ KB\n"
     ]
    }
   ],
   "source": [
    "train=pd.read_csv('https://raw.githubusercontent.com/dsrscientist/bigdatamart_rep/master/bigdatamart_Train.csv')\n",
    "test=pd.read_csv('https://raw.githubusercontent.com/dsrscientist/bigdatamart_rep/master/bigdatamart_Test.csv')\n",
    "train.info()"
   ]
  },
  {
   "cell_type": "markdown",
   "id": "c5b3a264",
   "metadata": {},
   "source": [
    "# Comment:-\n",
    "On seeing the data information, we see that there are many null values, thus we have to remove the 0 values"
   ]
  },
  {
   "cell_type": "markdown",
   "id": "bcc7c98c",
   "metadata": {},
   "source": [
    "# Check for duplicates"
   ]
  },
  {
   "cell_type": "code",
   "execution_count": 16,
   "id": "91f58894",
   "metadata": {},
   "outputs": [],
   "source": [
    "import numpy as np\n",
    "import pandas as pd\n",
    "import seaborn as sns\n",
    "import matplotlib.pyplot as plt\n",
    "%matplotlib inline"
   ]
  },
  {
   "cell_type": "markdown",
   "id": "9f1983bd",
   "metadata": {},
   "source": [
    "# Importing in the dataset"
   ]
  },
  {
   "cell_type": "code",
   "execution_count": 22,
   "id": "5cc344dd",
   "metadata": {},
   "outputs": [],
   "source": [
    "df = pd.read_csv('https://raw.githubusercontent.com/dsrscientist/bigdatamart_rep/master/bigdatamart_Train.csv')"
   ]
  },
  {
   "cell_type": "markdown",
   "id": "503ab313",
   "metadata": {},
   "source": [
    "\n",
    "Let's have a look at first 5 rows of the dataset using the head() method which returns first 5 rows."
   ]
  },
  {
   "cell_type": "code",
   "execution_count": 23,
   "id": "55749ac6",
   "metadata": {},
   "outputs": [
    {
     "data": {
      "text/html": [
       "<div>\n",
       "<style scoped>\n",
       "    .dataframe tbody tr th:only-of-type {\n",
       "        vertical-align: middle;\n",
       "    }\n",
       "\n",
       "    .dataframe tbody tr th {\n",
       "        vertical-align: top;\n",
       "    }\n",
       "\n",
       "    .dataframe thead th {\n",
       "        text-align: right;\n",
       "    }\n",
       "</style>\n",
       "<table border=\"1\" class=\"dataframe\">\n",
       "  <thead>\n",
       "    <tr style=\"text-align: right;\">\n",
       "      <th></th>\n",
       "      <th>Item_Identifier</th>\n",
       "      <th>Item_Weight</th>\n",
       "      <th>Item_Fat_Content</th>\n",
       "      <th>Item_Visibility</th>\n",
       "      <th>Item_Type</th>\n",
       "      <th>Item_MRP</th>\n",
       "      <th>Outlet_Identifier</th>\n",
       "      <th>Outlet_Establishment_Year</th>\n",
       "      <th>Outlet_Size</th>\n",
       "      <th>Outlet_Location_Type</th>\n",
       "      <th>Outlet_Type</th>\n",
       "      <th>Item_Outlet_Sales</th>\n",
       "    </tr>\n",
       "  </thead>\n",
       "  <tbody>\n",
       "    <tr>\n",
       "      <th>0</th>\n",
       "      <td>FDA15</td>\n",
       "      <td>9.30</td>\n",
       "      <td>Low Fat</td>\n",
       "      <td>0.016047</td>\n",
       "      <td>Dairy</td>\n",
       "      <td>249.8092</td>\n",
       "      <td>OUT049</td>\n",
       "      <td>1999</td>\n",
       "      <td>Medium</td>\n",
       "      <td>Tier 1</td>\n",
       "      <td>Supermarket Type1</td>\n",
       "      <td>3735.1380</td>\n",
       "    </tr>\n",
       "    <tr>\n",
       "      <th>1</th>\n",
       "      <td>DRC01</td>\n",
       "      <td>5.92</td>\n",
       "      <td>Regular</td>\n",
       "      <td>0.019278</td>\n",
       "      <td>Soft Drinks</td>\n",
       "      <td>48.2692</td>\n",
       "      <td>OUT018</td>\n",
       "      <td>2009</td>\n",
       "      <td>Medium</td>\n",
       "      <td>Tier 3</td>\n",
       "      <td>Supermarket Type2</td>\n",
       "      <td>443.4228</td>\n",
       "    </tr>\n",
       "    <tr>\n",
       "      <th>2</th>\n",
       "      <td>FDN15</td>\n",
       "      <td>17.50</td>\n",
       "      <td>Low Fat</td>\n",
       "      <td>0.016760</td>\n",
       "      <td>Meat</td>\n",
       "      <td>141.6180</td>\n",
       "      <td>OUT049</td>\n",
       "      <td>1999</td>\n",
       "      <td>Medium</td>\n",
       "      <td>Tier 1</td>\n",
       "      <td>Supermarket Type1</td>\n",
       "      <td>2097.2700</td>\n",
       "    </tr>\n",
       "    <tr>\n",
       "      <th>3</th>\n",
       "      <td>FDX07</td>\n",
       "      <td>19.20</td>\n",
       "      <td>Regular</td>\n",
       "      <td>0.000000</td>\n",
       "      <td>Fruits and Vegetables</td>\n",
       "      <td>182.0950</td>\n",
       "      <td>OUT010</td>\n",
       "      <td>1998</td>\n",
       "      <td>NaN</td>\n",
       "      <td>Tier 3</td>\n",
       "      <td>Grocery Store</td>\n",
       "      <td>732.3800</td>\n",
       "    </tr>\n",
       "    <tr>\n",
       "      <th>4</th>\n",
       "      <td>NCD19</td>\n",
       "      <td>8.93</td>\n",
       "      <td>Low Fat</td>\n",
       "      <td>0.000000</td>\n",
       "      <td>Household</td>\n",
       "      <td>53.8614</td>\n",
       "      <td>OUT013</td>\n",
       "      <td>1987</td>\n",
       "      <td>High</td>\n",
       "      <td>Tier 3</td>\n",
       "      <td>Supermarket Type1</td>\n",
       "      <td>994.7052</td>\n",
       "    </tr>\n",
       "  </tbody>\n",
       "</table>\n",
       "</div>"
      ],
      "text/plain": [
       "  Item_Identifier  Item_Weight Item_Fat_Content  Item_Visibility  \\\n",
       "0           FDA15         9.30          Low Fat         0.016047   \n",
       "1           DRC01         5.92          Regular         0.019278   \n",
       "2           FDN15        17.50          Low Fat         0.016760   \n",
       "3           FDX07        19.20          Regular         0.000000   \n",
       "4           NCD19         8.93          Low Fat         0.000000   \n",
       "\n",
       "               Item_Type  Item_MRP Outlet_Identifier  \\\n",
       "0                  Dairy  249.8092            OUT049   \n",
       "1            Soft Drinks   48.2692            OUT018   \n",
       "2                   Meat  141.6180            OUT049   \n",
       "3  Fruits and Vegetables  182.0950            OUT010   \n",
       "4              Household   53.8614            OUT013   \n",
       "\n",
       "   Outlet_Establishment_Year Outlet_Size Outlet_Location_Type  \\\n",
       "0                       1999      Medium               Tier 1   \n",
       "1                       2009      Medium               Tier 3   \n",
       "2                       1999      Medium               Tier 1   \n",
       "3                       1998         NaN               Tier 3   \n",
       "4                       1987        High               Tier 3   \n",
       "\n",
       "         Outlet_Type  Item_Outlet_Sales  \n",
       "0  Supermarket Type1          3735.1380  \n",
       "1  Supermarket Type2           443.4228  \n",
       "2  Supermarket Type1          2097.2700  \n",
       "3      Grocery Store           732.3800  \n",
       "4  Supermarket Type1           994.7052  "
      ]
     },
     "execution_count": 23,
     "metadata": {},
     "output_type": "execute_result"
    }
   ],
   "source": [
    "df.head()"
   ]
  },
  {
   "cell_type": "markdown",
   "id": "0f462f0e",
   "metadata": {},
   "source": [
    "The shape of the dataset (rows, columns) :"
   ]
  },
  {
   "cell_type": "code",
   "execution_count": 24,
   "id": "ae9efca1",
   "metadata": {},
   "outputs": [
    {
     "name": "stdout",
     "output_type": "stream",
     "text": [
      "(8523, 12)\n"
     ]
    }
   ],
   "source": [
    "print(df.shape)"
   ]
  },
  {
   "cell_type": "markdown",
   "id": "ca67b866",
   "metadata": {},
   "source": [
    "Size of the dataset (rows * columns) :"
   ]
  },
  {
   "cell_type": "code",
   "execution_count": 25,
   "id": "d86b0a6b",
   "metadata": {},
   "outputs": [
    {
     "name": "stdout",
     "output_type": "stream",
     "text": [
      "102276\n"
     ]
    }
   ],
   "source": [
    "print(df.size)"
   ]
  },
  {
   "cell_type": "markdown",
   "id": "7012e9c7",
   "metadata": {},
   "source": [
    "# Here we have a statistical description of all numeric columns of the dataset."
   ]
  },
  {
   "cell_type": "code",
   "execution_count": 26,
   "id": "8290d98f",
   "metadata": {},
   "outputs": [
    {
     "data": {
      "text/html": [
       "<div>\n",
       "<style scoped>\n",
       "    .dataframe tbody tr th:only-of-type {\n",
       "        vertical-align: middle;\n",
       "    }\n",
       "\n",
       "    .dataframe tbody tr th {\n",
       "        vertical-align: top;\n",
       "    }\n",
       "\n",
       "    .dataframe thead th {\n",
       "        text-align: right;\n",
       "    }\n",
       "</style>\n",
       "<table border=\"1\" class=\"dataframe\">\n",
       "  <thead>\n",
       "    <tr style=\"text-align: right;\">\n",
       "      <th></th>\n",
       "      <th>Item_Weight</th>\n",
       "      <th>Item_Visibility</th>\n",
       "      <th>Item_MRP</th>\n",
       "      <th>Outlet_Establishment_Year</th>\n",
       "      <th>Item_Outlet_Sales</th>\n",
       "    </tr>\n",
       "  </thead>\n",
       "  <tbody>\n",
       "    <tr>\n",
       "      <th>count</th>\n",
       "      <td>7060.000000</td>\n",
       "      <td>8523.000000</td>\n",
       "      <td>8523.000000</td>\n",
       "      <td>8523.000000</td>\n",
       "      <td>8523.000000</td>\n",
       "    </tr>\n",
       "    <tr>\n",
       "      <th>mean</th>\n",
       "      <td>12.857645</td>\n",
       "      <td>0.066132</td>\n",
       "      <td>140.992782</td>\n",
       "      <td>1997.831867</td>\n",
       "      <td>2181.288914</td>\n",
       "    </tr>\n",
       "    <tr>\n",
       "      <th>std</th>\n",
       "      <td>4.643456</td>\n",
       "      <td>0.051598</td>\n",
       "      <td>62.275067</td>\n",
       "      <td>8.371760</td>\n",
       "      <td>1706.499616</td>\n",
       "    </tr>\n",
       "    <tr>\n",
       "      <th>min</th>\n",
       "      <td>4.555000</td>\n",
       "      <td>0.000000</td>\n",
       "      <td>31.290000</td>\n",
       "      <td>1985.000000</td>\n",
       "      <td>33.290000</td>\n",
       "    </tr>\n",
       "    <tr>\n",
       "      <th>25%</th>\n",
       "      <td>8.773750</td>\n",
       "      <td>0.026989</td>\n",
       "      <td>93.826500</td>\n",
       "      <td>1987.000000</td>\n",
       "      <td>834.247400</td>\n",
       "    </tr>\n",
       "    <tr>\n",
       "      <th>50%</th>\n",
       "      <td>12.600000</td>\n",
       "      <td>0.053931</td>\n",
       "      <td>143.012800</td>\n",
       "      <td>1999.000000</td>\n",
       "      <td>1794.331000</td>\n",
       "    </tr>\n",
       "    <tr>\n",
       "      <th>75%</th>\n",
       "      <td>16.850000</td>\n",
       "      <td>0.094585</td>\n",
       "      <td>185.643700</td>\n",
       "      <td>2004.000000</td>\n",
       "      <td>3101.296400</td>\n",
       "    </tr>\n",
       "    <tr>\n",
       "      <th>max</th>\n",
       "      <td>21.350000</td>\n",
       "      <td>0.328391</td>\n",
       "      <td>266.888400</td>\n",
       "      <td>2009.000000</td>\n",
       "      <td>13086.964800</td>\n",
       "    </tr>\n",
       "  </tbody>\n",
       "</table>\n",
       "</div>"
      ],
      "text/plain": [
       "       Item_Weight  Item_Visibility     Item_MRP  Outlet_Establishment_Year  \\\n",
       "count  7060.000000      8523.000000  8523.000000                8523.000000   \n",
       "mean     12.857645         0.066132   140.992782                1997.831867   \n",
       "std       4.643456         0.051598    62.275067                   8.371760   \n",
       "min       4.555000         0.000000    31.290000                1985.000000   \n",
       "25%       8.773750         0.026989    93.826500                1987.000000   \n",
       "50%      12.600000         0.053931   143.012800                1999.000000   \n",
       "75%      16.850000         0.094585   185.643700                2004.000000   \n",
       "max      21.350000         0.328391   266.888400                2009.000000   \n",
       "\n",
       "       Item_Outlet_Sales  \n",
       "count        8523.000000  \n",
       "mean         2181.288914  \n",
       "std          1706.499616  \n",
       "min            33.290000  \n",
       "25%           834.247400  \n",
       "50%          1794.331000  \n",
       "75%          3101.296400  \n",
       "max         13086.964800  "
      ]
     },
     "execution_count": 26,
     "metadata": {},
     "output_type": "execute_result"
    }
   ],
   "source": [
    "df.describe()"
   ]
  },
  {
   "cell_type": "markdown",
   "id": "ce403b2d",
   "metadata": {},
   "source": [
    "The statistical description of the dataset including all columns."
   ]
  },
  {
   "cell_type": "code",
   "execution_count": 27,
   "id": "1183effe",
   "metadata": {},
   "outputs": [
    {
     "data": {
      "text/html": [
       "<div>\n",
       "<style scoped>\n",
       "    .dataframe tbody tr th:only-of-type {\n",
       "        vertical-align: middle;\n",
       "    }\n",
       "\n",
       "    .dataframe tbody tr th {\n",
       "        vertical-align: top;\n",
       "    }\n",
       "\n",
       "    .dataframe thead th {\n",
       "        text-align: right;\n",
       "    }\n",
       "</style>\n",
       "<table border=\"1\" class=\"dataframe\">\n",
       "  <thead>\n",
       "    <tr style=\"text-align: right;\">\n",
       "      <th></th>\n",
       "      <th>Item_Identifier</th>\n",
       "      <th>Item_Weight</th>\n",
       "      <th>Item_Fat_Content</th>\n",
       "      <th>Item_Visibility</th>\n",
       "      <th>Item_Type</th>\n",
       "      <th>Item_MRP</th>\n",
       "      <th>Outlet_Identifier</th>\n",
       "      <th>Outlet_Establishment_Year</th>\n",
       "      <th>Outlet_Size</th>\n",
       "      <th>Outlet_Location_Type</th>\n",
       "      <th>Outlet_Type</th>\n",
       "      <th>Item_Outlet_Sales</th>\n",
       "    </tr>\n",
       "  </thead>\n",
       "  <tbody>\n",
       "    <tr>\n",
       "      <th>count</th>\n",
       "      <td>8523</td>\n",
       "      <td>7060.000000</td>\n",
       "      <td>8523</td>\n",
       "      <td>8523.000000</td>\n",
       "      <td>8523</td>\n",
       "      <td>8523.000000</td>\n",
       "      <td>8523</td>\n",
       "      <td>8523.000000</td>\n",
       "      <td>6113</td>\n",
       "      <td>8523</td>\n",
       "      <td>8523</td>\n",
       "      <td>8523.000000</td>\n",
       "    </tr>\n",
       "    <tr>\n",
       "      <th>unique</th>\n",
       "      <td>1559</td>\n",
       "      <td>NaN</td>\n",
       "      <td>5</td>\n",
       "      <td>NaN</td>\n",
       "      <td>16</td>\n",
       "      <td>NaN</td>\n",
       "      <td>10</td>\n",
       "      <td>NaN</td>\n",
       "      <td>3</td>\n",
       "      <td>3</td>\n",
       "      <td>4</td>\n",
       "      <td>NaN</td>\n",
       "    </tr>\n",
       "    <tr>\n",
       "      <th>top</th>\n",
       "      <td>FDW13</td>\n",
       "      <td>NaN</td>\n",
       "      <td>Low Fat</td>\n",
       "      <td>NaN</td>\n",
       "      <td>Fruits and Vegetables</td>\n",
       "      <td>NaN</td>\n",
       "      <td>OUT027</td>\n",
       "      <td>NaN</td>\n",
       "      <td>Medium</td>\n",
       "      <td>Tier 3</td>\n",
       "      <td>Supermarket Type1</td>\n",
       "      <td>NaN</td>\n",
       "    </tr>\n",
       "    <tr>\n",
       "      <th>freq</th>\n",
       "      <td>10</td>\n",
       "      <td>NaN</td>\n",
       "      <td>5089</td>\n",
       "      <td>NaN</td>\n",
       "      <td>1232</td>\n",
       "      <td>NaN</td>\n",
       "      <td>935</td>\n",
       "      <td>NaN</td>\n",
       "      <td>2793</td>\n",
       "      <td>3350</td>\n",
       "      <td>5577</td>\n",
       "      <td>NaN</td>\n",
       "    </tr>\n",
       "    <tr>\n",
       "      <th>mean</th>\n",
       "      <td>NaN</td>\n",
       "      <td>12.857645</td>\n",
       "      <td>NaN</td>\n",
       "      <td>0.066132</td>\n",
       "      <td>NaN</td>\n",
       "      <td>140.992782</td>\n",
       "      <td>NaN</td>\n",
       "      <td>1997.831867</td>\n",
       "      <td>NaN</td>\n",
       "      <td>NaN</td>\n",
       "      <td>NaN</td>\n",
       "      <td>2181.288914</td>\n",
       "    </tr>\n",
       "    <tr>\n",
       "      <th>std</th>\n",
       "      <td>NaN</td>\n",
       "      <td>4.643456</td>\n",
       "      <td>NaN</td>\n",
       "      <td>0.051598</td>\n",
       "      <td>NaN</td>\n",
       "      <td>62.275067</td>\n",
       "      <td>NaN</td>\n",
       "      <td>8.371760</td>\n",
       "      <td>NaN</td>\n",
       "      <td>NaN</td>\n",
       "      <td>NaN</td>\n",
       "      <td>1706.499616</td>\n",
       "    </tr>\n",
       "    <tr>\n",
       "      <th>min</th>\n",
       "      <td>NaN</td>\n",
       "      <td>4.555000</td>\n",
       "      <td>NaN</td>\n",
       "      <td>0.000000</td>\n",
       "      <td>NaN</td>\n",
       "      <td>31.290000</td>\n",
       "      <td>NaN</td>\n",
       "      <td>1985.000000</td>\n",
       "      <td>NaN</td>\n",
       "      <td>NaN</td>\n",
       "      <td>NaN</td>\n",
       "      <td>33.290000</td>\n",
       "    </tr>\n",
       "    <tr>\n",
       "      <th>25%</th>\n",
       "      <td>NaN</td>\n",
       "      <td>8.773750</td>\n",
       "      <td>NaN</td>\n",
       "      <td>0.026989</td>\n",
       "      <td>NaN</td>\n",
       "      <td>93.826500</td>\n",
       "      <td>NaN</td>\n",
       "      <td>1987.000000</td>\n",
       "      <td>NaN</td>\n",
       "      <td>NaN</td>\n",
       "      <td>NaN</td>\n",
       "      <td>834.247400</td>\n",
       "    </tr>\n",
       "    <tr>\n",
       "      <th>50%</th>\n",
       "      <td>NaN</td>\n",
       "      <td>12.600000</td>\n",
       "      <td>NaN</td>\n",
       "      <td>0.053931</td>\n",
       "      <td>NaN</td>\n",
       "      <td>143.012800</td>\n",
       "      <td>NaN</td>\n",
       "      <td>1999.000000</td>\n",
       "      <td>NaN</td>\n",
       "      <td>NaN</td>\n",
       "      <td>NaN</td>\n",
       "      <td>1794.331000</td>\n",
       "    </tr>\n",
       "    <tr>\n",
       "      <th>75%</th>\n",
       "      <td>NaN</td>\n",
       "      <td>16.850000</td>\n",
       "      <td>NaN</td>\n",
       "      <td>0.094585</td>\n",
       "      <td>NaN</td>\n",
       "      <td>185.643700</td>\n",
       "      <td>NaN</td>\n",
       "      <td>2004.000000</td>\n",
       "      <td>NaN</td>\n",
       "      <td>NaN</td>\n",
       "      <td>NaN</td>\n",
       "      <td>3101.296400</td>\n",
       "    </tr>\n",
       "    <tr>\n",
       "      <th>max</th>\n",
       "      <td>NaN</td>\n",
       "      <td>21.350000</td>\n",
       "      <td>NaN</td>\n",
       "      <td>0.328391</td>\n",
       "      <td>NaN</td>\n",
       "      <td>266.888400</td>\n",
       "      <td>NaN</td>\n",
       "      <td>2009.000000</td>\n",
       "      <td>NaN</td>\n",
       "      <td>NaN</td>\n",
       "      <td>NaN</td>\n",
       "      <td>13086.964800</td>\n",
       "    </tr>\n",
       "  </tbody>\n",
       "</table>\n",
       "</div>"
      ],
      "text/plain": [
       "       Item_Identifier  Item_Weight Item_Fat_Content  Item_Visibility  \\\n",
       "count             8523  7060.000000             8523      8523.000000   \n",
       "unique            1559          NaN                5              NaN   \n",
       "top              FDW13          NaN          Low Fat              NaN   \n",
       "freq                10          NaN             5089              NaN   \n",
       "mean               NaN    12.857645              NaN         0.066132   \n",
       "std                NaN     4.643456              NaN         0.051598   \n",
       "min                NaN     4.555000              NaN         0.000000   \n",
       "25%                NaN     8.773750              NaN         0.026989   \n",
       "50%                NaN    12.600000              NaN         0.053931   \n",
       "75%                NaN    16.850000              NaN         0.094585   \n",
       "max                NaN    21.350000              NaN         0.328391   \n",
       "\n",
       "                    Item_Type     Item_MRP Outlet_Identifier  \\\n",
       "count                    8523  8523.000000              8523   \n",
       "unique                     16          NaN                10   \n",
       "top     Fruits and Vegetables          NaN            OUT027   \n",
       "freq                     1232          NaN               935   \n",
       "mean                      NaN   140.992782               NaN   \n",
       "std                       NaN    62.275067               NaN   \n",
       "min                       NaN    31.290000               NaN   \n",
       "25%                       NaN    93.826500               NaN   \n",
       "50%                       NaN   143.012800               NaN   \n",
       "75%                       NaN   185.643700               NaN   \n",
       "max                       NaN   266.888400               NaN   \n",
       "\n",
       "        Outlet_Establishment_Year Outlet_Size Outlet_Location_Type  \\\n",
       "count                 8523.000000        6113                 8523   \n",
       "unique                        NaN           3                    3   \n",
       "top                           NaN      Medium               Tier 3   \n",
       "freq                          NaN        2793                 3350   \n",
       "mean                  1997.831867         NaN                  NaN   \n",
       "std                      8.371760         NaN                  NaN   \n",
       "min                   1985.000000         NaN                  NaN   \n",
       "25%                   1987.000000         NaN                  NaN   \n",
       "50%                   1999.000000         NaN                  NaN   \n",
       "75%                   2004.000000         NaN                  NaN   \n",
       "max                   2009.000000         NaN                  NaN   \n",
       "\n",
       "              Outlet_Type  Item_Outlet_Sales  \n",
       "count                8523        8523.000000  \n",
       "unique                  4                NaN  \n",
       "top     Supermarket Type1                NaN  \n",
       "freq                 5577                NaN  \n",
       "mean                  NaN        2181.288914  \n",
       "std                   NaN        1706.499616  \n",
       "min                   NaN          33.290000  \n",
       "25%                   NaN         834.247400  \n",
       "50%                   NaN        1794.331000  \n",
       "75%                   NaN        3101.296400  \n",
       "max                   NaN       13086.964800  "
      ]
     },
     "execution_count": 27,
     "metadata": {},
     "output_type": "execute_result"
    }
   ],
   "source": [
    "df.describe(include='all')"
   ]
  },
  {
   "cell_type": "markdown",
   "id": "cf35afe0",
   "metadata": {},
   "source": [
    "Information about the Dataset including the index dtype and column dtypes, non-null values and memory usage."
   ]
  },
  {
   "cell_type": "code",
   "execution_count": 28,
   "id": "7f1451af",
   "metadata": {},
   "outputs": [
    {
     "name": "stdout",
     "output_type": "stream",
     "text": [
      "<class 'pandas.core.frame.DataFrame'>\n",
      "RangeIndex: 8523 entries, 0 to 8522\n",
      "Data columns (total 12 columns):\n",
      " #   Column                     Non-Null Count  Dtype  \n",
      "---  ------                     --------------  -----  \n",
      " 0   Item_Identifier            8523 non-null   object \n",
      " 1   Item_Weight                7060 non-null   float64\n",
      " 2   Item_Fat_Content           8523 non-null   object \n",
      " 3   Item_Visibility            8523 non-null   float64\n",
      " 4   Item_Type                  8523 non-null   object \n",
      " 5   Item_MRP                   8523 non-null   float64\n",
      " 6   Outlet_Identifier          8523 non-null   object \n",
      " 7   Outlet_Establishment_Year  8523 non-null   int64  \n",
      " 8   Outlet_Size                6113 non-null   object \n",
      " 9   Outlet_Location_Type       8523 non-null   object \n",
      " 10  Outlet_Type                8523 non-null   object \n",
      " 11  Item_Outlet_Sales          8523 non-null   float64\n",
      "dtypes: float64(4), int64(1), object(7)\n",
      "memory usage: 799.2+ KB\n"
     ]
    }
   ],
   "source": [
    "df.info()"
   ]
  },
  {
   "cell_type": "markdown",
   "id": "f41d359a",
   "metadata": {},
   "source": [
    "Now we check the count of null values present in each column and we'll try to replace or remove the null values thereafter (if any present)."
   ]
  },
  {
   "cell_type": "code",
   "execution_count": 29,
   "id": "1d5a15c7",
   "metadata": {},
   "outputs": [
    {
     "data": {
      "text/plain": [
       "Item_Identifier                 0\n",
       "Item_Weight                  1463\n",
       "Item_Fat_Content                0\n",
       "Item_Visibility                 0\n",
       "Item_Type                       0\n",
       "Item_MRP                        0\n",
       "Outlet_Identifier               0\n",
       "Outlet_Establishment_Year       0\n",
       "Outlet_Size                  2410\n",
       "Outlet_Location_Type            0\n",
       "Outlet_Type                     0\n",
       "Item_Outlet_Sales               0\n",
       "dtype: int64"
      ]
     },
     "execution_count": 29,
     "metadata": {},
     "output_type": "execute_result"
    }
   ],
   "source": [
    "\n",
    "df.isnull().sum()"
   ]
  },
  {
   "cell_type": "markdown",
   "id": "bcba4156",
   "metadata": {},
   "source": [
    "More beautifully we can see the distribution of null values over the dataset with the help of seaborn heatmap."
   ]
  },
  {
   "cell_type": "code",
   "execution_count": 30,
   "id": "4f6bb5ec",
   "metadata": {},
   "outputs": [
    {
     "data": {
      "text/plain": [
       "<AxesSubplot:>"
      ]
     },
     "execution_count": 30,
     "metadata": {},
     "output_type": "execute_result"
    },
    {
     "data": {
      "image/png": "[encoded data removed]",
      "text/plain": [
       "<Figure size 432x288 with 1 Axes>"
      ]
     },
     "metadata": {
      "needs_background": "light"
     },
     "output_type": "display_data"
    }
   ],
   "source": [
    "sns.heatmap(df.isnull(), yticklabels=False, cbar=False, cmap='viridis')"
   ]
  },
  {
   "cell_type": "markdown",
   "id": "9087ef07",
   "metadata": {},
   "source": [
    "# Filling in the null values for Item_Weight\n",
    "We will fill in the null values by taking the Average Weight of that particular item which is also being sold at other stores.\n",
    "\n",
    "Here we create a dictionary with Item_Identifier as key and Average Weight of that item as value."
   ]
  },
  {
   "cell_type": "code",
   "execution_count": 31,
   "id": "5e41304c",
   "metadata": {},
   "outputs": [],
   "source": [
    "avgWeight = {}\n",
    "for i in set(df['Item_Identifier']):\n",
    "  avgWeight[i] = (df[df['Item_Identifier'] == i]['Item_Weight'].mean())"
   ]
  },
  {
   "cell_type": "markdown",
   "id": "47b005e4",
   "metadata": {},
   "source": [
    "Our dictionary is created, but there were some items which were being sold at only one store and also the Item_Weight for them was not available. We will first fill null values for other items and then fill average weight of all items in those particular items."
   ]
  },
  {
   "cell_type": "code",
   "execution_count": 32,
   "id": "4b99c3ce",
   "metadata": {},
   "outputs": [
    {
     "data": {
      "text/plain": [
       "927   NaN\n",
       "Name: Item_Weight, dtype: float64"
      ]
     },
     "execution_count": 32,
     "metadata": {},
     "output_type": "execute_result"
    }
   ],
   "source": [
    "df[df['Item_Identifier'] == 'FDN52']['Item_Weight']"
   ]
  },
  {
   "cell_type": "markdown",
   "id": "bc07cfdc",
   "metadata": {},
   "source": [
    "We have defined our function for imputing Item_Weight below:"
   ]
  },
  {
   "cell_type": "code",
   "execution_count": 33,
   "id": "00617fae",
   "metadata": {},
   "outputs": [],
   "source": [
    "def imputeItemWeight(cols):\n",
    "  identifier = cols[0]\n",
    "  weight = cols[1]\n",
    "  if pd.isnull(weight):\n",
    "    return avgWeight[identifier]\n",
    "  else:\n",
    "    return weight"
   ]
  },
  {
   "cell_type": "code",
   "execution_count": 34,
   "id": "86ad08be",
   "metadata": {},
   "outputs": [],
   "source": [
    "df['Item_Weight'] = df[['Item_Identifier', 'Item_Weight']].apply(imputeItemWeight, axis=1)"
   ]
  },
  {
   "cell_type": "code",
   "execution_count": 35,
   "id": "67df72de",
   "metadata": {},
   "outputs": [
    {
     "data": {
      "text/plain": [
       "Item_Identifier                 0\n",
       "Item_Weight                     4\n",
       "Item_Fat_Content                0\n",
       "Item_Visibility                 0\n",
       "Item_Type                       0\n",
       "Item_MRP                        0\n",
       "Outlet_Identifier               0\n",
       "Outlet_Establishment_Year       0\n",
       "Outlet_Size                  2410\n",
       "Outlet_Location_Type            0\n",
       "Outlet_Type                     0\n",
       "Item_Outlet_Sales               0\n",
       "dtype: int64"
      ]
     },
     "execution_count": 35,
     "metadata": {},
     "output_type": "execute_result"
    }
   ],
   "source": [
    "df.isnull().sum()"
   ]
  },
  {
   "cell_type": "markdown",
   "id": "c76d6260",
   "metadata": {},
   "source": [
    "Most of the items have been assigned average weight in place of null values. But 4 items as we discussed above are those which are sold at only one store and weight for them is not available.\n",
    "\n",
    "Below we have shown those 4 items:"
   ]
  },
  {
   "cell_type": "code",
   "execution_count": 36,
   "id": "1dc350be",
   "metadata": {},
   "outputs": [
    {
     "data": {
      "text/html": [
       "<div>\n",
       "<style scoped>\n",
       "    .dataframe tbody tr th:only-of-type {\n",
       "        vertical-align: middle;\n",
       "    }\n",
       "\n",
       "    .dataframe tbody tr th {\n",
       "        vertical-align: top;\n",
       "    }\n",
       "\n",
       "    .dataframe thead th {\n",
       "        text-align: right;\n",
       "    }\n",
       "</style>\n",
       "<table border=\"1\" class=\"dataframe\">\n",
       "  <thead>\n",
       "    <tr style=\"text-align: right;\">\n",
       "      <th></th>\n",
       "      <th>Item_Identifier</th>\n",
       "      <th>Item_Weight</th>\n",
       "      <th>Item_Fat_Content</th>\n",
       "      <th>Item_Visibility</th>\n",
       "      <th>Item_Type</th>\n",
       "      <th>Item_MRP</th>\n",
       "      <th>Outlet_Identifier</th>\n",
       "      <th>Outlet_Establishment_Year</th>\n",
       "      <th>Outlet_Size</th>\n",
       "      <th>Outlet_Location_Type</th>\n",
       "      <th>Outlet_Type</th>\n",
       "      <th>Item_Outlet_Sales</th>\n",
       "    </tr>\n",
       "  </thead>\n",
       "  <tbody>\n",
       "    <tr>\n",
       "      <th>927</th>\n",
       "      <td>FDN52</td>\n",
       "      <td>NaN</td>\n",
       "      <td>Regular</td>\n",
       "      <td>0.130933</td>\n",
       "      <td>Frozen Foods</td>\n",
       "      <td>86.9198</td>\n",
       "      <td>OUT027</td>\n",
       "      <td>1985</td>\n",
       "      <td>Medium</td>\n",
       "      <td>Tier 3</td>\n",
       "      <td>Supermarket Type3</td>\n",
       "      <td>1569.9564</td>\n",
       "    </tr>\n",
       "    <tr>\n",
       "      <th>1922</th>\n",
       "      <td>FDK57</td>\n",
       "      <td>NaN</td>\n",
       "      <td>Low Fat</td>\n",
       "      <td>0.079904</td>\n",
       "      <td>Snack Foods</td>\n",
       "      <td>120.0440</td>\n",
       "      <td>OUT027</td>\n",
       "      <td>1985</td>\n",
       "      <td>Medium</td>\n",
       "      <td>Tier 3</td>\n",
       "      <td>Supermarket Type3</td>\n",
       "      <td>4434.2280</td>\n",
       "    </tr>\n",
       "    <tr>\n",
       "      <th>4187</th>\n",
       "      <td>FDE52</td>\n",
       "      <td>NaN</td>\n",
       "      <td>Regular</td>\n",
       "      <td>0.029742</td>\n",
       "      <td>Dairy</td>\n",
       "      <td>88.9514</td>\n",
       "      <td>OUT027</td>\n",
       "      <td>1985</td>\n",
       "      <td>Medium</td>\n",
       "      <td>Tier 3</td>\n",
       "      <td>Supermarket Type3</td>\n",
       "      <td>3453.5046</td>\n",
       "    </tr>\n",
       "    <tr>\n",
       "      <th>5022</th>\n",
       "      <td>FDQ60</td>\n",
       "      <td>NaN</td>\n",
       "      <td>Regular</td>\n",
       "      <td>0.191501</td>\n",
       "      <td>Baking Goods</td>\n",
       "      <td>121.2098</td>\n",
       "      <td>OUT019</td>\n",
       "      <td>1985</td>\n",
       "      <td>Small</td>\n",
       "      <td>Tier 1</td>\n",
       "      <td>Grocery Store</td>\n",
       "      <td>120.5098</td>\n",
       "    </tr>\n",
       "  </tbody>\n",
       "</table>\n",
       "</div>"
      ],
      "text/plain": [
       "     Item_Identifier  Item_Weight Item_Fat_Content  Item_Visibility  \\\n",
       "927            FDN52          NaN          Regular         0.130933   \n",
       "1922           FDK57          NaN          Low Fat         0.079904   \n",
       "4187           FDE52          NaN          Regular         0.029742   \n",
       "5022           FDQ60          NaN          Regular         0.191501   \n",
       "\n",
       "         Item_Type  Item_MRP Outlet_Identifier  Outlet_Establishment_Year  \\\n",
       "927   Frozen Foods   86.9198            OUT027                       1985   \n",
       "1922   Snack Foods  120.0440            OUT027                       1985   \n",
       "4187         Dairy   88.9514            OUT027                       1985   \n",
       "5022  Baking Goods  121.2098            OUT019                       1985   \n",
       "\n",
       "     Outlet_Size Outlet_Location_Type        Outlet_Type  Item_Outlet_Sales  \n",
       "927       Medium               Tier 3  Supermarket Type3          1569.9564  \n",
       "1922      Medium               Tier 3  Supermarket Type3          4434.2280  \n",
       "4187      Medium               Tier 3  Supermarket Type3          3453.5046  \n",
       "5022       Small               Tier 1      Grocery Store           120.5098  "
      ]
     },
     "execution_count": 36,
     "metadata": {},
     "output_type": "execute_result"
    }
   ],
   "source": [
    "df[df['Item_Weight'].isnull()].head()"
   ]
  },
  {
   "cell_type": "code",
   "execution_count": 37,
   "id": "7619c52b",
   "metadata": {},
   "outputs": [],
   "source": [
    "\n",
    "df['Item_Weight'] = df['Item_Weight'].fillna(df['Item_Weight'].mean())"
   ]
  },
  {
   "cell_type": "markdown",
   "id": "4925e13c",
   "metadata": {},
   "source": [
    "We imputed the null values with average weight of all the 1559 items availbale to us"
   ]
  },
  {
   "cell_type": "code",
   "execution_count": 38,
   "id": "bbe883ae",
   "metadata": {},
   "outputs": [
    {
     "data": {
      "text/plain": [
       "Item_Identifier                 0\n",
       "Item_Weight                     0\n",
       "Item_Fat_Content                0\n",
       "Item_Visibility                 0\n",
       "Item_Type                       0\n",
       "Item_MRP                        0\n",
       "Outlet_Identifier               0\n",
       "Outlet_Establishment_Year       0\n",
       "Outlet_Size                  2410\n",
       "Outlet_Location_Type            0\n",
       "Outlet_Type                     0\n",
       "Item_Outlet_Sales               0\n",
       "dtype: int64"
      ]
     },
     "execution_count": 38,
     "metadata": {},
     "output_type": "execute_result"
    }
   ],
   "source": [
    "df.isnull().sum()"
   ]
  },
  {
   "cell_type": "markdown",
   "id": "7dec133a",
   "metadata": {},
   "source": [
    "\n",
    "We have successfully imputed null values for Item_Weight. Now it's turn to impute null values for Outlet_Size column:"
   ]
  },
  {
   "cell_type": "code",
   "execution_count": 39,
   "id": "8068fa10",
   "metadata": {},
   "outputs": [
    {
     "data": {
      "text/plain": [
       "array(['Medium', nan, 'High', 'Small'], dtype=object)"
      ]
     },
     "execution_count": 39,
     "metadata": {},
     "output_type": "execute_result"
    }
   ],
   "source": [
    "df['Outlet_Size'].unique()"
   ]
  },
  {
   "cell_type": "code",
   "execution_count": 40,
   "id": "8a53646d",
   "metadata": {},
   "outputs": [
    {
     "name": "stdout",
     "output_type": "stream",
     "text": [
      "{'Grocery Store': 'Small', 'Supermarket Type3': 'Medium', 'Supermarket Type1': 'Small', 'Supermarket Type2': 'Medium'}\n"
     ]
    }
   ],
   "source": [
    "from scipy.stats import mode\n",
    "outletSizeMode = {}\n",
    "for i in set(df['Outlet_Type']):\n",
    "  outletSizeMode[i] = df[df['Outlet_Type'] == i]['Outlet_Size'].mode()[0]\n",
    "\n",
    "print(outletSizeMode)"
   ]
  },
  {
   "cell_type": "markdown",
   "id": "34ce5f6b",
   "metadata": {},
   "source": [
    "It is practical to impute null values for Outlet_Size base upon the Outlet_Type, because Outlet type largely decides the Outlet size. We have taken mode of Outlet_Size for each Outlet_Type and filled in at the place of NaN by defining the below function and applying it on Outlet_Size:"
   ]
  },
  {
   "cell_type": "code",
   "execution_count": 41,
   "id": "dd42f97f",
   "metadata": {},
   "outputs": [],
   "source": [
    "def imputeOutletSize(cols):\n",
    "  Type = cols[0]\n",
    "  Size = cols[1]\n",
    "  \n",
    "  if pd.isnull(Size):\n",
    "    return outletSizeMode[Type]\n",
    "  else:\n",
    "    return Size"
   ]
  },
  {
   "cell_type": "code",
   "execution_count": 42,
   "id": "5ed5a83a",
   "metadata": {},
   "outputs": [],
   "source": [
    "df['Outlet_Size'] = df[['Outlet_Type', 'Outlet_Size']].apply(imputeOutletSize, axis=1)"
   ]
  },
  {
   "cell_type": "code",
   "execution_count": 43,
   "id": "eb6a71c0",
   "metadata": {},
   "outputs": [
    {
     "data": {
      "text/plain": [
       "0     Medium\n",
       "1     Medium\n",
       "2     Medium\n",
       "3      Small\n",
       "4       High\n",
       "5     Medium\n",
       "6       High\n",
       "7     Medium\n",
       "8      Small\n",
       "9      Small\n",
       "10    Medium\n",
       "11     Small\n",
       "12    Medium\n",
       "13     Small\n",
       "14      High\n",
       "15     Small\n",
       "16    Medium\n",
       "17    Medium\n",
       "18    Medium\n",
       "19     Small\n",
       "Name: Outlet_Size, dtype: object"
      ]
     },
     "execution_count": 43,
     "metadata": {},
     "output_type": "execute_result"
    }
   ],
   "source": [
    "df['Outlet_Size'].head(20)"
   ]
  },
  {
   "cell_type": "code",
   "execution_count": 44,
   "id": "4bffa28a",
   "metadata": {},
   "outputs": [
    {
     "data": {
      "text/plain": [
       "Item_Identifier              0\n",
       "Item_Weight                  0\n",
       "Item_Fat_Content             0\n",
       "Item_Visibility              0\n",
       "Item_Type                    0\n",
       "Item_MRP                     0\n",
       "Outlet_Identifier            0\n",
       "Outlet_Establishment_Year    0\n",
       "Outlet_Size                  0\n",
       "Outlet_Location_Type         0\n",
       "Outlet_Type                  0\n",
       "Item_Outlet_Sales            0\n",
       "dtype: int64"
      ]
     },
     "execution_count": 44,
     "metadata": {},
     "output_type": "execute_result"
    }
   ],
   "source": [
    "df.isnull().sum()"
   ]
  },
  {
   "cell_type": "markdown",
   "id": "b99c6f68",
   "metadata": {},
   "source": [
    "# Bravo! We've successfully filled in all null values from the dataset."
   ]
  },
  {
   "cell_type": "code",
   "execution_count": 45,
   "id": "bf0446ab",
   "metadata": {},
   "outputs": [
    {
     "name": "stdout",
     "output_type": "stream",
     "text": [
      "['Low Fat' 'Regular' 'low fat' 'LF' 'reg']\n"
     ]
    }
   ],
   "source": [
    "print(df['Item_Fat_Content'].unique())"
   ]
  },
  {
   "cell_type": "code",
   "execution_count": 46,
   "id": "dcf86a16",
   "metadata": {},
   "outputs": [],
   "source": [
    "df['Item_Fat_Content'] = df['Item_Fat_Content'].replace({'low fat':'Low Fat', 'LF':'Low Fat', 'reg':'Regular'})"
   ]
  },
  {
   "cell_type": "markdown",
   "id": "728a2b2e",
   "metadata": {},
   "source": [
    "Some values in Item_Fat_Content were miscode as 'LF' and 'low fat' which meant same as 'Low Fat' , and 'reg' which meant 'Regular'.\n",
    "\n",
    "So, we have replaced those miscoded values properly."
   ]
  },
  {
   "cell_type": "code",
   "execution_count": 47,
   "id": "dd26cfcf",
   "metadata": {},
   "outputs": [
    {
     "name": "stdout",
     "output_type": "stream",
     "text": [
      "['Low Fat' 'Regular']\n"
     ]
    }
   ],
   "source": [
    "print(df['Item_Fat_Content'].unique())"
   ]
  },
  {
   "cell_type": "code",
   "execution_count": 48,
   "id": "a390d2c0",
   "metadata": {},
   "outputs": [
    {
     "name": "stdout",
     "output_type": "stream",
     "text": [
      "['Dairy' 'Soft Drinks' 'Meat' 'Fruits and Vegetables' 'Household'\n",
      " 'Baking Goods' 'Snack Foods' 'Frozen Foods' 'Breakfast'\n",
      " 'Health and Hygiene' 'Hard Drinks' 'Canned' 'Breads' 'Starchy Foods'\n",
      " 'Others' 'Seafood']\n"
     ]
    }
   ],
   "source": [
    "print(df['Item_Type'].unique())"
   ]
  },
  {
   "cell_type": "code",
   "execution_count": 49,
   "id": "3fa0ee48",
   "metadata": {},
   "outputs": [
    {
     "name": "stdout",
     "output_type": "stream",
     "text": [
      "<class 'pandas.core.frame.DataFrame'>\n",
      "RangeIndex: 8523 entries, 0 to 8522\n",
      "Data columns (total 12 columns):\n",
      " #   Column                     Non-Null Count  Dtype  \n",
      "---  ------                     --------------  -----  \n",
      " 0   Item_Identifier            8523 non-null   object \n",
      " 1   Item_Weight                8523 non-null   float64\n",
      " 2   Item_Fat_Content           8523 non-null   object \n",
      " 3   Item_Visibility            8523 non-null   float64\n",
      " 4   Item_Type                  8523 non-null   object \n",
      " 5   Item_MRP                   8523 non-null   float64\n",
      " 6   Outlet_Identifier          8523 non-null   object \n",
      " 7   Outlet_Establishment_Year  8523 non-null   int64  \n",
      " 8   Outlet_Size                8523 non-null   object \n",
      " 9   Outlet_Location_Type       8523 non-null   object \n",
      " 10  Outlet_Type                8523 non-null   object \n",
      " 11  Item_Outlet_Sales          8523 non-null   float64\n",
      "dtypes: float64(4), int64(1), object(7)\n",
      "memory usage: 799.2+ KB\n"
     ]
    }
   ],
   "source": [
    "df.info()"
   ]
  },
  {
   "cell_type": "markdown",
   "id": "7190913d",
   "metadata": {},
   "source": [
    "# Univariate Analysis"
   ]
  },
  {
   "cell_type": "markdown",
   "id": "c2e42247",
   "metadata": {},
   "source": [
    "A distribution plot of Item_Weight"
   ]
  },
  {
   "cell_type": "code",
   "execution_count": 50,
   "id": "a9a1394b",
   "metadata": {},
   "outputs": [
    {
     "data": {
      "image/png": "[encoded data removed]",
      "text/plain": [
       "<Figure size 576x432 with 1 Axes>"
      ]
     },
     "metadata": {
      "needs_background": "light"
     },
     "output_type": "display_data"
    }
   ],
   "source": [
    "plt.figure(figsize=(8,6))\n",
    "sns.set_style('whitegrid')\n",
    "sns.distplot(df['Item_Weight'], color='black');\n",
    "sns.despine;"
   ]
  },
  {
   "cell_type": "raw",
   "id": "6866b9e9",
   "metadata": {},
   "source": [
    "# We can observe three categories of Weight being formed.\n",
    "\n",
    " 1-Items falling in lower weight category might be snacks, etc.\n",
    " 2-Average weight items might include, soft- drinks or other stuff\n",
    " 3-High weight categories might be heavy household items, etc.\n",
    "   Its just a posiible guess being made.\n",
    "\n"
   ]
  },
  {
   "cell_type": "markdown",
   "id": "28abaa24",
   "metadata": {},
   "source": [
    "# A countplot of Fat Content of the items is plotted below:"
   ]
  },
  {
   "cell_type": "code",
   "execution_count": 51,
   "id": "a4b622d9",
   "metadata": {},
   "outputs": [
    {
     "data": {
      "image/png": "[encoded data removed]",
      "text/plain": [
       "<Figure size 576x432 with 1 Axes>"
      ]
     },
     "metadata": {},
     "output_type": "display_data"
    }
   ],
   "source": [
    "plt.figure(figsize=(8,6))\n",
    "sns.set_style('darkgrid')\n",
    "sns.countplot(x='Item_Fat_Content', data=df, palette=\"viridis\");\n",
    "sns.despine;"
   ]
  },
  {
   "cell_type": "markdown",
   "id": "9088e1fb",
   "metadata": {},
   "source": [
    "We can infer from the above countplot that most of the items at the Big Mart have Low Fat content in them. Near about 65% of the items have Low Fat and about 35% have Regular Quantity of Fat in them."
   ]
  },
  {
   "cell_type": "markdown",
   "id": "cd126782",
   "metadata": {},
   "source": [
    "# A distribution plot that combines histogram and kdeplot is plotted below for the Item_Visibility :"
   ]
  },
  {
   "cell_type": "code",
   "execution_count": 52,
   "id": "f9d438b0",
   "metadata": {},
   "outputs": [
    {
     "data": {
      "image/png": "[encoded data removed]",
      "text/plain": [
       "<Figure size 576x432 with 1 Axes>"
      ]
     },
     "metadata": {},
     "output_type": "display_data"
    }
   ],
   "source": [
    "plt.figure(figsize=(8,6))\n",
    "sns.set_style('whitegrid')\n",
    "sns.distplot(df['Item_Visibility'], color='black');\n",
    "sns.despine;"
   ]
  },
  {
   "cell_type": "markdown",
   "id": "067016ea",
   "metadata": {},
   "source": [
    "We see here Item_Visibility has 0 value too for some items, which sounds impractical. If an item is being sold at the Big Mart then how is is it possible for the visibility of that item to be zero?"
   ]
  },
  {
   "cell_type": "code",
   "execution_count": 53,
   "id": "4ce34f09",
   "metadata": {},
   "outputs": [
    {
     "name": "stdout",
     "output_type": "stream",
     "text": [
      "0.0\n"
     ]
    }
   ],
   "source": [
    "\n",
    "print(min(df['Item_Visibility']))"
   ]
  },
  {
   "cell_type": "code",
   "execution_count": 54,
   "id": "dee12c62",
   "metadata": {},
   "outputs": [
    {
     "data": {
      "text/plain": [
       "526"
      ]
     },
     "execution_count": 54,
     "metadata": {},
     "output_type": "execute_result"
    }
   ],
   "source": [
    "\n",
    "df['Item_Visibility'].value_counts()[0]"
   ]
  },
  {
   "cell_type": "markdown",
   "id": "0915ecd6",
   "metadata": {},
   "source": [
    "There are 526 items in our dataset for which the visibility is given to be zero. We try to replace the '0' with the average visibility of all the items in our dataset."
   ]
  },
  {
   "cell_type": "code",
   "execution_count": 55,
   "id": "7af705dd",
   "metadata": {},
   "outputs": [],
   "source": [
    "df['Item_Visibility'] = df['Item_Visibility'].replace({0:df['Item_Visibility'].mean()})"
   ]
  },
  {
   "cell_type": "markdown",
   "id": "d5774c09",
   "metadata": {},
   "source": [
    "# Now we again plot the Item_Visibility by using distplot"
   ]
  },
  {
   "cell_type": "code",
   "execution_count": 56,
   "id": "c859940d",
   "metadata": {},
   "outputs": [
    {
     "data": {
      "image/png": "[encoded data removed]",
      "text/plain": [
       "<Figure size 576x432 with 1 Axes>"
      ]
     },
     "metadata": {},
     "output_type": "display_data"
    }
   ],
   "source": [
    "plt.figure(figsize=(8,6))\n",
    "sns.set_style('whitegrid')\n",
    "sns.distplot(df['Item_Visibility'], color='black');\n",
    "sns.despine;"
   ]
  },
  {
   "cell_type": "raw",
   "id": "ca057b52",
   "metadata": {},
   "source": [
    "We can clearly infer from the above plot that most of the items have very low visibility. They might be the products which are kept at the back. Might include the products which are not much in demand\n",
    "\n",
    "A very few items are kept at the front or near the entrance (having high visibility) where everyone can notice them, maybe the new launched products come under this category.\n",
    "\n",
    "A fair number of items have a mediocre amount of visibility. Maybe they are kept in side racks not visible at the very entrance of the Store."
   ]
  },
  {
   "cell_type": "markdown",
   "id": "d64770f2",
   "metadata": {},
   "source": [
    "# Below is a distplot plotted for the MRP (Maximum Retail Price) of the items:"
   ]
  },
  {
   "cell_type": "code",
   "execution_count": 57,
   "id": "11a000a3",
   "metadata": {},
   "outputs": [
    {
     "data": {
      "image/png": "[encoded data removed]",
      "text/plain": [
       "<Figure size 576x432 with 1 Axes>"
      ]
     },
     "metadata": {},
     "output_type": "display_data"
    }
   ],
   "source": [
    "plt.figure(figsize=(8,6))\n",
    "sns.set_style('whitegrid')\n",
    "sns.distplot(df['Item_MRP'], color='black');\n",
    "sns.despine;"
   ]
  },
  {
   "cell_type": "markdown",
   "id": "4d69d792",
   "metadata": {},
   "source": [
    "We can clearly observe that there are 4 different price categories which can serve as a good feature for predictions, if we encode them into categories.\n",
    "\n",
    "A fair number of items are found in lower price categories.\n",
    "\n",
    "Most of the items have Price lying in Medium or High category.\n",
    "\n",
    "Small number of items are there which come in Very High Price range."
   ]
  },
  {
   "cell_type": "markdown",
   "id": "2790a8b3",
   "metadata": {},
   "source": [
    "# A countplot for checking how the different sized Outlets are distributed is plotted below:"
   ]
  },
  {
   "cell_type": "code",
   "execution_count": 58,
   "id": "88d9be47",
   "metadata": {},
   "outputs": [
    {
     "data": {
      "image/png": "[encoded data removed]",
      "text/plain": [
       "<Figure size 576x432 with 1 Axes>"
      ]
     },
     "metadata": {},
     "output_type": "display_data"
    }
   ],
   "source": [
    "plt.figure(figsize=(8,6))\n",
    "sns.set_style('darkgrid')\n",
    "sns.countplot(x='Outlet_Size', data=df, palette=\"viridis\", order=['Small', 'Medium', 'High']);\n",
    "sns.despine;"
   ]
  },
  {
   "cell_type": "markdown",
   "id": "78f22aa7",
   "metadata": {},
   "source": [
    "There are different categories for Outlet Size:\n",
    "\n",
    "* Small\n",
    "* Medium\n",
    "* High\n",
    "\n",
    "**Most of the stores are of Small Size type.\n",
    "**A small number of them are Medium Sized.\n",
    "**And very less number of stores are Large Sized."
   ]
  },
  {
   "cell_type": "markdown",
   "id": "9df52758",
   "metadata": {},
   "source": [
    "# A countplot for checking how the different Outlets are distributed in different city types is plotted below:"
   ]
  },
  {
   "cell_type": "code",
   "execution_count": 59,
   "id": "86872708",
   "metadata": {},
   "outputs": [
    {
     "data": {
      "image/png": "[encoded data removed]",
      "text/plain": [
       "<Figure size 576x432 with 1 Axes>"
      ]
     },
     "metadata": {},
     "output_type": "display_data"
    }
   ],
   "source": [
    "plt.figure(figsize=(8,6))\n",
    "sns.set_style('darkgrid')\n",
    "sns.countplot(x='Outlet_Location_Type', data=df, palette=\"viridis\", order=['Tier 1', 'Tier 2', 'Tier 3']);\n",
    "sns.despine;"
   ]
  },
  {
   "cell_type": "markdown",
   "id": "f17ead27",
   "metadata": {},
   "source": [
    "We see the distribution of Outlets in different city types, and found out that there are more number of Outlets in Tier 3 cities, probably because the cost of land, electricity, and setting up Outlet is lower there."
   ]
  },
  {
   "cell_type": "markdown",
   "id": "84337bdf",
   "metadata": {},
   "source": [
    "Then Tier 2 cities have lesser number of Outlets than Tier 3, but more than Tier 1 cities."
   ]
  },
  {
   "cell_type": "markdown",
   "id": "508ed1ce",
   "metadata": {},
   "source": [
    "Tier 1 cities have lesser number of Outlets, might be because of the cost factor, or more practically, because of the busy lifestyle of people there, people prefer Online Shopping more."
   ]
  },
  {
   "cell_type": "markdown",
   "id": "5402e773",
   "metadata": {},
   "source": [
    "# Bivariate and Multivariate Analysis"
   ]
  },
  {
   "cell_type": "markdown",
   "id": "e84653ef",
   "metadata": {},
   "source": [
    "# Let's take a look at how various numerical columns are correlated with each other with the help of a seaborn heatmap plotted below:"
   ]
  },
  {
   "cell_type": "code",
   "execution_count": 61,
   "id": "2c03f33f",
   "metadata": {},
   "outputs": [
    {
     "data": {
      "image/png": "[encoded data removed]",
      "text/plain": [
       "<Figure size 864x576 with 2 Axes>"
      ]
     },
     "metadata": {},
     "output_type": "display_data"
    }
   ],
   "source": [
    "plt.figure(figsize=(12,8));\n",
    "sns.heatmap(df.corr(), cmap=\"YlGnBu\",annot=True);"
   ]
  },
  {
   "cell_type": "markdown",
   "id": "4a609148",
   "metadata": {},
   "source": [
    "# A scatterplot of Item_Outlet_Sales vs Item_MRP is plotted below:"
   ]
  },
  {
   "cell_type": "code",
   "execution_count": 62,
   "id": "d90d598a",
   "metadata": {},
   "outputs": [
    {
     "data": {
      "image/png": "[encoded data removed]",
      "text/plain": [
       "<Figure size 576x432 with 1 Axes>"
      ]
     },
     "metadata": {},
     "output_type": "display_data"
    }
   ],
   "source": [
    "plt.figure(figsize=(8,6));\n",
    "sns.set_style('whitegrid')\n",
    "sns.regplot('Item_MRP', 'Item_Outlet_Sales', data=df, x_jitter=0.3, scatter_kws={'alpha':0.3}, color='black');"
   ]
  },
  {
   "cell_type": "markdown",
   "id": "5a211bc4",
   "metadata": {},
   "source": [
    "Maximum Retail Price and Sales of the Item are strongly and positively correlated with each other having a correlation coefficient of 0.57."
   ]
  },
  {
   "cell_type": "markdown",
   "id": "1d364bc6",
   "metadata": {},
   "source": [
    "This sounds practical as the More priced the items are, more they contribute to the Sales."
   ]
  },
  {
   "cell_type": "markdown",
   "id": "cbf4d5d8",
   "metadata": {},
   "source": [
    "Sales are less for the items which are priced lower or mediocre as compared to the items which are highly priced."
   ]
  },
  {
   "cell_type": "markdown",
   "id": "7f4bf0a3",
   "metadata": {},
   "source": [
    "# A scatterplot of Item_Outlet_Sales vs Item_Visibility is plotted below:"
   ]
  },
  {
   "cell_type": "code",
   "execution_count": 63,
   "id": "ce8046ee",
   "metadata": {},
   "outputs": [
    {
     "data": {
      "image/png": "[encoded data removed]",
      "text/plain": [
       "<Figure size 576x432 with 1 Axes>"
      ]
     },
     "metadata": {},
     "output_type": "display_data"
    }
   ],
   "source": [
    "plt.figure(figsize=(8,6));\n",
    "sns.set_style('whitegrid')\n",
    "sns.regplot('Item_Visibility', 'Item_Outlet_Sales', data=df, x_jitter=0.3, scatter_kws={'alpha':0.3}, color='black');\n",
    "plt.xlim(df['Item_Visibility'].min(), df['Item_Visibility'].max());"
   ]
  },
  {
   "cell_type": "markdown",
   "id": "94a5f34f",
   "metadata": {},
   "source": [
    "We see a decreasing trend of Sales vs Item_Visibility."
   ]
  },
  {
   "cell_type": "markdown",
   "id": "eee1246c",
   "metadata": {},
   "source": [
    "Item_Visibility and Item_Outlet_Sales are negatively correlated with a coefficient of -0.13"
   ]
  },
  {
   "cell_type": "markdown",
   "id": "90fa830d",
   "metadata": {},
   "source": [
    "# Density of Item_Outlet_Sales is given as a kdeplot below. Item_Outlet_Sales are plotted grouped on the basis of Outlet_Size:"
   ]
  },
  {
   "cell_type": "code",
   "execution_count": 64,
   "id": "6dacf6b9",
   "metadata": {},
   "outputs": [
    {
     "data": {
      "image/png": "[encoded data removed]",
      "text/plain": [
       "<Figure size 935.75x216 with 1 Axes>"
      ]
     },
     "metadata": {},
     "output_type": "display_data"
    }
   ],
   "source": [
    "sns.set_style('darkgrid')\n",
    "fig = sns.FacetGrid(df, hue='Outlet_Size', aspect=4);\n",
    "fig.map(sns.kdeplot, 'Item_Outlet_Sales', shade=True);\n",
    "oldest = df['Item_Outlet_Sales'].max()\n",
    "fig.set(xlim=(0,oldest))\n",
    "fig.set(title='Distribution of Item Outlet Sales Grouped by Outlet Size');\n",
    "fig.add_legend();"
   ]
  },
  {
   "cell_type": "markdown",
   "id": "00dce28e",
   "metadata": {},
   "source": [
    "# A more clear picture can be drwan from the boxplot of Item_Outlet_Sales vs Outlet_Size plotted below:"
   ]
  },
  {
   "cell_type": "code",
   "execution_count": 65,
   "id": "800c3ae5",
   "metadata": {},
   "outputs": [
    {
     "data": {
      "image/png": "[encoded data removed]",
      "text/plain": [
       "<Figure size 576x576 with 1 Axes>"
      ]
     },
     "metadata": {},
     "output_type": "display_data"
    }
   ],
   "source": [
    "plt.figure(figsize=(8,8))\n",
    "sns.boxplot('Outlet_Size', 'Item_Outlet_Sales', data=df, order=['Small', 'Medium', 'High']);"
   ]
  },
  {
   "cell_type": "markdown",
   "id": "22231bb9",
   "metadata": {},
   "source": [
    "Much distinction cannot be inferred in Item Sales for different Outlet Sizes."
   ]
  },
  {
   "cell_type": "markdown",
   "id": "b654825d",
   "metadata": {},
   "source": [
    "However, we can say that Medim - sized outlets have somewhat higher sales than other two types.\n",
    "\n"
   ]
  },
  {
   "cell_type": "code",
   "execution_count": 66,
   "id": "33c0ba57",
   "metadata": {},
   "outputs": [
    {
     "data": {
      "image/png": "[encoded data removed]",
      "text/plain": [
       "<Figure size 576x576 with 1 Axes>"
      ]
     },
     "metadata": {},
     "output_type": "display_data"
    }
   ],
   "source": [
    "plt.figure(figsize=(8,8))\n",
    "sns.boxplot('Outlet_Type', 'Item_Outlet_Sales', data=df);"
   ]
  },
  {
   "cell_type": "markdown",
   "id": "ee4d9f20",
   "metadata": {},
   "source": [
    "We see that there is a clear distinction in sales figures between grocery stores and supermarkets."
   ]
  },
  {
   "cell_type": "markdown",
   "id": "b0c32858",
   "metadata": {},
   "source": [
    "# This is confirmed if we look at the following Multivariate plot plotted for sales figures across various item categories:\n",
    "\n"
   ]
  },
  {
   "cell_type": "code",
   "execution_count": 67,
   "id": "f061dfd9",
   "metadata": {},
   "outputs": [
    {
     "data": {
      "image/png": "[encoded data removed]",
      "text/plain": [
       "<Figure size 1152x720 with 1 Axes>"
      ]
     },
     "metadata": {},
     "output_type": "display_data"
    }
   ],
   "source": [
    "plt.figure(figsize=(16,10))\n",
    "ax = sns.boxplot('Item_Type', 'Item_Outlet_Sales', data=df, hue='Outlet_Type');\n",
    "ax.set_xticklabels(ax.get_xticklabels(),rotation=30);"
   ]
  },
  {
   "cell_type": "markdown",
   "id": "fdcd2165",
   "metadata": {},
   "source": [
    "# In an overall analysis of Outlet_Type:"
   ]
  },
  {
   "cell_type": "markdown",
   "id": "ca8b4924",
   "metadata": {},
   "source": [
    "Grocery stores have much lesser sales than Supermarkets, which is confirmed from above two plots.\n",
    "\n"
   ]
  },
  {
   "cell_type": "markdown",
   "id": "b6900197",
   "metadata": {},
   "source": [
    "On whole, if we look at distinction between Supermarket types, Supermarket type 3 has higher sales than other two."
   ]
  },
  {
   "cell_type": "markdown",
   "id": "4b73ae05",
   "metadata": {},
   "source": [
    "Supermarket type 1 and type 2, however, cannot be differentiated much."
   ]
  },
  {
   "cell_type": "markdown",
   "id": "af21cbd0",
   "metadata": {},
   "source": [
    "# Feature Engineering"
   ]
  },
  {
   "cell_type": "raw",
   "id": "bb2da164",
   "metadata": {},
   "source": [
    "We create a deep copy of the original cleaned dataframe that we have analysed in above sections.\n",
    "\n",
    "Then we will proceed doing feature engineering on the copy created.\n",
    "\n",
    "Here are the first five rows of dataframe displayed."
   ]
  },
  {
   "cell_type": "code",
   "execution_count": 68,
   "id": "a1518450",
   "metadata": {},
   "outputs": [
    {
     "data": {
      "text/html": [
       "<div>\n",
       "<style scoped>\n",
       "    .dataframe tbody tr th:only-of-type {\n",
       "        vertical-align: middle;\n",
       "    }\n",
       "\n",
       "    .dataframe tbody tr th {\n",
       "        vertical-align: top;\n",
       "    }\n",
       "\n",
       "    .dataframe thead th {\n",
       "        text-align: right;\n",
       "    }\n",
       "</style>\n",
       "<table border=\"1\" class=\"dataframe\">\n",
       "  <thead>\n",
       "    <tr style=\"text-align: right;\">\n",
       "      <th></th>\n",
       "      <th>Item_Identifier</th>\n",
       "      <th>Item_Weight</th>\n",
       "      <th>Item_Fat_Content</th>\n",
       "      <th>Item_Visibility</th>\n",
       "      <th>Item_Type</th>\n",
       "      <th>Item_MRP</th>\n",
       "      <th>Outlet_Identifier</th>\n",
       "      <th>Outlet_Establishment_Year</th>\n",
       "      <th>Outlet_Size</th>\n",
       "      <th>Outlet_Location_Type</th>\n",
       "      <th>Outlet_Type</th>\n",
       "      <th>Item_Outlet_Sales</th>\n",
       "    </tr>\n",
       "  </thead>\n",
       "  <tbody>\n",
       "    <tr>\n",
       "      <th>0</th>\n",
       "      <td>FDA15</td>\n",
       "      <td>9.30</td>\n",
       "      <td>Low Fat</td>\n",
       "      <td>0.016047</td>\n",
       "      <td>Dairy</td>\n",
       "      <td>249.8092</td>\n",
       "      <td>OUT049</td>\n",
       "      <td>1999</td>\n",
       "      <td>Medium</td>\n",
       "      <td>Tier 1</td>\n",
       "      <td>Supermarket Type1</td>\n",
       "      <td>3735.1380</td>\n",
       "    </tr>\n",
       "    <tr>\n",
       "      <th>1</th>\n",
       "      <td>DRC01</td>\n",
       "      <td>5.92</td>\n",
       "      <td>Regular</td>\n",
       "      <td>0.019278</td>\n",
       "      <td>Soft Drinks</td>\n",
       "      <td>48.2692</td>\n",
       "      <td>OUT018</td>\n",
       "      <td>2009</td>\n",
       "      <td>Medium</td>\n",
       "      <td>Tier 3</td>\n",
       "      <td>Supermarket Type2</td>\n",
       "      <td>443.4228</td>\n",
       "    </tr>\n",
       "    <tr>\n",
       "      <th>2</th>\n",
       "      <td>FDN15</td>\n",
       "      <td>17.50</td>\n",
       "      <td>Low Fat</td>\n",
       "      <td>0.016760</td>\n",
       "      <td>Meat</td>\n",
       "      <td>141.6180</td>\n",
       "      <td>OUT049</td>\n",
       "      <td>1999</td>\n",
       "      <td>Medium</td>\n",
       "      <td>Tier 1</td>\n",
       "      <td>Supermarket Type1</td>\n",
       "      <td>2097.2700</td>\n",
       "    </tr>\n",
       "    <tr>\n",
       "      <th>3</th>\n",
       "      <td>FDX07</td>\n",
       "      <td>19.20</td>\n",
       "      <td>Regular</td>\n",
       "      <td>0.066132</td>\n",
       "      <td>Fruits and Vegetables</td>\n",
       "      <td>182.0950</td>\n",
       "      <td>OUT010</td>\n",
       "      <td>1998</td>\n",
       "      <td>Small</td>\n",
       "      <td>Tier 3</td>\n",
       "      <td>Grocery Store</td>\n",
       "      <td>732.3800</td>\n",
       "    </tr>\n",
       "    <tr>\n",
       "      <th>4</th>\n",
       "      <td>NCD19</td>\n",
       "      <td>8.93</td>\n",
       "      <td>Low Fat</td>\n",
       "      <td>0.066132</td>\n",
       "      <td>Household</td>\n",
       "      <td>53.8614</td>\n",
       "      <td>OUT013</td>\n",
       "      <td>1987</td>\n",
       "      <td>High</td>\n",
       "      <td>Tier 3</td>\n",
       "      <td>Supermarket Type1</td>\n",
       "      <td>994.7052</td>\n",
       "    </tr>\n",
       "  </tbody>\n",
       "</table>\n",
       "</div>"
      ],
      "text/plain": [
       "  Item_Identifier  Item_Weight Item_Fat_Content  Item_Visibility  \\\n",
       "0           FDA15         9.30          Low Fat         0.016047   \n",
       "1           DRC01         5.92          Regular         0.019278   \n",
       "2           FDN15        17.50          Low Fat         0.016760   \n",
       "3           FDX07        19.20          Regular         0.066132   \n",
       "4           NCD19         8.93          Low Fat         0.066132   \n",
       "\n",
       "               Item_Type  Item_MRP Outlet_Identifier  \\\n",
       "0                  Dairy  249.8092            OUT049   \n",
       "1            Soft Drinks   48.2692            OUT018   \n",
       "2                   Meat  141.6180            OUT049   \n",
       "3  Fruits and Vegetables  182.0950            OUT010   \n",
       "4              Household   53.8614            OUT013   \n",
       "\n",
       "   Outlet_Establishment_Year Outlet_Size Outlet_Location_Type  \\\n",
       "0                       1999      Medium               Tier 1   \n",
       "1                       2009      Medium               Tier 3   \n",
       "2                       1999      Medium               Tier 1   \n",
       "3                       1998       Small               Tier 3   \n",
       "4                       1987        High               Tier 3   \n",
       "\n",
       "         Outlet_Type  Item_Outlet_Sales  \n",
       "0  Supermarket Type1          3735.1380  \n",
       "1  Supermarket Type2           443.4228  \n",
       "2  Supermarket Type1          2097.2700  \n",
       "3      Grocery Store           732.3800  \n",
       "4  Supermarket Type1           994.7052  "
      ]
     },
     "execution_count": 68,
     "metadata": {},
     "output_type": "execute_result"
    }
   ],
   "source": [
    "data = df.copy()\n",
    "data.head()"
   ]
  },
  {
   "cell_type": "code",
   "execution_count": 69,
   "id": "fdd4f473",
   "metadata": {},
   "outputs": [
    {
     "name": "stdout",
     "output_type": "stream",
     "text": [
      "16\n",
      "['Dairy' 'Soft Drinks' 'Meat' 'Fruits and Vegetables' 'Household'\n",
      " 'Baking Goods' 'Snack Foods' 'Frozen Foods' 'Breakfast'\n",
      " 'Health and Hygiene' 'Hard Drinks' 'Canned' 'Breads' 'Starchy Foods'\n",
      " 'Others' 'Seafood']\n"
     ]
    }
   ],
   "source": [
    "print(data['Item_Type'].nunique())\n",
    "print(data['Item_Type'].unique())"
   ]
  },
  {
   "cell_type": "markdown",
   "id": "bb663f59",
   "metadata": {},
   "source": [
    "The Item_Type variable has 16 unique categories for items. It might be a good idea to combine them to get better results. We can manually assign each of them into new categories."
   ]
  },
  {
   "cell_type": "markdown",
   "id": "91bac9bb",
   "metadata": {},
   "source": [
    "Or if we look at Item_Identifier we see first two characters denote 'FD', 'DR' and 'NC' which mean 'Food', 'Drink' and 'Non - Consumable' respectively."
   ]
  },
  {
   "cell_type": "markdown",
   "id": "b75172ca",
   "metadata": {},
   "source": [
    "We can use it to assign categories."
   ]
  },
  {
   "cell_type": "code",
   "execution_count": 71,
   "id": "d896c0d6",
   "metadata": {},
   "outputs": [
    {
     "data": {
      "text/plain": [
       "0    FD\n",
       "1    DR\n",
       "2    FD\n",
       "3    FD\n",
       "4    NC\n",
       "Name: Item_Type_Combined, dtype: object"
      ]
     },
     "execution_count": 71,
     "metadata": {},
     "output_type": "execute_result"
    }
   ],
   "source": [
    "data['Item_Type_Combined'] = data['Item_Identifier'].apply(lambda x : x[0:2])\n",
    "data['Item_Type_Combined'].head()"
   ]
  },
  {
   "cell_type": "markdown",
   "id": "0ec15ec9",
   "metadata": {},
   "source": [
    "Now it's turn to map 'FD', 'DR', and 'NC' with 'Food', 'Drinks', and 'Non - Consumable' respectively."
   ]
  },
  {
   "cell_type": "code",
   "execution_count": 72,
   "id": "325bd889",
   "metadata": {},
   "outputs": [
    {
     "data": {
      "text/plain": [
       "Food              6125\n",
       "Non-Consumable    1599\n",
       "Drinks             799\n",
       "Name: Item_Type_Combined, dtype: int64"
      ]
     },
     "execution_count": 72,
     "metadata": {},
     "output_type": "execute_result"
    }
   ],
   "source": [
    "data['Item_Type_Combined'] = data['Item_Type_Combined'].map({'FD':'Food', 'DR':'Drinks', 'NC':'Non-Consumable'})\n",
    "data['Item_Type_Combined'].value_counts()"
   ]
  },
  {
   "cell_type": "markdown",
   "id": "d3970652",
   "metadata": {},
   "source": [
    "The sales data was collected in 2013.\n",
    "\n",
    "The stores which are opened from a longer period of time might have higher sales as it sounds practical to relate them, because a store which is in operation for longer time might have many customers associated with them for a long time, who would prefer to buy more items from the store."
   ]
  },
  {
   "cell_type": "markdown",
   "id": "f1c58fa2",
   "metadata": {},
   "source": [
    "So, having the Operation Years for each store can be a good predictor."
   ]
  },
  {
   "cell_type": "code",
   "execution_count": 73,
   "id": "6e4954d8",
   "metadata": {},
   "outputs": [
    {
     "data": {
      "text/plain": [
       "0    14\n",
       "1     4\n",
       "2    14\n",
       "3    15\n",
       "4    26\n",
       "Name: Outlet_Operation_Years, dtype: int64"
      ]
     },
     "execution_count": 73,
     "metadata": {},
     "output_type": "execute_result"
    }
   ],
   "source": [
    "data['Outlet_Operation_Years'] = 2013 - data['Outlet_Establishment_Year']\n",
    "data['Outlet_Operation_Years'].head()"
   ]
  },
  {
   "cell_type": "markdown",
   "id": "e95d0bec",
   "metadata": {},
   "source": [
    "It is non-sensical to label Fat Content on items which are Non - Consumable, So for the items which are of Non - Consumable Type, we label Fat Content column as 'Non - Edible'."
   ]
  },
  {
   "cell_type": "code",
   "execution_count": 74,
   "id": "c5543863",
   "metadata": {},
   "outputs": [
    {
     "data": {
      "text/plain": [
       "Low Fat       3918\n",
       "Regular       3006\n",
       "Non-Edible    1599\n",
       "Name: Item_Fat_Content, dtype: int64"
      ]
     },
     "execution_count": 74,
     "metadata": {},
     "output_type": "execute_result"
    }
   ],
   "source": [
    "data.loc[data['Item_Type_Combined']==\"Non-Consumable\",'Item_Fat_Content'] = \"Non-Edible\"\n",
    "data['Item_Fat_Content'].value_counts()"
   ]
  },
  {
   "cell_type": "code",
   "execution_count": 75,
   "id": "832c6a7e",
   "metadata": {},
   "outputs": [
    {
     "data": {
      "text/html": [
       "<div>\n",
       "<style scoped>\n",
       "    .dataframe tbody tr th:only-of-type {\n",
       "        vertical-align: middle;\n",
       "    }\n",
       "\n",
       "    .dataframe tbody tr th {\n",
       "        vertical-align: top;\n",
       "    }\n",
       "\n",
       "    .dataframe thead th {\n",
       "        text-align: right;\n",
       "    }\n",
       "</style>\n",
       "<table border=\"1\" class=\"dataframe\">\n",
       "  <thead>\n",
       "    <tr style=\"text-align: right;\">\n",
       "      <th></th>\n",
       "      <th>Item_Identifier</th>\n",
       "      <th>Item_Weight</th>\n",
       "      <th>Item_Fat_Content</th>\n",
       "      <th>Item_Visibility</th>\n",
       "      <th>Item_Type</th>\n",
       "      <th>Item_MRP</th>\n",
       "      <th>Outlet_Identifier</th>\n",
       "      <th>Outlet_Establishment_Year</th>\n",
       "      <th>Outlet_Size</th>\n",
       "      <th>Outlet_Location_Type</th>\n",
       "      <th>Outlet_Type</th>\n",
       "      <th>Item_Outlet_Sales</th>\n",
       "      <th>Item_Type_Combined</th>\n",
       "      <th>Outlet_Operation_Years</th>\n",
       "    </tr>\n",
       "  </thead>\n",
       "  <tbody>\n",
       "    <tr>\n",
       "      <th>0</th>\n",
       "      <td>FDA15</td>\n",
       "      <td>9.30</td>\n",
       "      <td>Low Fat</td>\n",
       "      <td>0.016047</td>\n",
       "      <td>Dairy</td>\n",
       "      <td>249.8092</td>\n",
       "      <td>OUT049</td>\n",
       "      <td>1999</td>\n",
       "      <td>Medium</td>\n",
       "      <td>Tier 1</td>\n",
       "      <td>Supermarket Type1</td>\n",
       "      <td>3735.1380</td>\n",
       "      <td>Food</td>\n",
       "      <td>14</td>\n",
       "    </tr>\n",
       "    <tr>\n",
       "      <th>1</th>\n",
       "      <td>DRC01</td>\n",
       "      <td>5.92</td>\n",
       "      <td>Regular</td>\n",
       "      <td>0.019278</td>\n",
       "      <td>Soft Drinks</td>\n",
       "      <td>48.2692</td>\n",
       "      <td>OUT018</td>\n",
       "      <td>2009</td>\n",
       "      <td>Medium</td>\n",
       "      <td>Tier 3</td>\n",
       "      <td>Supermarket Type2</td>\n",
       "      <td>443.4228</td>\n",
       "      <td>Drinks</td>\n",
       "      <td>4</td>\n",
       "    </tr>\n",
       "    <tr>\n",
       "      <th>2</th>\n",
       "      <td>FDN15</td>\n",
       "      <td>17.50</td>\n",
       "      <td>Low Fat</td>\n",
       "      <td>0.016760</td>\n",
       "      <td>Meat</td>\n",
       "      <td>141.6180</td>\n",
       "      <td>OUT049</td>\n",
       "      <td>1999</td>\n",
       "      <td>Medium</td>\n",
       "      <td>Tier 1</td>\n",
       "      <td>Supermarket Type1</td>\n",
       "      <td>2097.2700</td>\n",
       "      <td>Food</td>\n",
       "      <td>14</td>\n",
       "    </tr>\n",
       "    <tr>\n",
       "      <th>3</th>\n",
       "      <td>FDX07</td>\n",
       "      <td>19.20</td>\n",
       "      <td>Regular</td>\n",
       "      <td>0.066132</td>\n",
       "      <td>Fruits and Vegetables</td>\n",
       "      <td>182.0950</td>\n",
       "      <td>OUT010</td>\n",
       "      <td>1998</td>\n",
       "      <td>Small</td>\n",
       "      <td>Tier 3</td>\n",
       "      <td>Grocery Store</td>\n",
       "      <td>732.3800</td>\n",
       "      <td>Food</td>\n",
       "      <td>15</td>\n",
       "    </tr>\n",
       "    <tr>\n",
       "      <th>4</th>\n",
       "      <td>NCD19</td>\n",
       "      <td>8.93</td>\n",
       "      <td>Non-Edible</td>\n",
       "      <td>0.066132</td>\n",
       "      <td>Household</td>\n",
       "      <td>53.8614</td>\n",
       "      <td>OUT013</td>\n",
       "      <td>1987</td>\n",
       "      <td>High</td>\n",
       "      <td>Tier 3</td>\n",
       "      <td>Supermarket Type1</td>\n",
       "      <td>994.7052</td>\n",
       "      <td>Non-Consumable</td>\n",
       "      <td>26</td>\n",
       "    </tr>\n",
       "  </tbody>\n",
       "</table>\n",
       "</div>"
      ],
      "text/plain": [
       "  Item_Identifier  Item_Weight Item_Fat_Content  Item_Visibility  \\\n",
       "0           FDA15         9.30          Low Fat         0.016047   \n",
       "1           DRC01         5.92          Regular         0.019278   \n",
       "2           FDN15        17.50          Low Fat         0.016760   \n",
       "3           FDX07        19.20          Regular         0.066132   \n",
       "4           NCD19         8.93       Non-Edible         0.066132   \n",
       "\n",
       "               Item_Type  Item_MRP Outlet_Identifier  \\\n",
       "0                  Dairy  249.8092            OUT049   \n",
       "1            Soft Drinks   48.2692            OUT018   \n",
       "2                   Meat  141.6180            OUT049   \n",
       "3  Fruits and Vegetables  182.0950            OUT010   \n",
       "4              Household   53.8614            OUT013   \n",
       "\n",
       "   Outlet_Establishment_Year Outlet_Size Outlet_Location_Type  \\\n",
       "0                       1999      Medium               Tier 1   \n",
       "1                       2009      Medium               Tier 3   \n",
       "2                       1999      Medium               Tier 1   \n",
       "3                       1998       Small               Tier 3   \n",
       "4                       1987        High               Tier 3   \n",
       "\n",
       "         Outlet_Type  Item_Outlet_Sales Item_Type_Combined  \\\n",
       "0  Supermarket Type1          3735.1380               Food   \n",
       "1  Supermarket Type2           443.4228             Drinks   \n",
       "2  Supermarket Type1          2097.2700               Food   \n",
       "3      Grocery Store           732.3800               Food   \n",
       "4  Supermarket Type1           994.7052     Non-Consumable   \n",
       "\n",
       "   Outlet_Operation_Years  \n",
       "0                      14  \n",
       "1                       4  \n",
       "2                      14  \n",
       "3                      15  \n",
       "4                      26  "
      ]
     },
     "execution_count": 75,
     "metadata": {},
     "output_type": "execute_result"
    }
   ],
   "source": [
    "data.head()"
   ]
  },
  {
   "cell_type": "markdown",
   "id": "6c65d093",
   "metadata": {},
   "source": [
    "We have our dataset in the above Feature Engineered form. Now we'll do numerical encoding of the categorical columns which are of string type.\n",
    "\n",
    "In the cell below we have imported LabelEncoder method from sklearn.preprocessing to encode categorical columns into numericals."
   ]
  },
  {
   "cell_type": "code",
   "execution_count": 76,
   "id": "6c76e9d4",
   "metadata": {},
   "outputs": [],
   "source": [
    "from sklearn.preprocessing import LabelEncoder"
   ]
  },
  {
   "cell_type": "code",
   "execution_count": 77,
   "id": "76d6431e",
   "metadata": {},
   "outputs": [],
   "source": [
    "categorical_cols = ['Item_Fat_Content','Outlet_Location_Type','Outlet_Size','Item_Type_Combined','Outlet_Type','Outlet_Identifier']\n",
    "encode = LabelEncoder()\n",
    "\n",
    "for item in categorical_cols:\n",
    "  data[item] = encode.fit_transform(data[item])"
   ]
  },
  {
   "cell_type": "markdown",
   "id": "636c2d11",
   "metadata": {},
   "source": [
    "LabelEncoder encodes categories into numbers as 0, 1, 2, and so on..\n",
    "\n",
    "So our model might get confuse and give more weightage to category with higher number which is not the case.\n",
    "\n",
    "Hence, we have to create dummies in order to give equal importance to each category present.\n",
    "\n",
    "In the cell below we create dummy variables for the categorical columns."
   ]
  },
  {
   "cell_type": "code",
   "execution_count": 78,
   "id": "c59be3d9",
   "metadata": {},
   "outputs": [],
   "source": [
    "data = pd.get_dummies(data, columns=categorical_cols)"
   ]
  },
  {
   "cell_type": "code",
   "execution_count": 79,
   "id": "c93a08e3",
   "metadata": {},
   "outputs": [
    {
     "name": "stdout",
     "output_type": "stream",
     "text": [
      "<class 'pandas.core.frame.DataFrame'>\n",
      "RangeIndex: 8523 entries, 0 to 8522\n",
      "Data columns (total 34 columns):\n",
      " #   Column                     Non-Null Count  Dtype  \n",
      "---  ------                     --------------  -----  \n",
      " 0   Item_Identifier            8523 non-null   object \n",
      " 1   Item_Weight                8523 non-null   float64\n",
      " 2   Item_Visibility            8523 non-null   float64\n",
      " 3   Item_Type                  8523 non-null   object \n",
      " 4   Item_MRP                   8523 non-null   float64\n",
      " 5   Outlet_Establishment_Year  8523 non-null   int64  \n",
      " 6   Item_Outlet_Sales          8523 non-null   float64\n",
      " 7   Outlet_Operation_Years     8523 non-null   int64  \n",
      " 8   Item_Fat_Content_0         8523 non-null   uint8  \n",
      " 9   Item_Fat_Content_1         8523 non-null   uint8  \n",
      " 10  Item_Fat_Content_2         8523 non-null   uint8  \n",
      " 11  Outlet_Location_Type_0     8523 non-null   uint8  \n",
      " 12  Outlet_Location_Type_1     8523 non-null   uint8  \n",
      " 13  Outlet_Location_Type_2     8523 non-null   uint8  \n",
      " 14  Outlet_Size_0              8523 non-null   uint8  \n",
      " 15  Outlet_Size_1              8523 non-null   uint8  \n",
      " 16  Outlet_Size_2              8523 non-null   uint8  \n",
      " 17  Item_Type_Combined_0       8523 non-null   uint8  \n",
      " 18  Item_Type_Combined_1       8523 non-null   uint8  \n",
      " 19  Item_Type_Combined_2       8523 non-null   uint8  \n",
      " 20  Outlet_Type_0              8523 non-null   uint8  \n",
      " 21  Outlet_Type_1              8523 non-null   uint8  \n",
      " 22  Outlet_Type_2              8523 non-null   uint8  \n",
      " 23  Outlet_Type_3              8523 non-null   uint8  \n",
      " 24  Outlet_Identifier_0        8523 non-null   uint8  \n",
      " 25  Outlet_Identifier_1        8523 non-null   uint8  \n",
      " 26  Outlet_Identifier_2        8523 non-null   uint8  \n",
      " 27  Outlet_Identifier_3        8523 non-null   uint8  \n",
      " 28  Outlet_Identifier_4        8523 non-null   uint8  \n",
      " 29  Outlet_Identifier_5        8523 non-null   uint8  \n",
      " 30  Outlet_Identifier_6        8523 non-null   uint8  \n",
      " 31  Outlet_Identifier_7        8523 non-null   uint8  \n",
      " 32  Outlet_Identifier_8        8523 non-null   uint8  \n",
      " 33  Outlet_Identifier_9        8523 non-null   uint8  \n",
      "dtypes: float64(4), int64(2), object(2), uint8(26)\n",
      "memory usage: 749.2+ KB\n"
     ]
    }
   ],
   "source": [
    "data.info()"
   ]
  },
  {
   "cell_type": "markdown",
   "id": "fde7f8c8",
   "metadata": {},
   "source": [
    "We can see in the above info of our dataset, the dummy columns created in place of original categorical columns.\n",
    "\n",
    "Now we store all the features into X , by dropping the columns for which we have already created other engineered columns or the columns which we don't require as feature.\n",
    "\n",
    "Item_Identifier does not seem to be a good feature for prediction, so we drop it."
   ]
  },
  {
   "cell_type": "code",
   "execution_count": 80,
   "id": "534ae9b8",
   "metadata": {},
   "outputs": [],
   "source": [
    "X = data.drop(['Item_Identifier', 'Item_Type', 'Outlet_Establishment_Year', 'Item_Outlet_Sales'], axis=1)\n",
    "y = data['Item_Outlet_Sales']"
   ]
  },
  {
   "cell_type": "code",
   "execution_count": 81,
   "id": "3c1680dc",
   "metadata": {},
   "outputs": [
    {
     "data": {
      "text/html": [
       "<div>\n",
       "<style scoped>\n",
       "    .dataframe tbody tr th:only-of-type {\n",
       "        vertical-align: middle;\n",
       "    }\n",
       "\n",
       "    .dataframe tbody tr th {\n",
       "        vertical-align: top;\n",
       "    }\n",
       "\n",
       "    .dataframe thead th {\n",
       "        text-align: right;\n",
       "    }\n",
       "</style>\n",
       "<table border=\"1\" class=\"dataframe\">\n",
       "  <thead>\n",
       "    <tr style=\"text-align: right;\">\n",
       "      <th></th>\n",
       "      <th>Item_Weight</th>\n",
       "      <th>Item_Visibility</th>\n",
       "      <th>Item_MRP</th>\n",
       "      <th>Outlet_Operation_Years</th>\n",
       "      <th>Item_Fat_Content_0</th>\n",
       "      <th>Item_Fat_Content_1</th>\n",
       "      <th>Item_Fat_Content_2</th>\n",
       "      <th>Outlet_Location_Type_0</th>\n",
       "      <th>Outlet_Location_Type_1</th>\n",
       "      <th>Outlet_Location_Type_2</th>\n",
       "      <th>...</th>\n",
       "      <th>Outlet_Identifier_0</th>\n",
       "      <th>Outlet_Identifier_1</th>\n",
       "      <th>Outlet_Identifier_2</th>\n",
       "      <th>Outlet_Identifier_3</th>\n",
       "      <th>Outlet_Identifier_4</th>\n",
       "      <th>Outlet_Identifier_5</th>\n",
       "      <th>Outlet_Identifier_6</th>\n",
       "      <th>Outlet_Identifier_7</th>\n",
       "      <th>Outlet_Identifier_8</th>\n",
       "      <th>Outlet_Identifier_9</th>\n",
       "    </tr>\n",
       "  </thead>\n",
       "  <tbody>\n",
       "    <tr>\n",
       "      <th>0</th>\n",
       "      <td>9.30</td>\n",
       "      <td>0.016047</td>\n",
       "      <td>249.8092</td>\n",
       "      <td>14</td>\n",
       "      <td>1</td>\n",
       "      <td>0</td>\n",
       "      <td>0</td>\n",
       "      <td>1</td>\n",
       "      <td>0</td>\n",
       "      <td>0</td>\n",
       "      <td>...</td>\n",
       "      <td>0</td>\n",
       "      <td>0</td>\n",
       "      <td>0</td>\n",
       "      <td>0</td>\n",
       "      <td>0</td>\n",
       "      <td>0</td>\n",
       "      <td>0</td>\n",
       "      <td>0</td>\n",
       "      <td>0</td>\n",
       "      <td>1</td>\n",
       "    </tr>\n",
       "    <tr>\n",
       "      <th>1</th>\n",
       "      <td>5.92</td>\n",
       "      <td>0.019278</td>\n",
       "      <td>48.2692</td>\n",
       "      <td>4</td>\n",
       "      <td>0</td>\n",
       "      <td>0</td>\n",
       "      <td>1</td>\n",
       "      <td>0</td>\n",
       "      <td>0</td>\n",
       "      <td>1</td>\n",
       "      <td>...</td>\n",
       "      <td>0</td>\n",
       "      <td>0</td>\n",
       "      <td>0</td>\n",
       "      <td>1</td>\n",
       "      <td>0</td>\n",
       "      <td>0</td>\n",
       "      <td>0</td>\n",
       "      <td>0</td>\n",
       "      <td>0</td>\n",
       "      <td>0</td>\n",
       "    </tr>\n",
       "    <tr>\n",
       "      <th>2</th>\n",
       "      <td>17.50</td>\n",
       "      <td>0.016760</td>\n",
       "      <td>141.6180</td>\n",
       "      <td>14</td>\n",
       "      <td>1</td>\n",
       "      <td>0</td>\n",
       "      <td>0</td>\n",
       "      <td>1</td>\n",
       "      <td>0</td>\n",
       "      <td>0</td>\n",
       "      <td>...</td>\n",
       "      <td>0</td>\n",
       "      <td>0</td>\n",
       "      <td>0</td>\n",
       "      <td>0</td>\n",
       "      <td>0</td>\n",
       "      <td>0</td>\n",
       "      <td>0</td>\n",
       "      <td>0</td>\n",
       "      <td>0</td>\n",
       "      <td>1</td>\n",
       "    </tr>\n",
       "    <tr>\n",
       "      <th>3</th>\n",
       "      <td>19.20</td>\n",
       "      <td>0.066132</td>\n",
       "      <td>182.0950</td>\n",
       "      <td>15</td>\n",
       "      <td>0</td>\n",
       "      <td>0</td>\n",
       "      <td>1</td>\n",
       "      <td>0</td>\n",
       "      <td>0</td>\n",
       "      <td>1</td>\n",
       "      <td>...</td>\n",
       "      <td>1</td>\n",
       "      <td>0</td>\n",
       "      <td>0</td>\n",
       "      <td>0</td>\n",
       "      <td>0</td>\n",
       "      <td>0</td>\n",
       "      <td>0</td>\n",
       "      <td>0</td>\n",
       "      <td>0</td>\n",
       "      <td>0</td>\n",
       "    </tr>\n",
       "    <tr>\n",
       "      <th>4</th>\n",
       "      <td>8.93</td>\n",
       "      <td>0.066132</td>\n",
       "      <td>53.8614</td>\n",
       "      <td>26</td>\n",
       "      <td>0</td>\n",
       "      <td>1</td>\n",
       "      <td>0</td>\n",
       "      <td>0</td>\n",
       "      <td>0</td>\n",
       "      <td>1</td>\n",
       "      <td>...</td>\n",
       "      <td>0</td>\n",
       "      <td>1</td>\n",
       "      <td>0</td>\n",
       "      <td>0</td>\n",
       "      <td>0</td>\n",
       "      <td>0</td>\n",
       "      <td>0</td>\n",
       "      <td>0</td>\n",
       "      <td>0</td>\n",
       "      <td>0</td>\n",
       "    </tr>\n",
       "  </tbody>\n",
       "</table>\n",
       "<p>5 rows × 30 columns</p>\n",
       "</div>"
      ],
      "text/plain": [
       "   Item_Weight  Item_Visibility  Item_MRP  Outlet_Operation_Years  \\\n",
       "0         9.30         0.016047  249.8092                      14   \n",
       "1         5.92         0.019278   48.2692                       4   \n",
       "2        17.50         0.016760  141.6180                      14   \n",
       "3        19.20         0.066132  182.0950                      15   \n",
       "4         8.93         0.066132   53.8614                      26   \n",
       "\n",
       "   Item_Fat_Content_0  Item_Fat_Content_1  Item_Fat_Content_2  \\\n",
       "0                   1                   0                   0   \n",
       "1                   0                   0                   1   \n",
       "2                   1                   0                   0   \n",
       "3                   0                   0                   1   \n",
       "4                   0                   1                   0   \n",
       "\n",
       "   Outlet_Location_Type_0  Outlet_Location_Type_1  Outlet_Location_Type_2  \\\n",
       "0                       1                       0                       0   \n",
       "1                       0                       0                       1   \n",
       "2                       1                       0                       0   \n",
       "3                       0                       0                       1   \n",
       "4                       0                       0                       1   \n",
       "\n",
       "   ...  Outlet_Identifier_0  Outlet_Identifier_1  Outlet_Identifier_2  \\\n",
       "0  ...                    0                    0                    0   \n",
       "1  ...                    0                    0                    0   \n",
       "2  ...                    0                    0                    0   \n",
       "3  ...                    1                    0                    0   \n",
       "4  ...                    0                    1                    0   \n",
       "\n",
       "   Outlet_Identifier_3  Outlet_Identifier_4  Outlet_Identifier_5  \\\n",
       "0                    0                    0                    0   \n",
       "1                    1                    0                    0   \n",
       "2                    0                    0                    0   \n",
       "3                    0                    0                    0   \n",
       "4                    0                    0                    0   \n",
       "\n",
       "   Outlet_Identifier_6  Outlet_Identifier_7  Outlet_Identifier_8  \\\n",
       "0                    0                    0                    0   \n",
       "1                    0                    0                    0   \n",
       "2                    0                    0                    0   \n",
       "3                    0                    0                    0   \n",
       "4                    0                    0                    0   \n",
       "\n",
       "   Outlet_Identifier_9  \n",
       "0                    1  \n",
       "1                    0  \n",
       "2                    1  \n",
       "3                    0  \n",
       "4                    0  \n",
       "\n",
       "[5 rows x 30 columns]"
      ]
     },
     "execution_count": 81,
     "metadata": {},
     "output_type": "execute_result"
    }
   ],
   "source": [
    "X.head()"
   ]
  },
  {
   "cell_type": "code",
   "execution_count": 82,
   "id": "3977c716",
   "metadata": {},
   "outputs": [
    {
     "data": {
      "text/plain": [
       "0    3735.1380\n",
       "1     443.4228\n",
       "2    2097.2700\n",
       "3     732.3800\n",
       "4     994.7052\n",
       "Name: Item_Outlet_Sales, dtype: float64"
      ]
     },
     "execution_count": 82,
     "metadata": {},
     "output_type": "execute_result"
    }
   ],
   "source": [
    "y.head()"
   ]
  },
  {
   "cell_type": "markdown",
   "id": "872269f6",
   "metadata": {},
   "source": [
    "# Train Test Split"
   ]
  },
  {
   "cell_type": "code",
   "execution_count": 84,
   "id": "612d233f",
   "metadata": {},
   "outputs": [],
   "source": [
    "from sklearn.model_selection import train_test_split"
   ]
  },
  {
   "cell_type": "code",
   "execution_count": 85,
   "id": "d695028f",
   "metadata": {},
   "outputs": [],
   "source": [
    "X_train, X_test, y_train, y_test = train_test_split(X, y, test_size=0.30, random_state=101)"
   ]
  },
  {
   "cell_type": "markdown",
   "id": "6737e97f",
   "metadata": {},
   "source": [
    "# Building and Training Linear Regression Model\n"
   ]
  },
  {
   "cell_type": "code",
   "execution_count": 89,
   "id": "020b194f",
   "metadata": {},
   "outputs": [],
   "source": [
    "from sklearn.linear_model import LinearRegression"
   ]
  },
  {
   "cell_type": "code",
   "execution_count": 90,
   "id": "6337c2c4",
   "metadata": {},
   "outputs": [],
   "source": [
    "lm = LinearRegression(normalize=True)"
   ]
  },
  {
   "cell_type": "code",
   "execution_count": 91,
   "id": "8cb9080e",
   "metadata": {},
   "outputs": [
    {
     "data": {
      "text/plain": [
       "LinearRegression(normalize=True)"
      ]
     },
     "execution_count": 91,
     "metadata": {},
     "output_type": "execute_result"
    }
   ],
   "source": [
    "lm.fit(X_train, y_train)"
   ]
  },
  {
   "cell_type": "markdown",
   "id": "99dad443",
   "metadata": {},
   "source": [
    "# Predictions and Evaluation"
   ]
  },
  {
   "cell_type": "code",
   "execution_count": 92,
   "id": "b2d99c66",
   "metadata": {},
   "outputs": [],
   "source": [
    "predict = lm.predict(X_test)"
   ]
  },
  {
   "cell_type": "code",
   "execution_count": 93,
   "id": "22c2cb2b",
   "metadata": {},
   "outputs": [
    {
     "name": "stdout",
     "output_type": "stream",
     "text": [
      "Score: \n"
     ]
    },
    {
     "data": {
      "text/plain": [
       "0.5685551196255254"
      ]
     },
     "execution_count": 93,
     "metadata": {},
     "output_type": "execute_result"
    }
   ],
   "source": [
    "print('Score: ')\n",
    "lm.score(X_test, y_test)"
   ]
  },
  {
   "cell_type": "code",
   "execution_count": 94,
   "id": "9e9ccb35",
   "metadata": {},
   "outputs": [
    {
     "name": "stdout",
     "output_type": "stream",
     "text": [
      "MAE: 809.4134445052796\n",
      "MSE: 1159125.773892611\n",
      "RMSE: 1076.6270356500486\n"
     ]
    }
   ],
   "source": [
    "from sklearn import metrics\n",
    "print('MAE:', metrics.mean_absolute_error(y_test, predict))\n",
    "print('MSE:', metrics.mean_squared_error(y_test, predict))\n",
    "print('RMSE:', np.sqrt(metrics.mean_squared_error(y_test, predict)))"
   ]
  },
  {
   "cell_type": "markdown",
   "id": "6ee773ac",
   "metadata": {},
   "source": [
    "# Trying ensemble methods"
   ]
  },
  {
   "cell_type": "markdown",
   "id": "4f4e8354",
   "metadata": {},
   "source": [
    "# GradientBoosting Regressor"
   ]
  },
  {
   "cell_type": "code",
   "execution_count": 95,
   "id": "a8d72fa7",
   "metadata": {},
   "outputs": [],
   "source": [
    "from sklearn.ensemble import GradientBoostingRegressor"
   ]
  },
  {
   "cell_type": "markdown",
   "id": "bd38e2f7",
   "metadata": {},
   "source": [
    "We try to fine-tune parameters for our GradientBoosting Regressor by using GridSearch"
   ]
  },
  {
   "cell_type": "code",
   "execution_count": 96,
   "id": "93d57362",
   "metadata": {},
   "outputs": [],
   "source": [
    "from sklearn.model_selection import GridSearchCV"
   ]
  },
  {
   "cell_type": "code",
   "execution_count": 97,
   "id": "a71f5ac9",
   "metadata": {},
   "outputs": [
    {
     "name": "stdout",
     "output_type": "stream",
     "text": [
      "{'n_estimators': 50}\n"
     ]
    }
   ],
   "source": [
    "param_grid = {'n_estimators':[10, 50, 100, 150, 500, 1000]}\n",
    "grid = GridSearchCV(GradientBoostingRegressor(), param_grid)\n",
    "grid.fit(X_train, y_train)\n",
    "print(grid.best_params_)"
   ]
  },
  {
   "cell_type": "markdown",
   "id": "cc408e1f",
   "metadata": {},
   "source": [
    "By using GridSearch we came to know that for best resuts, value for n_estimators should be kept 50"
   ]
  },
  {
   "cell_type": "markdown",
   "id": "d53aa304",
   "metadata": {},
   "source": [
    "# Building and Training the model"
   ]
  },
  {
   "cell_type": "code",
   "execution_count": 98,
   "id": "04fce656",
   "metadata": {},
   "outputs": [],
   "source": [
    "gbr = GradientBoostingRegressor(n_estimators=50)"
   ]
  },
  {
   "cell_type": "code",
   "execution_count": 99,
   "id": "977a6267",
   "metadata": {},
   "outputs": [
    {
     "data": {
      "text/plain": [
       "GradientBoostingRegressor(n_estimators=50)"
      ]
     },
     "execution_count": 99,
     "metadata": {},
     "output_type": "execute_result"
    }
   ],
   "source": [
    "gbr.fit(X_train, y_train)"
   ]
  },
  {
   "cell_type": "markdown",
   "id": "e29dbda4",
   "metadata": {},
   "source": [
    "# Predictions and Evaluation"
   ]
  },
  {
   "cell_type": "code",
   "execution_count": 100,
   "id": "79738a1a",
   "metadata": {},
   "outputs": [],
   "source": [
    "gbrpredict = gbr.predict(X_test)"
   ]
  },
  {
   "cell_type": "code",
   "execution_count": 101,
   "id": "c987b1af",
   "metadata": {},
   "outputs": [
    {
     "name": "stdout",
     "output_type": "stream",
     "text": [
      "Score: \n"
     ]
    },
    {
     "data": {
      "text/plain": [
       "0.6139938994800684"
      ]
     },
     "execution_count": 101,
     "metadata": {},
     "output_type": "execute_result"
    }
   ],
   "source": [
    "print('Score: ')\n",
    "gbr.score(X_test, y_test)"
   ]
  },
  {
   "cell_type": "code",
   "execution_count": 102,
   "id": "f1f7ec62",
   "metadata": {},
   "outputs": [
    {
     "name": "stdout",
     "output_type": "stream",
     "text": [
      "MAE: 724.2069730608146\n",
      "MSE: 1037049.3204232393\n",
      "RMSE: 1018.3561854396718\n"
     ]
    }
   ],
   "source": [
    "print('MAE:', metrics.mean_absolute_error(y_test, gbrpredict))\n",
    "print('MSE:', metrics.mean_squared_error(y_test, gbrpredict))\n",
    "print('RMSE:', np.sqrt(metrics.mean_squared_error(y_test, gbrpredict)))"
   ]
  },
  {
   "cell_type": "markdown",
   "id": "46503cfe",
   "metadata": {},
   "source": [
    "# RandomForest Regressor"
   ]
  },
  {
   "cell_type": "markdown",
   "id": "c3e987c5",
   "metadata": {},
   "source": [
    "# Building and Training the model"
   ]
  },
  {
   "cell_type": "code",
   "execution_count": 103,
   "id": "2905d9a4",
   "metadata": {},
   "outputs": [],
   "source": [
    "from sklearn.ensemble import RandomForestRegressor"
   ]
  },
  {
   "cell_type": "code",
   "execution_count": 104,
   "id": "75d799c8",
   "metadata": {},
   "outputs": [],
   "source": [
    "rf = RandomForestRegressor()"
   ]
  },
  {
   "cell_type": "code",
   "execution_count": 106,
   "id": "964edecc",
   "metadata": {},
   "outputs": [
    {
     "data": {
      "text/plain": [
       "RandomForestRegressor()"
      ]
     },
     "execution_count": 106,
     "metadata": {},
     "output_type": "execute_result"
    }
   ],
   "source": [
    "rf.fit(X_train, y_train)"
   ]
  },
  {
   "cell_type": "markdown",
   "id": "afc3add9",
   "metadata": {},
   "source": [
    "# Predictions and Evaluation"
   ]
  },
  {
   "cell_type": "code",
   "execution_count": 107,
   "id": "cd00518e",
   "metadata": {},
   "outputs": [],
   "source": [
    "rfpredict = rf.predict(X_test)"
   ]
  },
  {
   "cell_type": "code",
   "execution_count": 108,
   "id": "3e1d1cb6",
   "metadata": {},
   "outputs": [
    {
     "name": "stdout",
     "output_type": "stream",
     "text": [
      "Score: \n"
     ]
    },
    {
     "data": {
      "text/plain": [
       "0.5692404490896519"
      ]
     },
     "execution_count": 108,
     "metadata": {},
     "output_type": "execute_result"
    }
   ],
   "source": [
    "print('Score: ')\n",
    "rf.score(X_test, y_test)"
   ]
  },
  {
   "cell_type": "code",
   "execution_count": 109,
   "id": "bcc43129",
   "metadata": {},
   "outputs": [
    {
     "name": "stdout",
     "output_type": "stream",
     "text": [
      "MAE: 762.2686316800939\n",
      "MSE: 1157284.5582898497\n",
      "RMSE: 1075.7716106543478\n"
     ]
    }
   ],
   "source": [
    "print('MAE:', metrics.mean_absolute_error(y_test, rfpredict))\n",
    "print('MSE:', metrics.mean_squared_error(y_test, rfpredict))\n",
    "print('RMSE:', np.sqrt(metrics.mean_squared_error(y_test, rfpredict)))"
   ]
  },
  {
   "cell_type": "markdown",
   "id": "6084b04c",
   "metadata": {},
   "source": [
    "We did not get results that we desired .\n",
    "\n",
    "So we will fine-tune 'max_depth' and 'n_estimators' parameters for our RandomForest Regressor by using GridSearch."
   ]
  },
  {
   "cell_type": "code",
   "execution_count": 110,
   "id": "fd34d193",
   "metadata": {},
   "outputs": [],
   "source": [
    "from sklearn.model_selection import GridSearchCV"
   ]
  },
  {
   "cell_type": "code",
   "execution_count": 111,
   "id": "9dbe0b98",
   "metadata": {},
   "outputs": [],
   "source": [
    "param_grid = {'max_depth':[2,3,4,5,6], 'n_estimators':[10, 50, 100, 150, 500, 1000]}"
   ]
  },
  {
   "cell_type": "code",
   "execution_count": 112,
   "id": "4d2824cb",
   "metadata": {},
   "outputs": [],
   "source": [
    "grid = GridSearchCV(RandomForestRegressor(), param_grid)"
   ]
  },
  {
   "cell_type": "code",
   "execution_count": 113,
   "id": "b04f10f3",
   "metadata": {},
   "outputs": [
    {
     "data": {
      "text/plain": [
       "GridSearchCV(estimator=RandomForestRegressor(),\n",
       "             param_grid={'max_depth': [2, 3, 4, 5, 6],\n",
       "                         'n_estimators': [10, 50, 100, 150, 500, 1000]})"
      ]
     },
     "execution_count": 113,
     "metadata": {},
     "output_type": "execute_result"
    }
   ],
   "source": [
    "grid.fit(X_train, y_train)"
   ]
  },
  {
   "cell_type": "markdown",
   "id": "866bd524",
   "metadata": {},
   "source": [
    "By performing GridSearch we get our best parameters as below for our RandomForest Regressor"
   ]
  },
  {
   "cell_type": "code",
   "execution_count": 114,
   "id": "7f723ce4",
   "metadata": {},
   "outputs": [
    {
     "data": {
      "text/plain": [
       "{'max_depth': 6, 'n_estimators': 150}"
      ]
     },
     "execution_count": 114,
     "metadata": {},
     "output_type": "execute_result"
    }
   ],
   "source": [
    "grid.best_params_"
   ]
  },
  {
   "cell_type": "markdown",
   "id": "d2428ed5",
   "metadata": {},
   "source": [
    "# Training with tuned - parameters"
   ]
  },
  {
   "cell_type": "code",
   "execution_count": 115,
   "id": "3e5444d5",
   "metadata": {},
   "outputs": [],
   "source": [
    "Rf = RandomForestRegressor(max_depth=5, n_estimators=50)"
   ]
  },
  {
   "cell_type": "code",
   "execution_count": 116,
   "id": "f4242290",
   "metadata": {},
   "outputs": [
    {
     "data": {
      "text/plain": [
       "RandomForestRegressor(max_depth=5, n_estimators=50)"
      ]
     },
     "execution_count": 116,
     "metadata": {},
     "output_type": "execute_result"
    }
   ],
   "source": [
    "Rf.fit(X_train, y_train)"
   ]
  },
  {
   "cell_type": "markdown",
   "id": "38290813",
   "metadata": {},
   "source": [
    "# Predictions and Evaluation"
   ]
  },
  {
   "cell_type": "code",
   "execution_count": 117,
   "id": "1f6cd817",
   "metadata": {},
   "outputs": [],
   "source": [
    "Rfpredict = Rf.predict(X_test)"
   ]
  },
  {
   "cell_type": "code",
   "execution_count": 118,
   "id": "8daef596",
   "metadata": {},
   "outputs": [
    {
     "data": {
      "text/plain": [
       "0.6103757428386347"
      ]
     },
     "execution_count": 118,
     "metadata": {},
     "output_type": "execute_result"
    }
   ],
   "source": [
    "Rf.score(X_test, y_test)"
   ]
  },
  {
   "cell_type": "markdown",
   "id": "f32cbb15",
   "metadata": {},
   "source": [
    "# Summarization"
   ]
  },
  {
   "cell_type": "markdown",
   "id": "5ff8b4ae",
   "metadata": {},
   "source": [
    "We performed Exploratory Data Analysis of the dataset of Big Mart Sales by looking at some amaing visualizations, we decided which variables can be good predictors and which variables on some modification can perform the task of a good predictor for the Sales.\n",
    "\n",
    "Then we performed feature engineering on our dataset as required. We modified some columns for the convenience of prediction. Label encoded the columns, and created dummy variables.\n",
    "\n",
    "In order to find a decent model to predict sales an extensive search of various machine learning models available in Python was performed."
   ]
  },
  {
   "cell_type": "markdown",
   "id": "edc380b3",
   "metadata": {},
   "source": [
    "# CONCLUSION"
   ]
  },
  {
   "cell_type": "markdown",
   "id": "a6ce3732",
   "metadata": {},
   "source": [
    "After an extensive search for models available under scikit-learn , the Python Machine Learning library, we decided to take one basic Linear Regression model, and two ensemble learners GradientBoosting Regressor and RandomForest Regressor.\n",
    "\n",
    "Results did not came as expected in case of Linear Regression as we got an accuracy score of 0.568.\n",
    "\n",
    "But the ensemble learners after tuning them for best parameters using GridSearch performed somewhat well.\n",
    "\n",
    "RandomForest Regressor gave an accuracy score of 0.609 with following Error values:"
   ]
  },
  {
   "cell_type": "raw",
   "id": "d2d9e776",
   "metadata": {},
   "source": [
    "MAE: 723.5123323379154\n",
    "MSE: 1048388.4585491928\n",
    "RMSE: 1023.9084229310708"
   ]
  },
  {
   "cell_type": "markdown",
   "id": "fd851ace",
   "metadata": {},
   "source": [
    "GradientBoosting Regressor gave an accuracy score 0f 0.61 with following Error values:"
   ]
  },
  {
   "cell_type": "raw",
   "id": "0f5c2d31",
   "metadata": {},
   "source": [
    "MAE: 724.2069730608146\n",
    "MSE: 1037049.3204232393\n",
    "RMSE: 1018.3561854396718"
   ]
  }
 ],
 "metadata": {
  "kernelspec": {
   "display_name": "Python 3 (ipykernel)",
   "language": "python",
   "name": "python3"
  },
  "language_info": {
   "codemirror_mode": {
    "name": "ipython",
    "version": 3
   },
   "file_extension": ".py",
   "mimetype": "text/x-python",
   "name": "python",
   "nbconvert_exporter": "python",
   "pygments_lexer": "ipython3",
   "version": "3.9.7"
  }
 },
 "nbformat": 4,
 "nbformat_minor": 5
}
